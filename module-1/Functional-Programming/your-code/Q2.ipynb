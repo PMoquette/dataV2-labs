{
 "cells": [
  {
   "cell_type": "markdown",
   "metadata": {},
   "source": [
    "Now we want to enhance the `get_bow_from_docs` function so that it will work with HTML webpages. In HTML, there are a lot of messy codes such as HTML tags, Javascripts, [unicodes](https://www.w3schools.com/charsets/ref_utf_misc_symbols.asp) that will mess up your bag of words. We need to clean up those junk before generating BoW.\n",
    "\n",
    "Next, what you will do is to define several new functions each of which is specialized to clean up the HTML codes in one aspect. For instance, you can have a `strip_html_tags` function to remove all HTML tags, a `remove_punctuation` function to remove all punctuation, a `to_lower_case` function to convert string to lowercase, and a `remove_unicode` function to remove all unicodes.\n",
    "\n",
    "Then in your `get_bow_from_doc` function, you will call each of those functions you created to clean up the HTML before you generate the corpus.\n",
    "\n",
    "Note: Please use Python string operations and regular expression only in this lab. Do not use extra libraries such as `beautifulsoup` because otherwise you loose the purpose of practicing."
   ]
  },
  {
   "cell_type": "code",
   "execution_count": 1,
   "metadata": {},
   "outputs": [],
   "source": [
    "import re"
   ]
  },
  {
   "cell_type": "code",
   "execution_count": 2,
   "metadata": {},
   "outputs": [],
   "source": [
    "# Define your string handling functions below\n",
    "# Minimal 3 functions\n",
    "def strip_html_tags(text):\n",
    "    clean_text = re.compile(r'<.*?>')\n",
    "    return clean_text.sub('', text)\n",
    "\n"
   ]
  },
  {
   "cell_type": "code",
   "execution_count": 4,
   "metadata": {},
   "outputs": [
    {
     "data": {
      "text/plain": [
       "'This is test. Enter any text. The place is really beautiful.'"
      ]
     },
     "execution_count": 4,
     "metadata": {},
     "output_type": "execute_result"
    }
   ],
   "source": [
    "string = \"<b>This is test.</b><p> Enter any text.</p><div> The place is really beautiful.</div><img src=''>\";\n",
    "strip_html_tags(string)"
   ]
  },
  {
   "cell_type": "code",
   "execution_count": 5,
   "metadata": {},
   "outputs": [],
   "source": [
    "def remove_punctuation(text):\n",
    "    zero_punctuation = re.sub(r'[^\\w\\s]','',text)\n",
    "    return zero_punctuation"
   ]
  },
  {
   "cell_type": "code",
   "execution_count": 6,
   "metadata": {},
   "outputs": [
    {
     "data": {
      "text/plain": [
       "'This is test Enter any text The place is really beautiful'"
      ]
     },
     "execution_count": 6,
     "metadata": {},
     "output_type": "execute_result"
    }
   ],
   "source": [
    "string = 'This is test. Enter any text. The place is really beautiful.'\n",
    "\n",
    "remove_punctuation(string)"
   ]
  },
  {
   "cell_type": "code",
   "execution_count": 7,
   "metadata": {},
   "outputs": [],
   "source": [
    "def to_lower_case(text):\n",
    "    return text.lower()\n",
    "    "
   ]
  },
  {
   "cell_type": "code",
   "execution_count": 15,
   "metadata": {},
   "outputs": [],
   "source": [
    "def remove_escape_characters(text):\n",
    "    no_escape = re.sub(\"[^a-zA-Z' ]+\", '', text)\n",
    "    return no_escape"
   ]
  },
  {
   "cell_type": "markdown",
   "metadata": {},
   "source": [
    "Next, paste your previously written `get_bow_from_docs` function below. Call your functions above at the appropriate place."
   ]
  },
  {
   "cell_type": "code",
   "execution_count": 16,
   "metadata": {},
   "outputs": [],
   "source": [
    "def get_bow_from_docs(docs, stop_words=[]):\n",
    "    corpus = []\n",
    "    term_freq = []\n",
    "\n",
    "    corpus = [d.strip().lower().replace('.','') for d in docs]\n",
    "    \n",
    "    word_list = [d.split() for d in corpus]\n",
    "\n",
    "    word_list2 = [word for x in word_list for word in x]\n",
    "\n",
    "    bag_of_words = set(word_list2)\n",
    "\n",
    "    lst_bag_of_words = list(bag_of_words)\n",
    "    \n",
    "    for doc in word_list:\n",
    "        new_list = []\n",
    "        for word in lst_bag_of_words:\n",
    "            if word in doc:\n",
    "                new_list.append(1)\n",
    "            else:\n",
    "                new_list.append(0)\n",
    "        term_freq.append(new_list)\n",
    "            \n",
    "    return {\n",
    "        \"bag_of_words\": lst_bag_of_words,\n",
    "        \"term_freq\": term_freq\n",
    "        }\n",
    "\n",
    "    "
   ]
  },
  {
   "cell_type": "markdown",
   "metadata": {},
   "source": [
    "Next, read the content from the three HTML webpages in the `your-codes` directory to test your function."
   ]
  },
  {
   "cell_type": "code",
   "execution_count": 17,
   "metadata": {},
   "outputs": [
    {
     "name": "stdout",
     "output_type": "stream",
     "text": [
      "{'bag_of_words': ['enwikipediaorg_data_analysishtml', 'wwwcoursereportcom_ironhackhtml', 'wwwlipsumcomhtml'], 'term_freq': [[0, 1, 0], [1, 0, 0], [0, 0, 1]]}\n"
     ]
    }
   ],
   "source": [
    "from sklearn.feature_extraction import stop_words\n",
    "bow = get_bow_from_docs([\n",
    "        'www.coursereport.com_ironhack.html',\n",
    "        'en.wikipedia.org_Data_analysis.html',\n",
    "        'www.lipsum.com.html'\n",
    "    ],\n",
    "    stop_words.ENGLISH_STOP_WORDS\n",
    ")\n",
    "\n",
    "print(bow)"
   ]
  },
  {
   "cell_type": "markdown",
   "metadata": {},
   "source": [
    "Do you see any problem in the output? How do you improve the output?\n",
    "\n",
    "A good way to improve your codes is to look into the HTML data sources and try to understand where the messy output came from. A good data analyst always learns about the data in depth in order to perform the job well.\n",
    "\n",
    "Spend 20-30 minutes to improve your functions or until you feel you are good at string operations. This lab is just a practice so you don't need to stress yourself out. If you feel you've practiced enough you can stop and move on the next challenge question."
   ]
  },
  {
   "cell_type": "code",
   "execution_count": 10,
   "metadata": {},
   "outputs": [],
   "source": [
    "f = open(\"en.wikipedia.org_Data_analysis.html\", \"r\", encoding =\"utf8\")\n",
    "if f.mode == \"r\":\n",
    "    contents = f.readlines()"
   ]
  },
  {
   "cell_type": "code",
   "execution_count": 19,
   "metadata": {},
   "outputs": [],
   "source": [
    "contents = ''.join(contents)\n",
    "contents = strip_html_tags(contents)\n",
    "contents = remove_punctuation(contents)\n",
    "contents = to_lower_case(contents)\n",
    "contents = remove_escape_characters(contents)"
   ]
  },
  {
   "cell_type": "code",
   "execution_count": 20,
   "metadata": {},
   "outputs": [
    {
     "data": {
      "text/plain": [
       "'data analysis  wikipediadata analysisfrom wikipedia the free encyclopediajump to navigationjump to searchpart of a series on statisticsdata visualizationmajor dimensionsexploratory data analysis information designinteractive data visualizationdescriptive statistics inferential statisticsstatistical graphics plotdata analysis  infographicdata scienceimportant figurestamara munzner  ben shneiderman  john w tukey  edward tufte  fernanda vigas  hadley wickhaminformation graphic typesline chart  bar charthistogram scatterplotboxplot pareto chartpie chart area chartcontrol chart  run chartstemandleaf display cartogramsmall multiple sparklinetablerelated topicsdatainformationbig data databasechartjunk visual perceptionregression analysis statistical modelmisleading graphvtecomputational physicsnumerical analysissimulationdata analysisvisualizationpotentialsmorselongrange potentiallennardjones potentialyukawa potentialmorse potentialfluid dynamicsfinite differencefinite volumefinite elementboundary element lattice boltzmannriemann solverdissipative particle dynamicssmoothed particle hydrodynamicsturbulence modelsmonte carlo methodsintegrationgibbs samplingmetropolis algorithmparticlenbodyparticleincellmolecular dynamicsscientistsgodunovulam von neumanngalerkin lorenzwilsonvtedata analysis is a process of inspecting cleansing transforming and modeling data with the goal of discovering useful information informing conclusions and supporting decisionmaking data analysis has multiple facets and approaches encompassing diverse techniques under a variety of names while being used in different business science and social science domainsdata mining is a particular data analysis technique that focuses on modeling and knowledge discovery for predictive rather than purely descriptive purposes while business intelligence covers data analysis that relies heavily on aggregation focusing mainly on business information in statistical applications data analysis can be divided into descriptive statistics exploratory data analysis eda and confirmatory data analysis cda eda focuses on discovering new features in the data while cda focuses on confirming or falsifying existing hypotheses predictive analytics focuses on application of statistical models for predictive forecasting or classification while text analytics applies statistical linguistic and structural techniques to extract and classify information from textual sources a species of unstructured data all of the above are varieties of data analysisdata integration is a precursor to data analysisaccording to whom and data analysis is closely linkedhow to data visualization and data dissemination the term data analysis is sometimes used as a synonym for data modelingcontents the process of data analysis data requirements data collection data processing data cleaning exploratory data analysis modeling and algorithms data product communication quantitative messages techniques for analyzing quantitative data analytical activities of data users barriers to effective analysis confusing fact and opinion cognitive biases innumeracy other topics smart buildings analytics and business intelligence education practitioner notes initial data analysis quality of data quality of measurements initial transformations did the implementation of the study fulfill the intentions of the research design characteristics of data sample final stage of the initial data analysis analysis nonlinear analysis main data analysis exploratory and confirmatory approaches stability of results statistical methods free software for data analysis international data analysis contests see also references citations bibliography further readingthe process of data analysisedit  data science process flowchart from doing data science cathy oneil and rachel schutt analysis refers to breaking a whole into its separate components for individual examination data analysis is a process for obtaining raw data and converting it into information useful for decisionmaking by users data is collected and analyzed to answer questions test hypotheses or disprove theoriesstatistician john tukey defined data analysis in  as procedures for analyzing data techniques for interpreting the results of such procedures ways of planning the gathering of data to make its analysis easier more precise or more accurate and all the machinery and results of mathematical statistics which apply to analyzing datathere are several phases that can be distinguished described below the phases are iterative in that feedback from later phases may result in additional work in earlier phasesdata requirementseditthe data is necessary as inputs to the analysis which is specified based upon the requirements of those directing the analysis or customers who will use the finished product of the analysis the general type of entity upon which the data will be collected is referred to as an experimental unit eg a person or population of people specific variables regarding a population eg age and income may be specified and obtained  data may be numerical or categorical ie a text label for numbersdata collectioneditdata is collected from a variety of sources the requirements may be communicated by analysts to custodians of the data such as information technology personnel within an organization the data may also be collected from sensors in the environment such as traffic cameras satellites recording devices etc it may also be obtained through interviews  downloads from online sources or reading documentationdata processingedit  the phases of the intelligence cycle used to convert raw information into actionable intelligence or knowledge are conceptually similar to the phases in data analysisdata initially obtained must be processed or organised for analysis for instance these may involve placing data into rows and columns in a table format ie structured data for further analysis such as within a spreadsheet or statistical softwaredata cleaningeditonce processed and organised the data may be incomplete contain duplicates or contain errors the need for data cleaning will arise from problems in the way that data is entered and stored data cleaning is the process of preventing and correcting these errors common tasks include record matching identifying inaccuracy of data overall quality of existing data deduplication and column segmentation such data problems can also be identified through a variety of analytical techniques for example with financial information the totals for particular variables may be compared against separately published numbers believed to be reliable unusual amounts above or below predetermined thresholds may also be reviewed  there are several types of data cleaning that depend on the type of data such as phone numbers email addresses employers etc  quantitative data methods for outlier detection can be used to get rid of likely incorrectly entered data textual data spell checkers can be used to lessen the amount of mistyped words but it is harder to tell if the words themselves are correctexploratory data analysiseditonce the data is cleaned it can be analyzed analysts may apply a variety of techniques referred to as exploratory data analysis to begin understanding the messages contained in the data the process of exploration may result in additional data cleaning or additional requests for data so these activities may be iterative in nature descriptive statistics such as the average or median may be generated to help understand the data data visualization may also be used to examine the data in graphical format to obtain additional insight regarding the messages within the datamodeling and algorithmseditmathematical formulas or models called algorithms may be applied to the data to identify relationships among the variables such as correlation or causation in general terms models may be developed to evaluate a particular variable in the data based on other variables in the data with some residual error depending on model accuracy ie data  model  errorinferential statistics includes techniques to measure relationships between particular variables  for example regression analysis may be used to model whether a change in advertising independent variable x explains the variation in sales dependent variable y in mathematical terms y sales is a function of x advertising it may be described as y  ax  b  error where the model is designed such that a and b minimize the error when the model predicts y for a given range of values of x analysts may attempt to build models that are descriptive of the data to simplify analysis and communicate resultsdata productedita data product is a computer application that takes data inputs and generates outputs feeding them back into the environment it may be based on a model or algorithm an example is an application that analyzes data about customer purchasing history and recommends other purchases the customer might enjoycommunicationedit  data visualization to understand the results of a data analysismain article data visualizationonce the data is analyzed it may be reported in many formats to the users of the analysis to support their requirements the users may have feedback which results in additional analysis as such much of the analytical cycle is iterativewhen determining how to communicate the results the analyst may consider data visualization techniques to help clearly and efficiently communicate the message to the audience data visualization uses information displays such as tables and charts to help communicate key messages contained in the data tables are helpful to a user who might lookup specific numbers while charts eg bar charts or line charts may help explain the quantitative messages contained in the dataquantitative messageseditmain article data visualization  a time series illustrated with a line chart demonstrating trends in us federal spending and revenue over time  a scatterplot illustrating correlation between two variables inflation and unemployment measured at points in timestephen few described eight types of quantitative messages that users may attempt to understand or communicate from a set of data and the associated graphs used to help communicate the message customers specifying requirements and analysts performing the data analysis may consider these messages during the course of the processtimeseries a single variable is captured over a period of time such as the unemployment rate over a year period a line chart may be used to demonstrate the trendranking categorical subdivisions are ranked in ascending or descending order such as a ranking of sales performance the measure by sales persons the category with each sales person a categorical subdivision during a single period  a bar chart may be used to show the comparison across the sales personsparttowhole categorical subdivisions are measured as a ratio to the whole ie a percentage out of   a pie chart or bar chart can show the comparison of ratios such as the market share represented by competitors in a marketdeviation categorical subdivisions are compared against a reference such as a comparison of actual vs budget expenses for several departments of a business for a given time period  a bar chart can show comparison of the actual versus the reference amountfrequency distribution shows the number of observations of a particular variable for given interval such as the number of years in which the stock market return is between intervals such as   etc a histogram a type of bar chart may be used for this analysiscorrelation comparison between observations represented by two variables xy to determine if they tend to move in the same or opposite directions for example plotting unemployment x and inflation y for a sample of months a scatter plot is typically used for this messagenominal comparison comparing categorical subdivisions in no particular order such as the sales volume by product code a bar chart may be used for this comparisongeographic or geospatial comparison of a variable across a map or layout such as the unemployment rate by state or the number of persons on the various floors of a building a cartogram is a typical graphic usedtechniques for analyzing quantitative dataeditsee also problem solvingauthor jonathan koomey has recommended a series of best practices for understanding quantitative data  these includecheck raw data for anomalies prior to performing your analysisreperform important calculations such as verifying columns of data that are formula drivenconfirm main totals are the sum of subtotalscheck relationships between numbers that should be related in a predictable way such as ratios over timenormalize numbers to make comparisons easier such as analyzing amounts per person or relative to gdp or as an index value relative to a base yearbreak problems into component parts by analyzing factors that led to the results such as dupont analysis of return on equityfor the variables under examination analysts typically obtain descriptive statistics for them such as the mean average median and standard deviation they may also analyze the distribution of the key variables to see how the individual values cluster around the mean  an illustration of the mece principle used for data analysis the consultants at mckinsey and company named a technique for breaking a quantitative problem down into its component parts called the mece principle each layer can be broken down into its components each of the subcomponents must be mutually exclusive of each other and collectively add up to the layer above them the relationship is referred to as mutually exclusive and collectively exhaustive or mece  for example profit by definition can be broken down into total revenue and total cost in turn total revenue can be analyzed by its components such as revenue of divisions a b and c which are mutually exclusive of each other and should add to the total revenue collectively exhaustiveanalysts may use robust statistical measurements to solve certain analytical problems hypothesis testing is used when a particular hypothesis about the true state of affairs is made by the analyst and data is gathered to determine whether that state of affairs is true or false for example the hypothesis might be that unemployment has no effect on inflation which relates to an economics concept called the phillips curve hypothesis testing involves considering the likelihood of type i and type ii errors which relate to whether the data supports accepting or rejecting the hypothesisregression analysis may be used when the analyst is trying to determine the extent to which independent variable x affects dependent variable y eg to what extent do changes in the unemployment rate x affect the inflation rate y this is an attempt to model or fit an equation line or curve to the data such that y is a function of xnecessary condition analysis nca may be used when the analyst is trying to determine the extent to which independent variable x allows variable y eg to what extent is a certain unemployment rate x necessary for a certain inflation rate y whereas multiple regression analysis uses additive logic where each xvariable can produce the outcome and the xs can compensate for each other they are sufficient but not necessary necessary condition analysis nca uses necessity logic where one or more xvariables allow the outcome to exist but may not produce it they are necessary but not sufficient each single necessary condition must be present and compensation is not possibleanalytical activities of data userseditusers may have particular data points of interest within a data set as opposed to general messaging outlined above such lowlevel user analytic activities are presented in the following table the taxonomy can also be organized by three poles of activities retrieving values finding data points and arranging data pointstaskgeneraldescriptionpro formaabstractexamplesretrieve valuegiven a set of specific cases find attributes of those caseswhat are the values of attributes x y z  in the data cases a b c  what is the mileage per gallon of the ford mondeo how long is the movie gone with the wind filtergiven some concrete conditions on attribute values find data cases satisfying those conditionswhich data cases satisfy conditions a b c what kelloggs cereals have high fiber what comedies have won awards which funds underperformed the spcompute derived valuegiven a set of data cases compute an aggregate numeric representation of those data caseswhat is the value of aggregation function f over a given set s of data cases what is the average calorie content of post cereals what is the gross income of all stores combined how many manufacturers of cars are therefind extremumfind data cases possessing an extreme value of an attribute over its range within the data setwhat are the topbottom n data cases with respect to attribute a what is the car with the highest mpg what directorfilm has won the most awards what marvel studios film has the most recent release datesortgiven a set of data cases rank them according to some ordinal metricwhat is the sorted order of a set s of data cases according to their value of attribute a order the cars by weight rank the cereals by caloriesdetermine rangegiven a set of data cases and an attribute of interest find the span of values within the setwhat is the range of values of attribute a in a set s of data cases what is the range of film lengths what is the range of car horsepowers what actresses are in the data setcharacterize distributiongiven a set of data cases and a quantitative attribute of interest characterize the distribution of that attributes values over the setwhat is the distribution of values of attribute a in a set s of data cases what is the distribution of carbohydrates in cereals what is the age distribution of shoppersfind anomaliesidentify any anomalies within a given set of data cases with respect to a given relationship or expectation eg statistical outlierswhich data cases in a set s of data cases have unexpectedexceptional values are there exceptions to the relationship between horsepower and acceleration are there any outliers in proteinclustergiven a set of data cases find clusters of similar attribute valueswhich data cases in a set s of data cases are similar in value for attributes x y z  are there groups of cereals w similar fatcaloriessugar is there a cluster of typical film lengthscorrelategiven a set of data cases and two attributes determine useful relationships between the values of those attributeswhat is the correlation between attributes x and y over a given set s of data cases is there a correlation between carbohydrates and fat is there a correlation between country of origin and mpg do different genders have a preferred payment method is there a trend of increasing film length over the years contextualizationgiven a set of data cases find contextual relevancy of the data to the userswhich data cases in a set s of data cases are relevant to the current users context are there groups of restaurants that have foods based on my current caloric intakebarriers to effective analysiseditbarriers to effective analysis may exist among the analysts performing the data analysis or among the audience distinguishing fact from opinion cognitive biases and innumeracy are all challenges to sound data analysisconfusing fact and opinioneditmwparseroutput quoteboxbackgroundcolorfffborderpx solid aaaboxsizingborderboxpaddingpxfontsizemwparseroutput quoteboxfloatleftmarginem em em mwparseroutput quoteboxfloatrightmarginem  em emmwparseroutput quoteboxcenteredmarginem auto em automwparseroutput quoteboxfloatleft pmwparseroutput quoteboxfloatright pfontstyleinheritmwparseroutput quoteboxtitlebackgroundcolorffftextaligncenterfontsizelargerfontweightboldmwparseroutput quoteboxquotequotedbeforefontfamilytimes new romanseriffontweightboldfontsizelargecolorgraycontent  verticalalignlineheightmwparseroutput quoteboxquotequotedafterfontfamilytimes new romanseriffontweightboldfontsizelargecolorgraycontent  lineheightmwparseroutput quotebox leftalignedtextalignleftmwparseroutput quotebox rightalignedtextalignrightmwparseroutput quotebox centeralignedtextaligncentermwparseroutput quotebox citedisplayblockfontstylenormalmedia screen and maxwidthpxmwparseroutput quoteboxminwidthmargin  emimportantfloatnoneimportantyou are entitled to your own opinion but you are not entitled to your own factsdaniel patrick moynihaneffective analysis requires obtaining relevant facts to answer questions support a conclusion or formal opinion or test hypotheses facts by definition are irrefutable meaning that any person involved in the analysis should be able to agree upon them for example in august  the congressional budget office cbo estimated that extending the bush tax cuts of  and  for the  time period would add approximately  trillion to the national debt everyone should be able to agree that indeed this is what cbo reported they can all examine the report this makes it a fact whether persons agree or disagree with the cbo is their own opinionas another example the auditor of a public company must arrive at a formal opinion on whether financial statements of publicly traded corporations are fairly stated in all material respects this requires extensive analysis of factual data and evidence to support their opinion when making the leap from facts to opinions there is always the possibility that the opinion is erroneouscognitive biaseseditthere are a variety of cognitive biases that can adversely affect analysis for example confirmation bias is the tendency to search for or interpret information in a way that confirms ones preconceptions in addition individuals may discredit information that does not support their viewsanalysts may be trained specifically to be aware of these biases and how to overcome them in his book psychology of intelligence analysis retired cia analyst richards heuer wrote that analysts should clearly delineate their assumptions and chains of inference and specify the degree and source of the uncertainty involved in the conclusions he emphasized procedures to help surface and debate alternative points of viewinnumeracyediteffective analysts are generally adept with a variety of numerical techniques however audiences may not have such literacy with numbers or numeracy they are said to be innumerate  persons communicating the data may also be attempting to mislead or misinform deliberately using bad numerical techniquesfor example whether a number is rising or falling may not be the key factor more important may be the number relative to another number such as the size of government revenue or spending relative to the size of the economy gdp or the amount of cost relative to revenue in corporate financial statements this numerical technique is referred to as normalization or commonsizing there are many such techniques employed by analysts whether adjusting for inflation ie comparing real vs nominal data or considering population increases demographics etc analysts apply a variety of techniques to address the various quantitative messages described in the section aboveanalysts may also analyze data under different assumptions or scenarios for example when analysts perform financial statement analysis they will often recast the financial statements under different assumptions to help arrive at an estimate of future cash flow which they then discount to present value based on some interest rate to determine the valuation of the company or its stock  similarly the cbo analyzes the effects of various policy options on the governments revenue outlays and deficits creating alternative future scenarios for key measuresother topicseditsmart buildingsedita data analytics approach can be used in order to predict energy consumption in buildings the different steps of the data analysis process are carried out in order to realise smart buildings where the building management and control operations including heating ventilation air conditioning lighting and security are realised automatically by miming the needs of the building users and optimising resources like energy and timeanalytics and business intelligenceeditmain article analyticsanalytics is the extensive use of data statistical and quantitative analysis explanatory and predictive models and factbased management to drive decisions and actions it is a subset of business intelligence which is a set of technologies and processes that use data to understand and analyze business performanceeducationedit  analytic activities of data visualization usersin education most educators have access to a data system for the purpose of analyzing student data these data systems present data to educators in an overthecounter data format embedding labels supplemental documentation and a help system and making key packagedisplay and content decisions to improve the accuracy of educators data analysespractitioner noteseditthis section contains rather technical explanations that may assist practitioners but are beyond the typical scope of a wikipedia articleinitial data analysiseditthe most important distinction between the initial data analysis phase and the main analysis phase is that during initial data analysis one refrains from any analysis that is aimed at answering the original research question the initial data analysis phase is guided by the following four questionsquality of dataeditthe quality of the data should be checked as early as possible data quality can be assessed in several ways using different types of analysis frequency counts descriptive statistics mean standard deviation median normality skewness kurtosis frequency histograms n variables are compared with coding schemes of variables external to the data set and possibly corrected if coding schemes are not comparabletest for commonmethod variancethe choice of analyses to assess the data quality during the initial data analysis phase depends on the analyses that will be conducted in the main analysis phasequality of measurementseditthe quality of the measurement instruments should only be checked during the initial data analysis phase when this is not the focus or research question of the study one should check whether structure of measurement instruments corresponds to structure reported in the literaturethere are two ways to assess measurement note only one way seems to be listedanalysis of homogeneity internal consistency which gives an indication of the reliability of a measurement instrument during this analysis one inspects the variances of the items and the scales the cronbachs  of the scales and the change in the cronbachs alpha when an item would be deleted from a scaleinitial transformationseditafter assessing the quality of the data and of the measurements one might decide to impute missing data or to perform initial transformations of one or more variables although this can also be done during the main analysis phasepossible transformations of variables aresquare root transformation if the distribution differs moderately from normallogtransformation if the distribution differs substantially from normalinverse transformation if the distribution differs severely from normalmake categorical ordinal  dichotomous if the distribution differs severely from normal and no transformations helpdid the implementation of the study fulfill the intentions of the research designeditone should check the success of the randomization procedure for instance by checking whether background and substantive variables are equally distributed within and across groups if the study did not need or use a randomization procedure one should check the success of the nonrandom sampling for instance by checking whether all subgroups of the population of interest are represented in sampleother possible data distortions that should be checked aredropout this should be identified during the initial data analysis phaseitem nonresponse whether this is random or not should be assessed during the initial data analysis phasetreatment quality using manipulation checkscharacteristics of data sampleeditin any report or article the structure of the sample must be accurately described it is especially important to exactly determine the structure of the sample and specifically the size of the subgroups when subgroup analyses will be performed during the main analysis phasethe characteristics of the data sample can be assessed by looking atbasic statistics of important variablesscatter plotscorrelations and associationscrosstabulationsfinal stage of the initial data analysiseditduring the final stage the findings of the initial data analysis are documented and necessary preferable and possible corrective actions are takenalso the original plan for the main data analyses can and should be specified in more detail or rewritten in order to do this several decisions about the main data analyses can and should be madein the case of nonnormals should one transform variables make variables categorical ordinaldichotomous adapt the analysis methodin the case of missing data should one neglect or impute the missing data which imputation technique should be usedin the case of outliers should one use robust analysis techniquesin case items do not fit the scale should one adapt the measurement instrument by omitting items or rather ensure comparability with other uses of the measurement instrumentsin the case of too small subgroups should one drop the hypothesis about intergroup differences or use small sample techniques like exact tests or bootstrappingin case the randomization procedure seems to be defective can and should one calculate propensity scores and include them as covariates in the main analysesanalysiseditseveral analyses can be used during the initial data analysis phaseunivariate statistics single variablebivariate associations correlationsgraphical techniques scatter plotsit is important to take the measurement levels of the variables into account for the analyses as special statistical techniques are available for each levelnominal and ordinal variablesfrequency counts numbers and percentagesassociationscircumambulations crosstabulationshierarchical loglinear analysis restricted to a maximum of  variablesloglinear analysis to identify relevantimportant variables and possible confoundersexact tests or bootstrapping in case subgroups are smallcomputation of new variablescontinuous variablesdistributionstatistics m sd variance skewness kurtosisstemandleaf displaysbox plotsnonlinear analysiseditnonlinear analysis will be necessary when the data is recorded from a nonlinear system nonlinear systems can exhibit complex dynamic effects including bifurcations chaos harmonics and subharmonics that cannot be analyzed using simple linear methods  nonlinear data analysis is closely related to nonlinear system identificationmain data analysiseditin the main analysis phase analyses aimed at answering the research question are performed as well as any other relevant analysis needed to write the first draft of the research reportexploratory and confirmatory approacheseditin the main analysis phase either an exploratory or confirmatory approach can be adopted usually the approach is decided before data is collected in an exploratory analysis no clear hypothesis is stated before analysing the data and the data is searched for models that describe the data well in a confirmatory analysis clear hypotheses about the data are testedexploratory data analysis should be interpreted carefully when testing multiple models at once there is a high chance on finding at least one of them to be significant but this can be due to a type  error it is important to always adjust the significance level when testing multiple models with for example a bonferroni correction also one should not follow up an exploratory analysis with a confirmatory analysis in the same dataset an exploratory analysis is used to find ideas for a theory but not to test that theory as well when a model is found exploratory in a dataset then following up that analysis with a confirmatory analysis in the same dataset could simply mean that the results of the confirmatory analysis are due to the same type  error that resulted in the exploratory model in the first place the confirmatory analysis therefore will not be more informative than the original exploratory analysisstability of resultseditit is important to obtain some indication about how generalizable the results are while this is hard to check one can look at the stability of the results are the results reliable and reproducible there are two main ways of doing thiscrossvalidation by splitting the data in multiple parts we can check if an analysis like a fitted model based on one part of the data generalizes to another part of the data as wellsensitivity analysis a procedure to study the behavior of a system or model when global parameters are systematically varied one way to do this is with bootstrappingstatistical methodseditmany statistical methods have been used for statistical analyses a very brief list of four of the more popular methods isgeneral linear model a widely used model on which various methods are based eg t test anova ancova manova usable for assessing the effect of several predictors on one or more continuous dependent variablesgeneralized linear model an extension of the general linear model for discrete dependent variablesstructural equation modelling usable for assessing latent structures from measured manifest variablesitem response theory models for mostly assessing one latent variable from several binary measured variables eg an examfree software for data analysiseditdevinfo  a database system endorsed by the united nations development group for monitoring and analyzing human developmentelki  data mining framework in java with data mining oriented visualization functionsknime  the konstanz information miner a user friendly and comprehensive data analytics frameworkorange  a visual programming tool featuring interactive data visualization and methods for statistical data analysis data mining and machine learningpast  free software for scientific data analysispaw  fortranc data analysis framework developed at cernr  a programming language and software environment for statistical computing and graphicsroot   c data analysis framework developed at cernscipy and pandas  python libraries for data analysisinternational data analysis contestseditdifferent companies or organizations hold a data analysis contests to encourage researchers utilize their data or to solve a particular question using data analysis a few examples of wellknown international data analysis contests are as follows kaggle competition held by kaggleltpp data analysis contest held by fhwa and ascesee alsoeditstatistics portalactuarial scienceanalyticsbig databusiness intelligencecensoring statisticscomputational physicsdata acquisitiondata blendingdata governancedata miningdata presentation architecturedata sciencedigital signal processingdimension reductionearly case assessmentexploratory data analysisfourier analysismachine learningmultilinear pcamultilinear subspace learningmultiway data analysisnearest neighbor searchnonlinear system identificationpredictive analyticsprincipal component analysisqualitative researchscientific computingstructured data analysis statisticssystem identificationtest methodtext analyticsunstructured datawaveletreferenceseditcitationsedit exploring data analysis a b c judd charles and mccleland gary  data analysis harcourt brace jovanovich isbnmwparseroutput citecitationfontstyleinheritmwparseroutput qquotesmwparseroutput codecscodecolorinheritbackgroundinheritborderinheritpaddinginheritmwparseroutput cslockfree abackgroundurluploadwikimediaorgwikipediacommonsthumblockgreensvgpxlockgreensvgpngnorepeatbackgroundpositionright em centermwparseroutput cslocklimited amwparseroutput cslockregistration abackgroundurluploadwikimediaorgwikipediacommonsthumbddlockgrayaltsvgpxlockgrayaltsvgpngnorepeatbackgroundpositionright em centermwparseroutput cslocksubscription abackgroundurluploadwikimediaorgwikipediacommonsthumbaaalockredaltsvgpxlockredaltsvgpngnorepeatbackgroundpositionright em centermwparseroutput cssubscriptionmwparseroutput csregistrationcolormwparseroutput cssubscription spanmwparseroutput csregistration spanborderbottompx dottedcursorhelpmwparseroutput cshiddenerrordisplaynonefontsizemwparseroutput csvisibleerrorfontsizemwparseroutput cssubscriptionmwparseroutput csregistrationmwparseroutput csformatfontsizemwparseroutput cskernleftmwparseroutput cskernwlleftpaddingleftemmwparseroutput cskernrightmwparseroutput cskernwlrightpaddingrightem john tukeythe future of data analysisjuly  a b c d e f g oneil cathy and schutt rachel  doing data science oreilly isbn clean data in crm the key to generate salesready leads and boost your revenue pool retrieved th july  data cleaning microsoft research retrieved  october  a b c perceptual edgejonathan koomeybest practices for understanding quantitative datafebruary   hellerstein joseph  february  quantitative data cleaning for large databases pdf eecs computer science division  retrieved  october  stephen fewperceptual edgeselecting the right graph for your messageseptember  behrensprinciples and procedures of exploratory data analysisamerican psychological association grandjean martin  la connaissance est un rseau pdf les cahiers du numrique    doilcn stephen fewperceptual edgeselecting the right graph for your message stephen fewperceptual edgegraph selection matrix robert amar james eagan and john stasko  lowlevel components of analytic activity in information visualization william newman  a preliminary analysis of the products of hci research using pro forma abstracts mary shaw  what makes good research in software engineering a b contaas an approach to internetscale contextualisation for developing efficient internet of things applications scholarspace hicss retrieved may   congressional budget officethe budget and economic outlookaugust table  on page  pdf retrieved  introduction ciagov bloombergbarry ritholzbad math that passes for insightoctober   gonzlezvidal aurora morenocano victoria  towards energy efficiency smart buildings models based on intelligent data analytics procedia computer science  elsevier  doijprocs davenport thomas and harris jeanne  competing on analytics oreilly isbn aarons d  report finds states on course to build pupildata systems education week   rankin j  march  how data systems amp reports can either fight or propagate the data analysis error epidemic and how educator leaders can help presentation conducted from technology information center for administrative leadership tical school leadership summit adr a p adr a pp adr a pp adr a p tabachnick amp fidell  p  adr a pp adr a p adr a pp adr a pp adr a pp billings sa nonlinear system identification narmax methods in the time frequency and spatiotemporal domains wiley  adr b p adr b pp adr b pp the machine learning community takes on the higgs symmetry magazine july   retrieved  january  nehme jean september   ltpp international data analysis contest federal highway administration retrieved october   datagovlongterm pavement performance ltpp may   retrieved november  bibliographyeditadr herman j a chapter  phases and initial steps in data analysis  in adr herman j mellenbergh gideon j hand david j advising on research methods a consultants companion huizen netherlands johannes van kessel pub pp isbn oclcadr herman j b chapter  the main analysis phase  in adr herman j mellenbergh gideon j hand david j advising on research methods a consultants companion huizen netherlands johannes van kessel pub pp isbn oclctabachnick bg amp fidell ls  chapter  cleaning up your act screening data prior to analysis in bg tabachnick amp ls fidell eds using multivariate statistics fifth edition pp boston pearson education inc  allyn and baconfurther readingeditwikiversity has learning resources about data analysisadr hj amp mellenbergh gj with contributions by dj hand  advising on research methods a consultants companion huizen the netherlands johannes van kessel publishingchambers john m cleveland william s kleiner beat tukey paul a  graphical methods for data analysis wadsworthduxbury press isbnxfandango armando  python data analysis nd edition packt publishersjuran joseph m godfrey a blanton  jurans quality handbook th edition new york mcgraw hill isbnxlewisbeck michael s  data analysis an introduction sage publications inc isbnnistsematech  handbook of statistical methodspyzdek t  quality engineering handbook isbnrichard veryard  pragmatic data analysis oxford blackwell scientific publications isbntabachnick bg fidell ls  using multivariate statistics th edition boston pearson education inc  allyn and bacon isbnauthority control gnd vtedataanalysisarchaeologycleansingcollectioncompressioncorruptioncurationdegradationeditingfarmingformat managementfusionintegrationintegritylibrarylossmanagementmigrationminingpreprocessingpreservationprotection privacyrecoveryreductionretentionqualitysciencescrapingscrubbingsecuritystewardshipstoragevalidationwarehousewranglingmunging newpp limit reportparsed by mwcached time cache expiry dynamic content falsecpu time usage  secondsreal time usage  secondspreprocessor visited node count preprocessor generated node count postexpand include size  bytestemplate argument size  byteshighest expansion depth expensive parser function count unstrip recursion depth unstrip postexpand size  bytesnumber of wikibase entities loaded lua time usage  secondslua memory usage  mb mbtransclusion expansion time report mscallstemplate         total          templatereflist           templatecitebook            templateisbn            templateaccordingtowhom            templatecitejournal            templateauthoritycontrol            templatesidebarwithcollapsiblelists            templatefixspan            templatedatavisualization saved in parser cache with key enwikipcacheidhashcanonical and timestamp  and revision id  retrieved from httpsenwikipediaorgwindexphptitledataanalysisampoldidcategories data analysisscientific methodparticle physicscomputational fields of studyhidden categories all articles with specifically marked weaselworded phrasesarticles with specifically marked weaselworded phrases from march wikipedia articles needing clarification from march wikipedia articles with gnd identifiersnavigation menupersonal toolsnot logged intalkcontributionscreate accountlog innamespacesarticletalkvariantsviewsreadeditview historymoresearchnavigationmain pagecontentsfeatured contentcurrent eventsrandom articledonate to wikipediawikipedia storeinteractionhelpabout wikipediacommunity portalrecent changescontact pagetoolswhat links hererelated changesupload filespecial pagespermanent linkpage informationwikidata itemcite this pageprintexportcreate a bookdownload as pdfprintable versionin other projectswikimedia commonslanguagesdeutscheestiespaolesperantofranaisitalianomagyarpolskiportugussuomiedit links this page was last edited on  october  at  utctext is available under the creative commons attributionsharealike licenseadditional terms may apply  by using this site you agree to the terms of use and privacy policy wikipedia is a registered trademark of the wikimedia foundation inc a nonprofit organizationprivacy policyabout wikipediadisclaimerscontact wikipediadeveloperscookie statementmobile view'"
      ]
     },
     "execution_count": 20,
     "metadata": {},
     "output_type": "execute_result"
    }
   ],
   "source": [
    "contents"
   ]
  },
  {
   "cell_type": "code",
   "execution_count": null,
   "metadata": {},
   "outputs": [],
   "source": []
  }
 ],
 "metadata": {
  "kernelspec": {
   "display_name": "Python 3",
   "language": "python",
   "name": "python3"
  },
  "language_info": {
   "codemirror_mode": {
    "name": "ipython",
    "version": 3
   },
   "file_extension": ".py",
   "mimetype": "text/x-python",
   "name": "python",
   "nbconvert_exporter": "python",
   "pygments_lexer": "ipython3",
   "version": "3.7.4"
  }
 },
 "nbformat": 4,
 "nbformat_minor": 2
}
