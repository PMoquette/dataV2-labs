{
 "cells": [
  {
   "cell_type": "markdown",
   "metadata": {},
   "source": [
    "In the cell below, create a Python function that wraps your previous solution for the Bag of Words lab.\n",
    "\n",
    "Requirements:\n",
    "\n",
    "1. Your function should accept the following parameters:\n",
    "    * `docs` [REQUIRED] - array of document paths.\n",
    "    * `stop_words` [OPTIONAL] - array of stop words. The default value is an empty array.\n",
    "\n",
    "1. Your function should return a Python object that contains the following:\n",
    "    * `bag_of_words` - array of strings of normalized unique words in the corpus.\n",
    "    * `term_freq` - array of the term-frequency vectors."
   ]
  },
  {
   "cell_type": "code",
   "execution_count": 1,
   "metadata": {},
   "outputs": [
    {
     "name": "stdout",
     "output_type": "stream",
     "text": [
      "[[0, 1, 0, 0, 1, 0, 1, 0, 0], [1, 1, 0, 0, 0, 0, 0, 0, 1], [0, 1, 1, 1, 0, 1, 0, 1, 1]]\n",
      "{'bag_of_words': ['love', 'ironhack', 'am', 'at', 'cool', 'student', 'is', 'a', 'i'], 'term_freq': [[0, 1, 0, 0, 1, 0, 1, 0, 0], [1, 1, 0, 0, 0, 0, 0, 0, 1], [0, 1, 1, 1, 0, 1, 0, 1, 1]]}\n"
     ]
    }
   ],
   "source": [
    "# Import required libraries\n",
    "doc1 = \"Ironhack is cool.\"\n",
    "doc2 = \"I love Ironhack.\"\n",
    "doc3 = \"I am a student at Ironhack.\"\n",
    "docs = [doc1, doc2, doc3]\n",
    "stop_words = []\n",
    "\n",
    "# Define function\n",
    "def get_bow_from_docs(docs, stop_words=[]):\n",
    "    corpus = []\n",
    "    bag_of_words = []\n",
    "    term_freq = []\n",
    "        \n",
    "    # In the function, first define the variables you will use such as `corpus`, `bag_of_words`, and `term_freq`.\n",
    "    \n",
    "    \n",
    "    \n",
    "    \"\"\"\n",
    "    Loop `docs` and read the content of each doc into a string in `corpus`.\n",
    "    Remember to convert the doc content to lowercases and remove punctuation.\n",
    "    \"\"\"\n",
    "    \n",
    "    corpus = [d.strip().lower().replace('.','') for d in docs]\n",
    "\n",
    "    \n",
    "    \n",
    "    \"\"\"\n",
    "    Loop `corpus`. Append the terms in each doc into the `bag_of_words` array. The terms in `bag_of_words` \n",
    "    should be unique which means before adding each term you need to check if it's already added to the array.\n",
    "    In addition, check if each term is in the `stop_words` array. Only append the term to `bag_of_words`\n",
    "    if it is not a stop word.\n",
    "    \"\"\"\n",
    "    word_list = [d.split() for d in corpus]\n",
    "\n",
    "\n",
    "    word_list2 = [word for x in word_list for word in x]\n",
    "\n",
    "\n",
    "    bag_of_words = set(word_list2)\n",
    "\n",
    "\n",
    "    lst_bag_of_words = list(bag_of_words)\n",
    "\n",
    "    \n",
    "    \n",
    "    \n",
    "    \"\"\"\n",
    "    Loop `corpus` again. For each doc string, count the number of occurrences of each term in `bag_of_words`. \n",
    "    Create an array for each doc's term frequency and append it to `term_freq`.\n",
    "    \"\"\"\n",
    "    term_freq = []\n",
    "    \n",
    "    for doc in word_list:\n",
    "        new_list = []\n",
    "        for word in lst_bag_of_words:\n",
    "            if word in doc:\n",
    "                new_list.append(1)\n",
    "            else:\n",
    "                new_list.append(0)\n",
    "        term_freq.append(new_list)\n",
    "    print(term_freq)\n",
    "            \n",
    "    return {\n",
    "        \"bag_of_words\": lst_bag_of_words,\n",
    "        \"term_freq\": term_freq\n",
    "        }\n",
    "    \n",
    "bow = get_bow_from_docs(docs, stop_words=[])\n",
    "\n",
    "print(bow)\n",
    "\n",
    "    # Now return your output as an object\n",
    "    #return {\"bag_of_words\": bag_of_words, \"term_freq\": term_freq}\n",
    "    "
   ]
  },
  {
   "cell_type": "markdown",
   "metadata": {},
   "source": [
    "Test your function without stop words. You should see the output like below:\n",
    "\n",
    "```{'bag_of_words': ['ironhack', 'is', 'cool', 'i', 'love', 'am', 'a', 'student', 'at'], 'term_freq': [[1, 1, 1, 0, 0, 0, 0, 0, 0], [1, 0, 0, 1, 1, 0, 0, 0, 0], [1, 0, 0, 1, 0, 1, 1, 1, 1]]}```"
   ]
  },
  {
   "cell_type": "code",
   "execution_count": 2,
   "metadata": {},
   "outputs": [
    {
     "name": "stdout",
     "output_type": "stream",
     "text": [
      "{'bag_of_words': ['love', 'ironhack', 'am', 'at', 'cool', 'student', 'is', 'a', 'i'], 'term_freq': [[0, 1, 0, 0, 1, 0, 1, 0, 0], [1, 1, 0, 0, 0, 0, 0, 0, 1], [0, 1, 1, 1, 0, 1, 0, 1, 1]]}\n"
     ]
    }
   ],
   "source": [
    "import re\n",
    "\n",
    "doc1 = \"Ironhack is cool.\"\n",
    "doc2 = \"I love Ironhack.\"\n",
    "doc3= \"I am a student at Ironhack.\"\n",
    "docs = [doc1, doc2, doc3]\n",
    "\n",
    "def get_bow_from_docs(docs, stop_words=[]):\n",
    "    corpus = []\n",
    "    term_freq = []\n",
    "\n",
    "    corpus = [d.strip().lower().replace('.','') for d in docs]\n",
    "    \n",
    "    word_list = [d.split() for d in corpus]\n",
    "\n",
    "    word_list2 = [word for x in word_list for word in x]\n",
    "\n",
    "    bag_of_words = set(word_list2)\n",
    "\n",
    "    lst_bag_of_words = list(bag_of_words)\n",
    "    \n",
    "    for doc in word_list:\n",
    "        new_list = []\n",
    "        for word in lst_bag_of_words:\n",
    "            if word in doc:\n",
    "                new_list.append(1)\n",
    "            else:\n",
    "                new_list.append(0)\n",
    "        term_freq.append(new_list)\n",
    "            \n",
    "    return {\n",
    "        \"bag_of_words\": lst_bag_of_words,\n",
    "        \"term_freq\": term_freq\n",
    "        }\n",
    "\n",
    "#get_bow_from_docs(docs, stop_words=[])\n",
    "\n",
    "bow = get_bow_from_docs(docs, stop_words=[])\n",
    "\n",
    "print(bow)"
   ]
  },
  {
   "cell_type": "markdown",
   "metadata": {},
   "source": [
    "If your attempt above is successful, nice work done!\n",
    "\n",
    "Now test your function again with the stop words. In the previous lab we defined the stop words in a large array. In this lab, we'll import the stop words from Scikit-Learn."
   ]
  },
  {
   "cell_type": "code",
   "execution_count": 45,
   "metadata": {},
   "outputs": [
    {
     "name": "stdout",
     "output_type": "stream",
     "text": [
      "frozenset({'whom', 'ever', 'yet', 'side', 'as', 'fifteen', 'could', 'have', 'upon', 'us', 'sincere', 'although', 'mill', 'sometimes', 'done', 'whereas', 'ourselves', 'nine', 'become', 'toward', 'sometime', 'something', 'un', 'been', 'hers', 'she', 'almost', 'whereby', 'amoungst', 'ten', 'in', 'am', 'again', 'you', 'at', 'became', 'its', 'wherever', 'both', 'next', 'without', 'ie', 'being', 'whatever', 'anyhow', 'detail', 'nothing', 'such', 'very', 'mine', 'now', 'whole', 'hereupon', 'made', 'towards', 'are', 'itself', 'back', 'cannot', 'somehow', 'everything', 'with', 'already', 'up', 'becomes', 'many', 'those', 'them', 'further', 'system', 'any', 'take', 'may', 'here', 'more', 'seems', 'hundred', 'meanwhile', 'found', 'please', 'themselves', 'himself', 'beyond', 'where', 'between', 'has', 'keep', 'call', 'whenever', 'our', 'get', 'through', 'per', 'full', 'they', 'about', 'therefore', 'co', 'would', 'everyone', 'once', 'thin', 'by', 'five', 'along', 'thus', 'might', 'mostly', 'either', 'neither', 'above', 'because', 'third', 'anywhere', 'can', 'every', 'an', 're', 'twelve', 'had', 'fire', 'often', 'own', 'some', 'these', 'still', 'a', 'cry', 'yourselves', 'show', 'noone', 'herein', 'if', 'first', 'de', 'no', 'empty', 'their', 'three', 'he', 'bottom', 'and', 'hereafter', 'how', 'who', 'another', 'most', 'whither', 'even', 'me', 'one', 'only', 'throughout', 'so', 'whoever', 'anything', 'serious', 'ltd', 'beside', 'well', 'seem', 'moreover', 'be', 'else', 'due', 'seemed', 'will', 'cant', 'that', 'least', 'via', 'off', 'etc', 'few', 'but', 'whereafter', 'thence', 'forty', 'whether', 'hasnt', 'alone', 'while', 'besides', 'around', 'describe', 'fifty', 'six', 'from', 'everywhere', 'elsewhere', 'not', 'give', 'nobody', 'though', 'yours', 'part', 'we', 'other', 'front', 'together', 'interest', 'ours', 'nevertheless', 'before', 'thereupon', 'put', 'afterwards', 'otherwise', 'eight', 'then', 'than', 'over', 'twenty', 'which', 'to', 'during', 'wherein', 'for', 'whereupon', 'name', 'inc', 'too', 'perhaps', 'when', 'behind', 'her', 'others', 'seeming', 'of', 'none', 'after', 'move', 'why', 'within', 'his', 'whence', 'two', 'several', 'same', 'sixty', 'much', 'four', 'hereby', 'last', 'herself', 'your', 'enough', 'someone', 'top', 'always', 'my', 'find', 'him', 'what', 'therein', 'across', 'until', 'there', 'go', 'myself', 'onto', 'below', 'the', 'anyway', 'fill', 'thereby', 'it', 'couldnt', 'namely', 'do', 'eleven', 'were', 'con', 'thick', 'nor', 'bill', 'is', 'out', 'this', 'latter', 'thereafter', 'under', 'on', 'except', 'see', 'latterly', 'down', 'must', 'never', 'nowhere', 'i', 'former', 'indeed', 'hence', 'however', 'less', 'since', 'among', 'also', 'amount', 'eg', 'into', 'somewhere', 'thru', 'was', 'becoming', 'anyone', 'beforehand', 'against', 'rather', 'all', 'formerly', 'or', 'amongst', 'each', 'yourself', 'should', 'whose'})\n"
     ]
    }
   ],
   "source": [
    "from sklearn.feature_extraction import stop_words\n",
    "print(stop_words.ENGLISH_STOP_WORDS)"
   ]
  },
  {
   "cell_type": "markdown",
   "metadata": {},
   "source": [
    "You should have seen a large list of words that looks like:\n",
    "\n",
    "```frozenset({'across', 'mine', 'cannot', ...})```\n",
    "\n",
    "`frozenset` is a type of Python object that is immutable. In this lab you can use it just like an array without conversion."
   ]
  },
  {
   "cell_type": "code",
   "execution_count": 46,
   "metadata": {},
   "outputs": [
    {
     "name": "stdout",
     "output_type": "stream",
     "text": [
      "{'bag_of_words': ['love', 'ironhack', 'cool', 'student'], 'term_freq': [[0, 1, 1, 0], [1, 1, 0, 0], [0, 1, 0, 1]]}\n"
     ]
    }
   ],
   "source": [
    "#Testing again. This follows tries below. Must be something about Jupyter. \n",
    "\n",
    "bow = get_bow_from_docs(docs, stop_words.ENGLISH_STOP_WORDS)\n",
    "\n",
    "print(bow)"
   ]
  },
  {
   "cell_type": "markdown",
   "metadata": {},
   "source": [
    "Next, test your function with supplying `stop_words.ENGLISH_STOP_WORDS` as the second parameter."
   ]
  },
  {
   "cell_type": "code",
   "execution_count": 35,
   "metadata": {},
   "outputs": [
    {
     "name": "stdout",
     "output_type": "stream",
     "text": [
      "{'bag_of_words': ['term_freq'], 'term_freq': [[0], [1]]}\n"
     ]
    }
   ],
   "source": [
    "doc1 = \"Ironhack is cool.\"\n",
    "doc2 = \"I love Ironhack.\"\n",
    "doc3 = \"I am a student at Ironhack.\"\n",
    "docs = [doc1, doc2, doc3]\n",
    "\n",
    "def get_bow_from_docs(docs, stop_words=[]):\n",
    "    corpus = []\n",
    "    term_freq = []\n",
    "\n",
    "    corpus = [d.strip().lower().replace('.','') for d in docs]\n",
    "    word_list = [d.split() for d in corpus]\n",
    "    word_list2 = [word for x in word_list for word in x]\n",
    "    word_set = set(word_list2)\n",
    "    lst_unique_words = list(word_set)\n",
    "    \n",
    "    bag_of_words = []\n",
    "    for word in lst_unique_words:\n",
    "        if word not in stop_words:\n",
    "            bag_of_words.append(word)\n",
    "    \n",
    "        for doc in word_list:\n",
    "            new_list = []\n",
    "            for word in bag_of_words:\n",
    "                if word in doc:\n",
    "                    new_list.append(1)\n",
    "                else:\n",
    "                    new_list.append(0)\n",
    "            term_freq.append(new_list)\n",
    "            \n",
    "        return {\"bag_of_words\": bag_of_words, \"term_freq\": term_freq}\n",
    "\n",
    "\n",
    "bow = get_bow_from_docs(bow, stop_words)\n",
    "\n",
    "print(bow)"
   ]
  },
  {
   "cell_type": "markdown",
   "metadata": {},
   "source": [
    "You should have seen:\n",
    "\n",
    "```{'bag_of_words': ['ironhack', 'cool', 'love', 'student'], 'term_freq': [[1, 1, 0, 0], [1, 0, 1, 0], [1, 0, 0, 1]]}```"
   ]
  },
  {
   "cell_type": "code",
   "execution_count": 30,
   "metadata": {},
   "outputs": [
    {
     "name": "stdout",
     "output_type": "stream",
     "text": [
      "['love', 'ironhack', 'cool', 'student']\n"
     ]
    }
   ],
   "source": [
    "#Not sure what's going on up there: the bag of words append with stop-words works here. \n",
    "#Test:\n",
    "\n",
    "corpus = []\n",
    "term_freq = []\n",
    "\n",
    "corpus = [d.strip().lower().replace('.','') for d in docs]\n",
    "    \n",
    "word_list = [d.split() for d in corpus]\n",
    "\n",
    "word_list2 = [word for x in word_list for word in x]\n",
    "\n",
    "word_set = set(word_list2)\n",
    "\n",
    "lst_unique_words = list(word_set)\n",
    "\n",
    "bag_of_words = []\n",
    "    \n",
    "for word in lst_unique_words:\n",
    "    if word not in stop_words:\n",
    "        bag_of_words.append(word)\n",
    "print(bag_of_words)"
   ]
  },
  {
   "cell_type": "code",
   "execution_count": 44,
   "metadata": {},
   "outputs": [
    {
     "name": "stdout",
     "output_type": "stream",
     "text": [
      "{'bag_of_words': ['love', 'ironhack', 'cool', 'student'], 'term_freq': [[0, 0, 0, 0], [0, 0, 0, 0]]}\n"
     ]
    }
   ],
   "source": [
    "doc1 = \"Ironhack is cool.\"\n",
    "doc2 = \"I love Ironhack.\"\n",
    "doc3 = \"I am a student at Ironhack.\"\n",
    "docs = [doc1, doc2, doc3]\n",
    "bag_of_words = ['love', 'ironhack', 'cool', 'student']\n",
    "\n",
    "def get_bow_from_docs(docs, stop_words):\n",
    "    corpus = []\n",
    "    term_freq = []\n",
    "\n",
    "    corpus = [d.strip().lower().replace('.','') for d in docs]\n",
    "    word_list = [d.split() for d in corpus]\n",
    "    word_list2 = [word for x in word_list for word in x]\n",
    "    word_set = set(word_list2)\n",
    "    lst_unique_words = list(word_set)\n",
    "    \n",
    "    for doc in word_list:\n",
    "        new_list = []\n",
    "        for word in bag_of_words:\n",
    "            if word in doc:\n",
    "                new_list.append(1)\n",
    "            else:\n",
    "                new_list.append(0)\n",
    "        term_freq.append(new_list)\n",
    "            \n",
    "    return {\n",
    "        \"bag_of_words\": bag_of_words, \n",
    "        \"term_freq\": term_freq\n",
    "    }\n",
    "\n",
    "\n",
    "bow = get_bow_from_docs(bow, stop_words)\n",
    "\n",
    "print(bow)"
   ]
  },
  {
   "cell_type": "code",
   "execution_count": null,
   "metadata": {},
   "outputs": [],
   "source": []
  }
 ],
 "metadata": {
  "kernelspec": {
   "display_name": "Python 3",
   "language": "python",
   "name": "python3"
  },
  "language_info": {
   "codemirror_mode": {
    "name": "ipython",
    "version": 3
   },
   "file_extension": ".py",
   "mimetype": "text/x-python",
   "name": "python",
   "nbconvert_exporter": "python",
   "pygments_lexer": "ipython3",
   "version": "3.7.4"
  }
 },
 "nbformat": 4,
 "nbformat_minor": 2
}
