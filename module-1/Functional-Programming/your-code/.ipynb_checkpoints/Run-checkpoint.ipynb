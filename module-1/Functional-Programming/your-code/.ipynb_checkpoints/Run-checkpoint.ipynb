{
 "cells": [
  {
   "cell_type": "code",
   "execution_count": 1,
   "metadata": {},
   "outputs": [],
   "source": [
    "import re\n",
    "\n",
    "doc1 = \"Ironhack is cool.\"\n",
    "doc2 = \"I love Ironhack.\"\n",
    "doc3= \"I am a student at Ironhack.\"\n",
    "docs = [doc1, doc2, doc3]\n"
   ]
  },
  {
   "cell_type": "code",
   "execution_count": 2,
   "metadata": {},
   "outputs": [],
   "source": [
    "def get_bow_from_docs(docs, stop_words=[]):\n",
    "    corpus = []\n",
    "    bag_of_words = set()\n",
    "    term_freq = []\n"
   ]
  },
  {
   "cell_type": "code",
   "execution_count": 3,
   "metadata": {},
   "outputs": [
    {
     "name": "stdout",
     "output_type": "stream",
     "text": [
      "['ironhack is cool', 'i love ironhack', 'i am a student at ironhack']\n"
     ]
    }
   ],
   "source": [
    "corpus = [d.strip().lower().replace('.','') for d in docs]\n",
    "print(corpus)"
   ]
  },
  {
   "cell_type": "code",
   "execution_count": 4,
   "metadata": {},
   "outputs": [
    {
     "name": "stdout",
     "output_type": "stream",
     "text": [
      "[['ironhack', 'is', 'cool'], ['i', 'love', 'ironhack'], ['i', 'am', 'a', 'student', 'at', 'ironhack']]\n",
      "['ironhack', 'is', 'cool', 'i', 'love', 'ironhack', 'i', 'am', 'a', 'student', 'at', 'ironhack']\n",
      "{'is', 'student', 'i', 'cool', 'a', 'ironhack', 'love', 'at', 'am'}\n",
      "['is', 'student', 'i', 'cool', 'a', 'ironhack', 'love', 'at', 'am']\n"
     ]
    }
   ],
   "source": [
    "word_list = [d.split() for d in corpus]\n",
    "print(word_list)\n",
    "\n",
    "word_list2 = [word for x in word_list for word in x]\n",
    "print(word_list2)\n",
    "\n",
    "bag_of_words = set(word_list2)\n",
    "print(bag_of_words)\n",
    "\n",
    "lst_bag_of_words = list(bag_of_words)\n",
    "print(lst_bag_of_words)\n",
    "\n",
    "#[y for x in a for y in x]\n",
    "\n"
   ]
  },
  {
   "cell_type": "code",
   "execution_count": 24,
   "metadata": {},
   "outputs": [
    {
     "name": "stdout",
     "output_type": "stream",
     "text": [
      "{'bag_of_words': {'is', 'student', 'i', 'cool', 'a', 'ironhack', 'love', 'at', 'am'}, 'term_freq': [[0, 0, 0, 0, 0, 0, 0, 0, 0], [0, 0, 0, 0, 0, 0, 0, 0, 0], [0, 0, 0, 0, 0, 0, 0, 0, 0]]}\n"
     ]
    },
    {
     "data": {
      "text/plain": [
       "'\\n1)\\ngo over all strings in corpus (1, 2, 3)  \\n2)\\nfor every string, create a list \\n3)\\nappend string in doc to each list \\n4)\\nfor every word in each string in each doc, check whether word is in lst_bag_of_words\\n\\n y = []\\nfor word in x:\\n    y.append([n for n in word])\\nprint y\\n'"
      ]
     },
     "execution_count": 24,
     "metadata": {},
     "output_type": "execute_result"
    }
   ],
   "source": [
    "import re\n",
    "\n",
    "doc1 = \"Ironhack is cool.\"\n",
    "doc2 = \"I love Ironhack.\"\n",
    "doc3= \"I am a student at Ironhack.\"\n",
    "docs = [doc1, doc2, doc3]\n",
    "\n",
    "def get_bow_from_docs(docs, stop_words=[]):\n",
    "    corpus = []\n",
    "    term_freq = []\n",
    "\n",
    "    corpus = [d.strip().lower().replace('.','') for d in docs]\n",
    "    \n",
    "    word_list = [d.split() for d in corpus]\n",
    "\n",
    "    word_list2 = [word for x in word_list for word in x]\n",
    "\n",
    "    bag_of_words = set(word_list2)\n",
    "\n",
    "    lst_bag_of_words = list(bag_of_words)\n",
    "    \n",
    "    for w in docs:\n",
    "        word_count = []\n",
    "        for w in lst_bag_of_words:\n",
    "            if w in docs:\n",
    "                 word_count.append(1)\n",
    "            else:\n",
    "                 word_count.append(0)\n",
    "        \n",
    "        term_freq.append(word_count)\n",
    "            \n",
    "    return {\n",
    "        \"bag_of_words\": bag_of_words,\n",
    "        \"term_freq\": term_freq\n",
    "        }\n",
    "\n",
    "bow = get_bow_from_docs(docs, stop_words=[])\n",
    "\n",
    "print(bow)\n",
    "\n",
    "\n",
    "\n",
    "\n",
    "\n",
    "\n",
    "'''for doc in corpus:\n",
    "        sub_list.append([x for x in corpus])\n",
    "    for word in lst_bag_of_words:\n",
    "        if word in lst_bag_of_words:\n",
    "            term_freq.append(1)\n",
    "        else:\n",
    "            term_freq.append(0)\n",
    "print(term_freq)\n",
    "'''       \n",
    "\n",
    "'''\n",
    "1)\n",
    "go over all strings in corpus (1, 2, 3)  \n",
    "2)\n",
    "for every string, create a list \n",
    "3)\n",
    "append string in doc to each list \n",
    "4)\n",
    "for every word in each string in each doc, check whether word is in lst_bag_of_words\n",
    "\n",
    " y = []\n",
    "for word in x:\n",
    "    y.append([n for n in word])\n",
    "print y\n",
    "'''"
   ]
  },
  {
   "cell_type": "code",
   "execution_count": null,
   "metadata": {},
   "outputs": [],
   "source": [
    "term_freq = []\n",
    "    \n",
    "for doc in corpus:\n",
    "    new_list = []\n",
    "    for word in docs:\n",
    "        if word in lst_bag_of_words:\n",
    "            new_list.append(1)\n",
    "        else:\n",
    "            new_list.append(0)\n",
    "print(new_list)"
   ]
  },
  {
   "cell_type": "code",
   "execution_count": null,
   "metadata": {},
   "outputs": [],
   "source": []
  },
  {
   "cell_type": "code",
   "execution_count": null,
   "metadata": {},
   "outputs": [],
   "source": []
  }
 ],
 "metadata": {
  "kernelspec": {
   "display_name": "Python 3",
   "language": "python",
   "name": "python3"
  },
  "language_info": {
   "codemirror_mode": {
    "name": "ipython",
    "version": 3
   },
   "file_extension": ".py",
   "mimetype": "text/x-python",
   "name": "python",
   "nbconvert_exporter": "python",
   "pygments_lexer": "ipython3",
   "version": "3.7.4"
  }
 },
 "nbformat": 4,
 "nbformat_minor": 2
}
