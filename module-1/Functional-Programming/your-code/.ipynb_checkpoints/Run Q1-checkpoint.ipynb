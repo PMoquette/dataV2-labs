{
 "cells": [
  {
   "cell_type": "code",
   "execution_count": 1,
   "metadata": {},
   "outputs": [],
   "source": [
    "doc1 = \"Ironhack is cool.\"\n",
    "doc2 = \"I love Ironhack.\"\n",
    "doc3= \"I am a student at Ironhack.\"\n",
    "docs = [doc1, doc2, doc3]\n"
   ]
  },
  {
   "cell_type": "code",
   "execution_count": 2,
   "metadata": {},
   "outputs": [],
   "source": [
    "def get_bow_from_docs(docs, stop_words=[]):\n",
    "    corpus = []\n",
    "    bag_of_words = set()\n",
    "    term_freq = []\n"
   ]
  },
  {
   "cell_type": "code",
   "execution_count": 3,
   "metadata": {},
   "outputs": [
    {
     "name": "stdout",
     "output_type": "stream",
     "text": [
      "['ironhack is cool', 'i love ironhack', 'i am a student at ironhack']\n"
     ]
    }
   ],
   "source": [
    "corpus = [d.strip().lower().replace('.','') for d in docs]\n",
    "print(corpus)"
   ]
  },
  {
   "cell_type": "code",
   "execution_count": 4,
   "metadata": {},
   "outputs": [
    {
     "name": "stdout",
     "output_type": "stream",
     "text": [
      "[['ironhack', 'is', 'cool'], ['i', 'love', 'ironhack'], ['i', 'am', 'a', 'student', 'at', 'ironhack']]\n",
      "['ironhack', 'is', 'cool', 'i', 'love', 'ironhack', 'i', 'am', 'a', 'student', 'at', 'ironhack']\n",
      "{'student', 'cool', 'is', 'a', 'at', 'am', 'ironhack', 'love', 'i'}\n",
      "['student', 'cool', 'is', 'a', 'at', 'am', 'ironhack', 'love', 'i']\n"
     ]
    }
   ],
   "source": [
    "word_list = [d.split() for d in corpus]\n",
    "print(word_list)\n",
    "\n",
    "word_list2 = [word for x in word_list for word in x]\n",
    "print(word_list2)\n",
    "\n",
    "bag_of_words = set(word_list2)\n",
    "print(bag_of_words)\n",
    "\n",
    "lst_bag_of_words = list(bag_of_words)\n",
    "print(lst_bag_of_words)\n",
    "\n",
    "#[y for x in a for y in x]"
   ]
  },
  {
   "cell_type": "code",
   "execution_count": 6,
   "metadata": {},
   "outputs": [
    {
     "ename": "IndentationError",
     "evalue": "unindent does not match any outer indentation level (<tokenize>, line 6)",
     "output_type": "error",
     "traceback": [
      "\u001b[0;36m  File \u001b[0;32m\"<tokenize>\"\u001b[0;36m, line \u001b[0;32m6\u001b[0m\n\u001b[0;31m    for word in lst_bag_of_words:\u001b[0m\n\u001b[0m    ^\u001b[0m\n\u001b[0;31mIndentationError\u001b[0m\u001b[0;31m:\u001b[0m unindent does not match any outer indentation level\n"
     ]
    }
   ],
   "source": [
    "term_freq = []\n",
    "sub_list = []\n",
    "\n",
    "for doc in corpus:\n",
    "        sub_list.append([x for x in corpus])\n",
    "    for word in lst_bag_of_words:\n",
    "        if word in lst_bag_of_words:\n",
    "            term_freq.append(1)\n",
    "        else:\n",
    "            term_freq.append(0)\n",
    "print(term_freq)\n",
    "        \n",
    "\n",
    "'''\n",
    "1)\n",
    "go over all strings in corpus (1, 2, 3)  \n",
    "2)\n",
    "for every string, create a list \n",
    "3)\n",
    "append string in doc to each list \n",
    "4)\n",
    "for every word in each string in each doc, check whether word is in lst_bag_of_words\n",
    "\n",
    " y = []\n",
    "for word in x:\n",
    "    y.append([n for n in word])\n",
    "print y\n",
    "in lst_bag of words I want to check whether the words are present in each of the docs (doc1, doc2, doc3) '''"
   ]
  },
  {
   "cell_type": "code",
   "execution_count": 26,
   "metadata": {},
   "outputs": [
    {
     "name": "stdout",
     "output_type": "stream",
     "text": [
      "[[['ironhack', 'is', 'cool'], ['i', 'love', 'ironhack'], ['i', 'am', 'a', 'student', 'at', 'ironhack']], [['ironhack', 'is', 'cool'], ['i', 'love', 'ironhack'], ['i', 'am', 'a', 'student', 'at', 'ironhack']], [['ironhack', 'is', 'cool'], ['i', 'love', 'ironhack'], ['i', 'am', 'a', 'student', 'at', 'ironhack']]]\n"
     ]
    }
   ],
   "source": [
    "sub_list = []\n",
    "for doc in corpus:\n",
    "        if doc not in sub_list:\n",
    "            sub_list.append([x.split() for x in corpus])\n",
    "print(sub_list)"
   ]
  },
  {
   "cell_type": "code",
   "execution_count": null,
   "metadata": {},
   "outputs": [],
   "source": []
  },
  {
   "cell_type": "code",
   "execution_count": null,
   "metadata": {},
   "outputs": [],
   "source": []
  }
 ],
 "metadata": {
  "kernelspec": {
   "display_name": "Python 3",
   "language": "python",
   "name": "python3"
  },
  "language_info": {
   "codemirror_mode": {
    "name": "ipython",
    "version": 3
   },
   "file_extension": ".py",
   "mimetype": "text/x-python",
   "name": "python",
   "nbconvert_exporter": "python",
   "pygments_lexer": "ipython3",
   "version": "3.7.6"
  }
 },
 "nbformat": 4,
 "nbformat_minor": 2
}
