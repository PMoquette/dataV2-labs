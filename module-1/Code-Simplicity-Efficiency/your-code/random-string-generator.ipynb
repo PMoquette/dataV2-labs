{
 "cells": [
  {
   "cell_type": "code",
   "execution_count": null,
   "metadata": {},
   "outputs": [],
   "source": [
    "\"\"\"\n",
    "The code below generates a given number of random strings that consists of numbers and \n",
    "lower case English letters. You can also define the range of the variable lengths of\n",
    "the strings being generated.\n",
    "\n",
    "The code is functional but has a lot of room for improvement. Use what you have learned\n",
    "about simple and efficient code, refactor the code.\n",
    "\"\"\""
   ]
  },
  {
   "cell_type": "code",
   "execution_count": 13,
   "metadata": {},
   "outputs": [],
   "source": [
    "import random\n",
    "import string\n",
    "import sys"
   ]
  },
  {
   "cell_type": "code",
   "execution_count": 11,
   "metadata": {},
   "outputs": [],
   "source": [
    "#So this part of the code does the same the original RandomStringGenerator function did. \n",
    "# ie. Default string of lowercase letters and digits size 12.\n",
    "def random_string_generator(size=12, chars=string.ascii_lowercase + string.digits):\n",
    "    string = ''.join(random.choice(chars) for x in range(size))\n",
    "    return string\n"
   ]
  },
  {
   "cell_type": "code",
   "execution_count": 12,
   "metadata": {},
   "outputs": [
    {
     "data": {
      "text/plain": [
       "'63yeqx3dq3uk'"
      ]
     },
     "execution_count": 12,
     "metadata": {},
     "output_type": "execute_result"
    }
   ],
   "source": [
    "random_generator()"
   ]
  },
  {
   "cell_type": "code",
   "execution_count": 14,
   "metadata": {},
   "outputs": [
    {
     "name": "stdout",
     "output_type": "stream",
     "text": [
      "Enter minimum string length: 2\n",
      "Enter maximum string length: 5\n",
      "How many random strings to generate? 2\n",
      "['atz6', 'pyy']\n"
     ]
    }
   ],
   "source": [
    "def batch_string_generator(str_count, min_length, max_length):\n",
    "    r = []\n",
    "    for i in range(str_count):\n",
    "        string_length = None\n",
    "        if min_length < max_length:\n",
    "            import random\n",
    "            string_length = random.choice(range(min_length, max_length))\n",
    "        elif min_length == max_length:\n",
    "            string_length = min_length\n",
    "        else:\n",
    "            exit('Incorrect min and max string lengths. Try again.')\n",
    "        r.append(RandomStringGenerator(string_length))\n",
    "    return r\n",
    "\n",
    "min_length = input('Enter minimum string length: ') #a\n",
    "max_length = input('Enter maximum string length: ') #b\n",
    "str_count = input('How many random strings to generate? ') #n\n",
    "\n",
    "print(batch_string_generator(int(str_count), int(min_length), int(max_length)))"
   ]
  },
  {
   "cell_type": "code",
   "execution_count": 6,
   "metadata": {},
   "outputs": [
    {
     "data": {
      "text/plain": [
       "['olez0fhnsib', 'r89ydtqhr']"
      ]
     },
     "execution_count": 6,
     "metadata": {},
     "output_type": "execute_result"
    }
   ],
   "source": [
    "BatchStringGenerator(2)"
   ]
  },
  {
   "cell_type": "code",
   "execution_count": null,
   "metadata": {},
   "outputs": [],
   "source": []
  }
 ],
 "metadata": {
  "kernelspec": {
   "display_name": "Python 3",
   "language": "python",
   "name": "python3"
  },
  "language_info": {
   "codemirror_mode": {
    "name": "ipython",
    "version": 3
   },
   "file_extension": ".py",
   "mimetype": "text/x-python",
   "name": "python",
   "nbconvert_exporter": "python",
   "pygments_lexer": "ipython3",
   "version": "3.7.4"
  }
 },
 "nbformat": 4,
 "nbformat_minor": 2
}
