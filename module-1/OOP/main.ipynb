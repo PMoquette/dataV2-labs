{
 "cells": [
  {
   "cell_type": "markdown",
   "metadata": {},
   "source": [
    "### Challenge 1: Define a method/function that removes from a given array of integers all the values contained in a second array."
   ]
  },
  {
   "cell_type": "code",
   "execution_count": 1,
   "metadata": {},
   "outputs": [],
   "source": [
    "class List:\n",
    "        \n",
    "    def remove(self, integer_list, values_list):\n",
    "        l = [x for x in integer_list if x not in values_list]\n",
    "        return l\n",
    "\n",
    "l = List()"
   ]
  },
  {
   "cell_type": "code",
   "execution_count": 2,
   "metadata": {},
   "outputs": [
    {
     "data": {
      "text/plain": [
       "True"
      ]
     },
     "execution_count": 2,
     "metadata": {},
     "output_type": "execute_result"
    }
   ],
   "source": [
    "integer_list =  [1, 1, 2 ,3 ,1 ,2 ,3 ,4]\n",
    "values_list = [1, 3]\n",
    "l.remove(integer_list, values_list) == [2, 2, 4]"
   ]
  },
  {
   "cell_type": "code",
   "execution_count": 3,
   "metadata": {},
   "outputs": [
    {
     "data": {
      "text/plain": [
       "True"
      ]
     },
     "execution_count": 3,
     "metadata": {},
     "output_type": "execute_result"
    }
   ],
   "source": [
    "integer_list = [1, 1, 2 ,3 ,1 ,2 ,3 ,4, 4, 3 ,5, 6, 7, 2, 8]\n",
    "values_list = [1, 3, 4, 2]\n",
    "l.remove(integer_list, values_list) == [5, 6 ,7 ,8]"
   ]
  },
  {
   "cell_type": "code",
   "execution_count": 4,
   "metadata": {},
   "outputs": [
    {
     "data": {
      "text/plain": [
       "True"
      ]
     },
     "execution_count": 4,
     "metadata": {},
     "output_type": "execute_result"
    }
   ],
   "source": [
    "integer_list = [8, 2, 7, 2, 3, 4, 6, 5, 4, 4, 1, 2 , 3]\n",
    "values_list = [2, 4, 3]\n",
    "l.remove(integer_list, values_list) == [8, 7, 6, 5, 1]"
   ]
  },
  {
   "cell_type": "markdown",
   "metadata": {},
   "source": [
    "### Challenge 2: Count Total Occurence Of Specific Digits"
   ]
  },
  {
   "cell_type": "code",
   "execution_count": null,
   "metadata": {},
   "outputs": [],
   "source": [
    "l = List()\n",
    "\n",
    "integers_list =  [1, 1, 2 ,3 ,1 ,2 ,3 ,4]\n",
    "digits_list = [1, 3]\n",
    "l.count_spec_digits(integers_list, digits_list) == [(1, 3), (3, 2)]\n",
    "\n",
    "integers_list = [-18, -31, 81, -19, 111, -888]\n",
    "digits_list = [1, 8, 4]\n",
    "l.count_spec_digits(integers_list, digits_list) == [(1, 7), (8, 5), (4, 0)]\n",
    "\n",
    "integers_list = [-77, -65, 56, -79, 6666, 222]\n",
    "digits_list = [1, 8, 4]\n",
    "l.count_spec_digits(integers_list, digits_list) == [(1, 0), (8, 0), (4, 0)]"
   ]
  },
  {
   "cell_type": "code",
   "execution_count": null,
   "metadata": {},
   "outputs": [],
   "source": [
    "'''\n",
    "Step 1: the counter needs to count every occurrence of a digit, and not treat the list of integers as numbers.\n",
    "888 is 3 eights, not eighthundredeightyeight. \n",
    "Step 1a: Turn integers_list into string\n",
    "Step 1b: turn digits_list into a list of strings\n",
    "Step 2: for every digit in digits_list, iterate over int_string and count the amount of times the digit occurs. \n",
    "'''"
   ]
  },
  {
   "cell_type": "code",
   "execution_count": 5,
   "metadata": {},
   "outputs": [
    {
     "data": {
      "text/plain": [
       "('-77-6556-796666222', '-77-6556-796666222')"
      ]
     },
     "execution_count": 5,
     "metadata": {},
     "output_type": "execute_result"
    }
   ],
   "source": [
    "class List:\n",
    "    \n",
    "    def integer_to_string(self, integers_list, digits_list):\n",
    "        integers_string = [str(integer) for integer in integers_list]\n",
    "        int_string = \"\".join(integers_string)\n",
    "        \n",
    "        digits_string = [str(digit) for digit in digits_list]\n",
    "        dig_string = \"\".join(integers_string)\n",
    "        \n",
    "        return int_string, dig_string\n",
    "\n",
    "l = List()\n",
    "\n",
    "integers_list = [-77, -65, 56, -79, 6666, 222] \n",
    "digits_list = [1, 3]\n",
    "\n",
    "l.integer_to_string(integers_list, digits_list)"
   ]
  },
  {
   "cell_type": "code",
   "execution_count": 6,
   "metadata": {},
   "outputs": [
    {
     "data": {
      "text/plain": [
       "0"
      ]
     },
     "execution_count": 6,
     "metadata": {},
     "output_type": "execute_result"
    }
   ],
   "source": [
    "def countSpecDigits(int_string, digits_list):\n",
    "        count = 0\n",
    "        for digit in int_string:\n",
    "            if digit in digits_list:\n",
    "                string.count(i for i in digits_list)\n",
    "        return count\n",
    "\n",
    "int_string =  '-77-6556-796666222'\n",
    "digits_list = [1, 3]\n",
    "\n",
    "countSpecDigits(int_string, digits_list)"
   ]
  },
  {
   "cell_type": "code",
   "execution_count": 7,
   "metadata": {},
   "outputs": [],
   "source": [
    "class List:\n",
    "    \n",
    "    def countSpecDigits(self, integers_list, digits_list):\n",
    "        \n",
    "        count = [[x,integers_list.count(x)] for x in digits_list]\n",
    "        return count"
   ]
  },
  {
   "cell_type": "code",
   "execution_count": 8,
   "metadata": {},
   "outputs": [
    {
     "data": {
      "text/plain": [
       "[[1, 0], [8, 0], [4, 0]]"
      ]
     },
     "execution_count": 8,
     "metadata": {},
     "output_type": "execute_result"
    }
   ],
   "source": [
    "# Ok so this works for single digit integers, not multi-digit integers. So converting to string was a good idea. \n",
    "\n",
    "l = List()\n",
    "\n",
    "integers_list = [-18, -31, 81, -19, 111, -888]\n",
    "digits_list = [1, 8, 4]\n",
    "\n",
    "l.countSpecDigits(integers_list, digits_list)"
   ]
  },
  {
   "cell_type": "code",
   "execution_count": 9,
   "metadata": {},
   "outputs": [
    {
     "name": "stdout",
     "output_type": "stream",
     "text": [
      "-18-3181-19111-888\n",
      "['1', '8', '4']\n"
     ]
    }
   ],
   "source": [
    "class List:\n",
    "    \n",
    "    def integer_to_string(self, integers_list):\n",
    "        \n",
    "        integers_string = [str(integer) for integer in integers_list]\n",
    "        int_string = \"\".join(integers_string)\n",
    "        return int_string\n",
    "    \n",
    "    def digit_to_string(self, digits_list):\n",
    "        \n",
    "        digits_string = [str(digit) for digit in digits_list]\n",
    "        return digits_string\n",
    "\n",
    "l = List()\n",
    "\n",
    "integers_list = [-18, -31, 81, -19, 111, -888]\n",
    "digits_list = [1, 8, 4]\n",
    "\n",
    "print(l.integer_to_string(integers_list))\n",
    "print(l.digit_to_string(digits_list))"
   ]
  },
  {
   "cell_type": "code",
   "execution_count": 15,
   "metadata": {},
   "outputs": [
    {
     "name": "stdout",
     "output_type": "stream",
     "text": [
      "18318119111888\n",
      "['1', '8', '4']\n"
     ]
    }
   ],
   "source": [
    "class List:\n",
    "    \n",
    "    def integer_to_string(self, integers_list):\n",
    "        \n",
    "        positives = [abs(integer) for integer in integers_list]\n",
    "        integers_string = [str(integer) for integer in positives]\n",
    "        int_string = \"\".join(integers_string)\n",
    "        return int_string\n",
    "    \n",
    "    def digit_to_string(self, digits_list):\n",
    "        \n",
    "        digits_string = [str(digit) for digit in digits_list]\n",
    "        return digits_string\n",
    "    \n",
    "    def countSpecDigits(self, int_string, digits_string):\n",
    "        \n",
    "        count = [[x,int_string.count(x)] for x in digits_string]\n",
    "        count_tup = [tuple(x) for x in count]\n",
    "        \n",
    "        return count_tup\n",
    "\n",
    "l = List()\n",
    "\n",
    "integers_list = [-18, -31, 81, -19, 111, -888]\n",
    "digits_list = [1, 8, 4]\n",
    "\n",
    "print(l.integer_to_string(integers_list))\n",
    "print(l.digit_to_string(digits_list))"
   ]
  },
  {
   "cell_type": "code",
   "execution_count": 20,
   "metadata": {},
   "outputs": [
    {
     "data": {
      "text/plain": [
       "[(1, 3), (3, 2)]"
      ]
     },
     "execution_count": 20,
     "metadata": {},
     "output_type": "execute_result"
    }
   ],
   "source": [
    "l = List()\n",
    "\n",
    "integers_list =  [1, 1, 2 ,3 ,1 ,2 ,3 ,4]\n",
    "digits_list = [1, 3]\n",
    "\n",
    "int_string = l.integer_to_string(integers_list)\n",
    "digits_string = l.digit_to_string(digits_list)\n",
    "\n",
    "l.countSpecDigits(integers_list, digits_list) #== [(1, 3), (3, 2)]"
   ]
  },
  {
   "cell_type": "code",
   "execution_count": 21,
   "metadata": {},
   "outputs": [
    {
     "data": {
      "text/plain": [
       "[('1', 7), ('8', 5), ('4', 0)]"
      ]
     },
     "execution_count": 21,
     "metadata": {},
     "output_type": "execute_result"
    }
   ],
   "source": [
    "l = List()\n",
    "\n",
    "integers_list = [-18, -31, 81, -19, 111, -888]\n",
    "digits_list = [1, 8, 4]\n",
    "\n",
    "int_string = l.integer_to_string(integers_list)\n",
    "digits_string = l.digit_to_string(digits_list)\n",
    "\n",
    "l.countSpecDigits(int_string, digits_string) #== [(1, 7), (8, 5), (4, 0)]"
   ]
  },
  {
   "cell_type": "code",
   "execution_count": 22,
   "metadata": {},
   "outputs": [
    {
     "data": {
      "text/plain": [
       "list"
      ]
     },
     "execution_count": 22,
     "metadata": {},
     "output_type": "execute_result"
    }
   ],
   "source": [
    "type(digits_string)"
   ]
  },
  {
   "cell_type": "code",
   "execution_count": 24,
   "metadata": {},
   "outputs": [
    {
     "data": {
      "text/plain": [
       "True"
      ]
     },
     "execution_count": 24,
     "metadata": {},
     "output_type": "execute_result"
    }
   ],
   "source": [
    "integers_list = [-77, -65, 56, -79, 6666, 222]\n",
    "digits_list = [1, 8, 4]\n",
    "\n",
    "int_string = l.integer_to_string(integers_list)\n",
    "digits_string = l.digit_to_string(digits_list)\n",
    "\n",
    "l.countSpecDigits(integers_list, digits_list) == [(1, 0), (8, 0), (4, 0)]"
   ]
  },
  {
   "cell_type": "markdown",
   "metadata": {},
   "source": [
    "### Challenge 3: Ordered count of characters"
   ]
  },
  {
   "cell_type": "code",
   "execution_count": 72,
   "metadata": {},
   "outputs": [
    {
     "name": "stdout",
     "output_type": "stream",
     "text": [
      "{'a': 5, 'b': 2, 'r': 2, 'c': 1, 'd': 1}\n"
     ]
    }
   ],
   "source": [
    "class Counter:\n",
    "\n",
    "    def freq_count(self, string):\n",
    "        count={}\n",
    "        for c in string:\n",
    "            count[c]=count.setdefault(c, 0)+1\n",
    "        return count\n",
    "    \n",
    "l = Counter()\n",
    "string = \"abracadabra\"\n",
    "\n",
    "print(l.freq_count(string))"
   ]
  }
 ],
 "metadata": {
  "kernelspec": {
   "display_name": "Python 3",
   "language": "python",
   "name": "python3"
  },
  "language_info": {
   "codemirror_mode": {
    "name": "ipython",
    "version": 3
   },
   "file_extension": ".py",
   "mimetype": "text/x-python",
   "name": "python",
   "nbconvert_exporter": "python",
   "pygments_lexer": "ipython3",
   "version": "3.7.4"
  }
 },
 "nbformat": 4,
 "nbformat_minor": 2
}
