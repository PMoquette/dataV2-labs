{
 "cells": [
  {
   "cell_type": "markdown",
   "metadata": {},
   "source": [
    "# Intrduction to NumPy\n",
    "\n",
    "\n",
    "#### 1. Import NumPy under the name np."
   ]
  },
  {
   "cell_type": "code",
   "execution_count": 1,
   "metadata": {},
   "outputs": [],
   "source": [
    "# your code here\n",
    "import numpy as np"
   ]
  },
  {
   "cell_type": "markdown",
   "metadata": {},
   "source": [
    "#### 2. Print your NumPy version."
   ]
  },
  {
   "cell_type": "code",
   "execution_count": 2,
   "metadata": {},
   "outputs": [
    {
     "name": "stdout",
     "output_type": "stream",
     "text": [
      "1.17.2\n"
     ]
    }
   ],
   "source": [
    "# your code here\n",
    "print(np.__version__)"
   ]
  },
  {
   "cell_type": "markdown",
   "metadata": {},
   "source": [
    "#### 3. Generate a 2x3x5 3-dimensional array with random values. Assign the array to variable *a*.\n",
    "**Challenge**: there are at least three easy ways that use numpy to generate random arrays. How many ways can you find?"
   ]
  },
  {
   "cell_type": "code",
   "execution_count": 3,
   "metadata": {
    "scrolled": true
   },
   "outputs": [
    {
     "name": "stdout",
     "output_type": "stream",
     "text": [
      "[[[0.47546538 0.97741721 0.34524909 0.79825342 0.09644569]\n",
      "  [0.14236406 0.16475842 0.22056457 0.21470244 0.58950979]\n",
      "  [0.62696408 0.80316355 0.33759091 0.56100838 0.11472436]]\n",
      "\n",
      " [[0.03617944 0.8042587  0.66213372 0.67417181 0.4625975 ]\n",
      "  [0.63350371 0.61354216 0.39448843 0.78933277 0.2800647 ]\n",
      "  [0.12974707 0.18306999 0.28904929 0.88226007 0.38753871]]]\n"
     ]
    }
   ],
   "source": [
    "# Method 1\n",
    "a = np.random.random((2,3,5))\n",
    "print(a)"
   ]
  },
  {
   "cell_type": "code",
   "execution_count": 4,
   "metadata": {},
   "outputs": [
    {
     "name": "stdout",
     "output_type": "stream",
     "text": [
      "[[[8 2 2 2 7]\n",
      "  [9 3 6 3 4]\n",
      "  [5 7 4 7 5]]\n",
      "\n",
      " [[5 0 4 2 4]\n",
      "  [4 6 9 4 7]\n",
      "  [6 7 3 5 7]]]\n"
     ]
    }
   ],
   "source": [
    "# Method 2\n",
    "b = np.random.randint(10, size=(2, 3, 5))\n",
    "print(b)"
   ]
  },
  {
   "cell_type": "code",
   "execution_count": 5,
   "metadata": {},
   "outputs": [
    {
     "name": "stdout",
     "output_type": "stream",
     "text": [
      "[[[5.58942869 1.453211   2.38159922 3.11501368 5.77652073]\n",
      "  [8.61155833 0.22326393 0.44899752 7.46345047 4.38992953]\n",
      "  [6.73180928 7.62185317 5.22029821 8.85546031 5.49658686]]\n",
      "\n",
      " [[5.71263809 2.96721702 9.74230417 0.39279285 8.73162005]\n",
      "  [8.67791099 8.48334045 5.93897487 6.50994759 4.2210448 ]\n",
      "  [5.79542537 4.57323497 2.07466453 7.40334725 0.72805669]]]\n",
      "[[[  4.90533007  -6.56838715   0.42300826  -7.74047302 -12.8854766 ]\n",
      "  [  8.94000387  -2.6697621   -7.73541125  -3.80589923  18.91473179]\n",
      "  [ 13.31258312   6.19201806  27.12755352   4.35642961 -13.77523016]]\n",
      "\n",
      " [[  6.7458379  -10.19946766  -7.19087971   5.46047538  -2.47210892]\n",
      "  [ 12.10961182  -9.32867696  18.6291195  -13.3075126   21.05433323]\n",
      "  [  8.74315804  -3.94616933   5.03290746   5.56320015  15.52715449]]]\n"
     ]
    }
   ],
   "source": [
    "# Method 3 (Found function 'uniform' for a uniform distribution)\n",
    "c = np.random.uniform(0,10,(2,3,5))\n",
    "print(c)\n",
    "\n",
    "#Bonus method 4, because I want to test playing with distributions as found here: \n",
    "#https://docs.scipy.org/doc/numpy-1.14.1/reference/routines.random.html\n",
    "\n",
    "d = np.random.normal(0,10,(2,3,5))\n",
    "print(d)"
   ]
  },
  {
   "cell_type": "markdown",
   "metadata": {},
   "source": [
    "#### 4. Print *a*.\n"
   ]
  },
  {
   "cell_type": "code",
   "execution_count": 6,
   "metadata": {},
   "outputs": [
    {
     "name": "stdout",
     "output_type": "stream",
     "text": [
      "[[[0.47546538 0.97741721 0.34524909 0.79825342 0.09644569]\n",
      "  [0.14236406 0.16475842 0.22056457 0.21470244 0.58950979]\n",
      "  [0.62696408 0.80316355 0.33759091 0.56100838 0.11472436]]\n",
      "\n",
      " [[0.03617944 0.8042587  0.66213372 0.67417181 0.4625975 ]\n",
      "  [0.63350371 0.61354216 0.39448843 0.78933277 0.2800647 ]\n",
      "  [0.12974707 0.18306999 0.28904929 0.88226007 0.38753871]]]\n"
     ]
    }
   ],
   "source": [
    "# your code here\n",
    "print(a)"
   ]
  },
  {
   "cell_type": "markdown",
   "metadata": {},
   "source": [
    "#### 5. Create a 5x2x3 3-dimensional array with all values equaling 1. Assign the array to variable *b*."
   ]
  },
  {
   "cell_type": "code",
   "execution_count": 7,
   "metadata": {},
   "outputs": [],
   "source": [
    "# your code here. Assigned it to variable 'e' instead, because I created 'd' earlier.\n",
    "#https://stackoverflow.com/questions/5891410/numpy-array-initialization-fill-with-identical-values\n",
    "e = np.full((5,2,3), 1)\n"
   ]
  },
  {
   "cell_type": "markdown",
   "metadata": {},
   "source": [
    "#### 6. Print *b*.\n"
   ]
  },
  {
   "cell_type": "code",
   "execution_count": 8,
   "metadata": {},
   "outputs": [
    {
     "name": "stdout",
     "output_type": "stream",
     "text": [
      "[[[1 1 1]\n",
      "  [1 1 1]]\n",
      "\n",
      " [[1 1 1]\n",
      "  [1 1 1]]\n",
      "\n",
      " [[1 1 1]\n",
      "  [1 1 1]]\n",
      "\n",
      " [[1 1 1]\n",
      "  [1 1 1]]\n",
      "\n",
      " [[1 1 1]\n",
      "  [1 1 1]]]\n"
     ]
    }
   ],
   "source": [
    "# your code here\n",
    "print(e)"
   ]
  },
  {
   "cell_type": "markdown",
   "metadata": {},
   "source": [
    "#### 7. Do *a* and *b* have the same size? How do you prove that in Python code?"
   ]
  },
  {
   "cell_type": "code",
   "execution_count": 9,
   "metadata": {},
   "outputs": [
    {
     "data": {
      "text/plain": [
       "True"
      ]
     },
     "execution_count": 9,
     "metadata": {},
     "output_type": "execute_result"
    }
   ],
   "source": [
    "# your code here\n",
    "a.size == e.size\n"
   ]
  },
  {
   "cell_type": "markdown",
   "metadata": {},
   "source": [
    "#### 8. Are you able to add *a* and *b*? Why or why not?\n"
   ]
  },
  {
   "cell_type": "code",
   "execution_count": 10,
   "metadata": {},
   "outputs": [
    {
     "ename": "ValueError",
     "evalue": "operands could not be broadcast together with shapes (2,3,5) (5,2,3) ",
     "output_type": "error",
     "traceback": [
      "\u001b[0;31m---------------------------------------------------------------------------\u001b[0m",
      "\u001b[0;31mValueError\u001b[0m                                Traceback (most recent call last)",
      "\u001b[0;32m<ipython-input-10-324ecec26574>\u001b[0m in \u001b[0;36m<module>\u001b[0;34m\u001b[0m\n\u001b[1;32m      1\u001b[0m \u001b[0;31m# your answer here. Probably not, as they are not shaped the same.\u001b[0m\u001b[0;34m\u001b[0m\u001b[0;34m\u001b[0m\u001b[0;34m\u001b[0m\u001b[0m\n\u001b[0;32m----> 2\u001b[0;31m \u001b[0mprint\u001b[0m\u001b[0;34m(\u001b[0m\u001b[0mnp\u001b[0m\u001b[0;34m.\u001b[0m\u001b[0madd\u001b[0m\u001b[0;34m(\u001b[0m\u001b[0ma\u001b[0m\u001b[0;34m,\u001b[0m \u001b[0me\u001b[0m\u001b[0;34m)\u001b[0m\u001b[0;34m)\u001b[0m\u001b[0;34m\u001b[0m\u001b[0;34m\u001b[0m\u001b[0m\n\u001b[0m",
      "\u001b[0;31mValueError\u001b[0m: operands could not be broadcast together with shapes (2,3,5) (5,2,3) "
     ]
    }
   ],
   "source": [
    "# your answer here. Probably not, as they are not shaped the same. \n",
    "print(np.add(a, e))"
   ]
  },
  {
   "cell_type": "markdown",
   "metadata": {},
   "source": [
    "#### 9. Transpose *b* so that it has the same structure of *a* (i.e. become a 2x3x5 array). Assign the transposed array to variable *c*."
   ]
  },
  {
   "cell_type": "code",
   "execution_count": 11,
   "metadata": {},
   "outputs": [
    {
     "name": "stdout",
     "output_type": "stream",
     "text": [
      "[[[1 1 1 1 1]\n",
      "  [1 1 1 1 1]\n",
      "  [1 1 1 1 1]]\n",
      "\n",
      " [[1 1 1 1 1]\n",
      "  [1 1 1 1 1]\n",
      "  [1 1 1 1 1]]]\n"
     ]
    }
   ],
   "source": [
    "# your code here. Assigned to f for formerly mentioned reasons. \n",
    "#https://docs.scipy.org/doc/numpy/reference/generated/numpy.reshape.html\n",
    "f = np.reshape(e, (2,3,5))\n",
    "print(f)"
   ]
  },
  {
   "cell_type": "markdown",
   "metadata": {},
   "source": [
    "#### 10. Try to add *a* and *c*. Now it should work. Assign the sum to variable *d*. But why does it work now?"
   ]
  },
  {
   "cell_type": "code",
   "execution_count": 12,
   "metadata": {},
   "outputs": [
    {
     "name": "stdout",
     "output_type": "stream",
     "text": [
      "[[[1.47546538 1.97741721 1.34524909 1.79825342 1.09644569]\n",
      "  [1.14236406 1.16475842 1.22056457 1.21470244 1.58950979]\n",
      "  [1.62696408 1.80316355 1.33759091 1.56100838 1.11472436]]\n",
      "\n",
      " [[1.03617944 1.8042587  1.66213372 1.67417181 1.4625975 ]\n",
      "  [1.63350371 1.61354216 1.39448843 1.78933277 1.2800647 ]\n",
      "  [1.12974707 1.18306999 1.28904929 1.88226007 1.38753871]]]\n"
     ]
    }
   ],
   "source": [
    "# your code/answer here. It works because they have the same shape now. \n",
    "#This means each matrix position has a corresponding value to calculate with. \n",
    "g = np.add(a, f)\n",
    "print(g)"
   ]
  },
  {
   "cell_type": "markdown",
   "metadata": {},
   "source": [
    "#### 11. Print *a* and *d*. Notice the difference and relation of the two array in terms of the values? Explain."
   ]
  },
  {
   "cell_type": "code",
   "execution_count": 13,
   "metadata": {},
   "outputs": [
    {
     "name": "stdout",
     "output_type": "stream",
     "text": [
      "[[[0.47546538 0.97741721 0.34524909 0.79825342 0.09644569]\n",
      "  [0.14236406 0.16475842 0.22056457 0.21470244 0.58950979]\n",
      "  [0.62696408 0.80316355 0.33759091 0.56100838 0.11472436]]\n",
      "\n",
      " [[0.03617944 0.8042587  0.66213372 0.67417181 0.4625975 ]\n",
      "  [0.63350371 0.61354216 0.39448843 0.78933277 0.2800647 ]\n",
      "  [0.12974707 0.18306999 0.28904929 0.88226007 0.38753871]]]\n",
      "[[[1.47546538 1.97741721 1.34524909 1.79825342 1.09644569]\n",
      "  [1.14236406 1.16475842 1.22056457 1.21470244 1.58950979]\n",
      "  [1.62696408 1.80316355 1.33759091 1.56100838 1.11472436]]\n",
      "\n",
      " [[1.03617944 1.8042587  1.66213372 1.67417181 1.4625975 ]\n",
      "  [1.63350371 1.61354216 1.39448843 1.78933277 1.2800647 ]\n",
      "  [1.12974707 1.18306999 1.28904929 1.88226007 1.38753871]]]\n"
     ]
    }
   ],
   "source": [
    "# your code/answer here:\n",
    "# array 'e' was a matrix of 1's. Every value of a got a +1\n",
    "print(a)\n",
    "print(g)"
   ]
  },
  {
   "cell_type": "markdown",
   "metadata": {},
   "source": [
    "#### 12. Multiply *a* and *c*. Assign the result to *e*."
   ]
  },
  {
   "cell_type": "code",
   "execution_count": 14,
   "metadata": {},
   "outputs": [
    {
     "name": "stdout",
     "output_type": "stream",
     "text": [
      "[[[0.47546538 0.97741721 0.34524909 0.79825342 0.09644569]\n",
      "  [0.14236406 0.16475842 0.22056457 0.21470244 0.58950979]\n",
      "  [0.62696408 0.80316355 0.33759091 0.56100838 0.11472436]]\n",
      "\n",
      " [[0.03617944 0.8042587  0.66213372 0.67417181 0.4625975 ]\n",
      "  [0.63350371 0.61354216 0.39448843 0.78933277 0.2800647 ]\n",
      "  [0.12974707 0.18306999 0.28904929 0.88226007 0.38753871]]]\n"
     ]
    }
   ],
   "source": [
    "# your code here\n",
    "h = (np.multiply(a, f))\n",
    "print(h)"
   ]
  },
  {
   "cell_type": "markdown",
   "metadata": {},
   "source": [
    "#### 13. Does *e* equal to *a*? Why or why not?\n"
   ]
  },
  {
   "cell_type": "code",
   "execution_count": 15,
   "metadata": {},
   "outputs": [
    {
     "data": {
      "text/plain": [
       "array([[[ True,  True,  True,  True,  True],\n",
       "        [ True,  True,  True,  True,  True],\n",
       "        [ True,  True,  True,  True,  True]],\n",
       "\n",
       "       [[ True,  True,  True,  True,  True],\n",
       "        [ True,  True,  True,  True,  True],\n",
       "        [ True,  True,  True,  True,  True]]])"
      ]
     },
     "execution_count": 15,
     "metadata": {},
     "output_type": "execute_result"
    }
   ],
   "source": [
    "# your code/answer here. Yes, because h = a*1. \n",
    "h == a"
   ]
  },
  {
   "cell_type": "markdown",
   "metadata": {},
   "source": [
    "#### 14. Identify the max, min, and mean values in *d*. Assign those values to variables *d_max*, *d_min* and *d_mean*."
   ]
  },
  {
   "cell_type": "code",
   "execution_count": 16,
   "metadata": {},
   "outputs": [
    {
     "name": "stdout",
     "output_type": "stream",
     "text": [
      "1.9774172125482927\n",
      "1.0361794390459762\n",
      "1.4563373145694996\n"
     ]
    }
   ],
   "source": [
    "# your code here. This would be variagle 'g' (trying to keep track).\n",
    "g_max = np.max(g)\n",
    "g_min = np.min(g)\n",
    "g_mean = np.mean(g)\n",
    "print(g_max)\n",
    "print(g_min)\n",
    "print(g_mean)"
   ]
  },
  {
   "cell_type": "markdown",
   "metadata": {},
   "source": [
    "#### 15. Now we want to label the values in *d*. First create an empty array *f* with the same shape (i.e. 2x3x5) as *d* using `np.empty`.\n"
   ]
  },
  {
   "cell_type": "code",
   "execution_count": 17,
   "metadata": {},
   "outputs": [
    {
     "name": "stdout",
     "output_type": "stream",
     "text": [
      "[[[0.47546538 0.97741721 0.34524909 0.79825342 0.09644569]\n",
      "  [0.14236406 0.16475842 0.22056457 0.21470244 0.58950979]\n",
      "  [0.62696408 0.80316355 0.33759091 0.56100838 0.11472436]]\n",
      "\n",
      " [[0.03617944 0.8042587  0.66213372 0.67417181 0.4625975 ]\n",
      "  [0.63350371 0.61354216 0.39448843 0.78933277 0.2800647 ]\n",
      "  [0.12974707 0.18306999 0.28904929 0.88226007 0.38753871]]]\n"
     ]
    }
   ],
   "source": [
    "# your code here:\n",
    "# https://docs.scipy.org/doc/numpy/reference/generated/numpy.empty.html\n",
    "i = np.empty((2,3,5))\n",
    "print(i)"
   ]
  },
  {
   "cell_type": "markdown",
   "metadata": {},
   "source": [
    "#### 16. Populate the values in *f*. \n",
    "\n",
    "For each value in *d*, if it's larger than *d_min* but smaller than *d_mean*, assign 25 to the corresponding value in *f*. If a value in *d* is larger than *d_mean* but smaller than *d_max*, assign 75 to the corresponding value in *f*. If a value equals to *d_mean*, assign 50 to the corresponding value in *f*. Assign 0 to the corresponding value(s) in *f* for *d_min* in *d*. Assign 100 to the corresponding value(s) in *f* for *d_max* in *d*. In the end, f should have only the following values: 0, 25, 50, 75, and 100.\n",
    "\n",
    "**Note**: you don't have to use Numpy in this question."
   ]
  },
  {
   "cell_type": "code",
   "execution_count": 18,
   "metadata": {},
   "outputs": [
    {
     "name": "stdout",
     "output_type": "stream",
     "text": [
      "[[[1.47546538 1.97741721 1.34524909 1.79825342 1.09644569]\n",
      "  [1.14236406 1.16475842 1.22056457 1.21470244 1.58950979]\n",
      "  [1.62696408 1.80316355 1.33759091 1.56100838 1.11472436]]\n",
      "\n",
      " [[1.03617944 1.8042587  1.66213372 1.67417181 1.4625975 ]\n",
      "  [1.63350371 1.61354216 1.39448843 1.78933277 1.2800647 ]\n",
      "  [1.12974707 1.18306999 1.28904929 1.88226007 1.38753871]]]\n",
      "1.9774172125482927\n",
      "1.0361794390459762\n",
      "1.4563373145694996\n",
      "[[[ 75. 100.  25.  75.  25.]\n",
      "  [ 25.  25.  25.  25.  75.]\n",
      "  [ 75.  75.  25.  75.  25.]]\n",
      "\n",
      " [[  0.  75.  75.  75.  75.]\n",
      "  [ 75.  75.  25.  75.  25.]\n",
      "  [ 25.  25.  25.  75.  25.]]]\n"
     ]
    }
   ],
   "source": [
    "# your code here\n",
    "#a.all()\n",
    "#https://docs.scipy.org/doc/numpy/reference/generated/numpy.all.html\n",
    "#numpy.insert(arr, obj, values, axis=None)\n",
    "#https://numpy.org/doc/1.18/reference/generated/numpy.insert.html\n",
    "#b = np.where((a > 230) & (a < 240), True, False)\n",
    "\n",
    "print(g)\n",
    "print(g_max)\n",
    "print(g_min)\n",
    "print(g_mean)\n",
    "\n",
    "#https://www.w3resource.com/python-exercises/numpy/python-numpy-exercise-88.php\n",
    "i[(g > g_min) & (g < g_mean)] = 25\n",
    "i[(g > g_mean) & (g < g_max)] = 75\n",
    "i[(g == g_mean)] = 50\n",
    "i[(g == g_min)] = 0\n",
    "i[(g == g_max)] = 100\n",
    "print(i)"
   ]
  },
  {
   "cell_type": "markdown",
   "metadata": {},
   "source": [
    "#### 17. Print *d* and *f*. Do you have your expected *f*?\n",
    "For instance, if your *d* is:\n",
    "```python\n",
    "[[[1.85836099, 1.67064465, 1.62576044, 1.40243961, 1.88454931],\n",
    "[1.75354326, 1.69403643, 1.36729252, 1.61415071, 1.12104981],\n",
    "[1.72201435, 1.1862918 , 1.87078449, 1.7726778 , 1.88180042]],\n",
    "[[1.44747908, 1.31673383, 1.02000951, 1.52218947, 1.97066381],\n",
    "[1.79129243, 1.74983003, 1.96028037, 1.85166831, 1.65450881],\n",
    "[1.18068344, 1.9587381 , 1.00656599, 1.93402165, 1.73514584]]]\n",
    "```\n",
    "Your *f* should be:\n",
    "```python\n",
    "[[[ 75.,  75.,  75.,  25.,  75.],\n",
    "[ 75.,  75.,  25.,  25.,  25.],\n",
    "[ 75.,  25.,  75.,  75.,  75.]],\n",
    "[[ 25.,  25.,  25.,  25., 100.],\n",
    "[ 75.,  75.,  75.,  75.,  75.],\n",
    "[ 25.,  75.,   0.,  75.,  75.]]]\n",
    "```"
   ]
  },
  {
   "cell_type": "code",
   "execution_count": 19,
   "metadata": {},
   "outputs": [
    {
     "name": "stdout",
     "output_type": "stream",
     "text": [
      "[[[1.47546538 1.97741721 1.34524909 1.79825342 1.09644569]\n",
      "  [1.14236406 1.16475842 1.22056457 1.21470244 1.58950979]\n",
      "  [1.62696408 1.80316355 1.33759091 1.56100838 1.11472436]]\n",
      "\n",
      " [[1.03617944 1.8042587  1.66213372 1.67417181 1.4625975 ]\n",
      "  [1.63350371 1.61354216 1.39448843 1.78933277 1.2800647 ]\n",
      "  [1.12974707 1.18306999 1.28904929 1.88226007 1.38753871]]]\n",
      "[[[ 75. 100.  25.  75.  25.]\n",
      "  [ 25.  25.  25.  25.  75.]\n",
      "  [ 75.  75.  25.  75.  25.]]\n",
      "\n",
      " [[  0.  75.  75.  75.  75.]\n",
      "  [ 75.  75.  25.  75.  25.]\n",
      "  [ 25.  25.  25.  75.  25.]]]\n"
     ]
    }
   ],
   "source": [
    "# your code here\n",
    "print(g)\n",
    "print(i)"
   ]
  },
  {
   "cell_type": "markdown",
   "metadata": {},
   "source": [
    "#### 18. Bonus question: instead of using numbers (i.e. 0, 25, 50, 75, and 100), use string values  (\"A\", \"B\", \"C\", \"D\", and \"E\") to label the array elements. For the example above, the expected result is:\n",
    "\n",
    "```python\n",
    "[[[ 'D',  'D',  'D',  'B',  'D'],\n",
    "[ 'D',  'D',  'B',  'B',  'B'],\n",
    "[ 'D',  'B',  'D',  'D',  'D']],\n",
    "[[ 'B',  'B',  'B',  'B',  'E'],\n",
    "[ 'D',  'D',  'D',  'D',  'D'],\n",
    "[ 'B',  'D',   'A',  'D', 'D']]]\n",
    "```\n",
    "**Note**: you don't have to use Numpy in this question."
   ]
  },
  {
   "cell_type": "code",
   "execution_count": 20,
   "metadata": {},
   "outputs": [
    {
     "name": "stdout",
     "output_type": "stream",
     "text": [
      "[[['D' 'E' 'B' 'D' 'B']\n",
      "  ['B' 'B' 'B' 'B' 'D']\n",
      "  ['D' 'D' 'B' 'D' 'B']]\n",
      "\n",
      " [['A' 'D' 'D' 'D' 'D']\n",
      "  ['D' 'D' 'B' 'D' 'B']\n",
      "  ['B' 'B' 'B' 'D' 'B']]]\n"
     ]
    }
   ],
   "source": [
    "# your code here\n",
    "#https://www.geeksforgeeks.org/change-data-type-of-given-numpy-array/\n",
    "#https://numpy.org/doc/1.18/reference/arrays.dtypes.html\n",
    "i = np.array(i, dtype = 'object')\n",
    "i[i == 0] = \"A\"\n",
    "i[i == 25] = \"B\"\n",
    "i[i == 50] = \"C\"\n",
    "i[i == 75] = \"D\"\n",
    "i[i == 100] = \"E\"\n",
    "print(i)"
   ]
  },
  {
   "cell_type": "code",
   "execution_count": null,
   "metadata": {},
   "outputs": [],
   "source": []
  }
 ],
 "metadata": {
  "kernelspec": {
   "display_name": "Python 3",
   "language": "python",
   "name": "python3"
  },
  "language_info": {
   "codemirror_mode": {
    "name": "ipython",
    "version": 3
   },
   "file_extension": ".py",
   "mimetype": "text/x-python",
   "name": "python",
   "nbconvert_exporter": "python",
   "pygments_lexer": "ipython3",
   "version": "3.7.4"
  }
 },
 "nbformat": 4,
 "nbformat_minor": 2
}
