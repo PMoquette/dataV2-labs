{
 "cells": [
  {
   "cell_type": "markdown",
   "metadata": {},
   "source": [
    "#### Challenge 3: To practice - Constructing Confidence Intervals"
   ]
  },
  {
   "cell_type": "markdown",
   "metadata": {},
   "source": [
    "While testing our hypothesis is a great way to gather empirical evidence for accepting or rejecting the hypothesis, another way to gather evidence is by creating a confidence interval. A confidence interval gives us information about the true mean of the population. So for a 95% confidence interval, we are 95% sure that the mean of the population is within the confidence interval. \n",
    ").\n",
    "\n",
    "To read more about confidence intervals, click [here](https://en.wikipedia.org/wiki/Confidence_interval).\n",
    "\n",
    "\n",
    "In the cell below, we will construct a 95% confidence interval for the mean hourly wage of all hourly workers. \n",
    "\n",
    "The confidence interval is computed in SciPy using the `t.interval` function. You can read more about this function [here](https://docs.scipy.org/doc/scipy-0.14.0/reference/generated/scipy.stats.t.html).\n",
    "\n",
    "To compute the confidence interval of the hourly wage, use the 0.95 for the confidence level, number of rows - 1 for degrees of freedom, the mean of the sample for the location parameter and the standard error for the scale. The standard error can be computed using [this](https://docs.scipy.org/doc/scipy/reference/generated/scipy.stats.sem.html) function in SciPy."
   ]
  },
  {
   "cell_type": "code",
   "execution_count": 1,
   "metadata": {},
   "outputs": [],
   "source": [
    "import numpy as np\n",
    "import pandas as pd\n",
    "from scipy import stats"
   ]
  },
  {
   "cell_type": "code",
   "execution_count": 2,
   "metadata": {},
   "outputs": [],
   "source": [
    "salaries = pd.read_csv('../Current_Employee_Names__Salaries__and_Position_Titles.csv')"
   ]
  },
  {
   "cell_type": "code",
   "execution_count": 3,
   "metadata": {},
   "outputs": [],
   "source": [
    "#Pedro's way as baseline, because I've seen it work:\n",
    "hourly_salaries = salaries[salaries['Salary or Hourly'] == 'Hourly']\n",
    "hourly_salaries_mean = np.mean(hourly_salaries['Hourly Rate'])"
   ]
  },
  {
   "cell_type": "code",
   "execution_count": 4,
   "metadata": {},
   "outputs": [
    {
     "name": "stdout",
     "output_type": "stream",
     "text": [
      "(34.29839539204361, 34.874504045197305)\n",
      "The 95% interval is between 34.3 and 34.87\n"
     ]
    }
   ],
   "source": [
    "degrees_freedom = len(hourly_salaries)-1\n",
    "l = np.mean(hourly_salaries['Hourly Rate'])\n",
    "s = stats.sem(hourly_salaries['Hourly Rate'])\n",
    "conf_level = 0.95\n",
    "conf_interval = stats.t.interval(conf_level, df=degrees_freedom, loc=l, scale=s)\n",
    "print(conf_interval)\n",
    "print(\"The 95% interval is between\", round(conf_interval[0],2), \"and\",round(conf_interval[1],2))"
   ]
  },
  {
   "cell_type": "code",
   "execution_count": 6,
   "metadata": {},
   "outputs": [
    {
     "name": "stdout",
     "output_type": "stream",
     "text": [
      "34.58644971862046\n"
     ]
    }
   ],
   "source": [
    "#So that works, now for my original way\n",
    "hourly_wage = salaries['Hourly Rate'].dropna()\n",
    "print(np.mean(hourly_wage))"
   ]
  },
  {
   "cell_type": "code",
   "execution_count": 7,
   "metadata": {},
   "outputs": [
    {
     "name": "stdout",
     "output_type": "stream",
     "text": [
      "8173\n",
      "0.14694742867989846\n",
      "34.58644971862046\n",
      "8174\n"
     ]
    }
   ],
   "source": [
    "standard_error = hourly_wage.sem()\n",
    "mu = np.mean(hourly_wage)\n",
    "n = hourly_wage.shape[0]\n",
    "degrees_freedom = n - 1\n",
    "print(degrees_freedom)\n",
    "print(standard_error)\n",
    "print(mu)\n",
    "print(n)"
   ]
  },
  {
   "cell_type": "code",
   "execution_count": 8,
   "metadata": {},
   "outputs": [],
   "source": [
    "conf_interval = stats.t.interval(0.95, df=degrees_freedom, loc=mu, scale=standard_error)"
   ]
  },
  {
   "cell_type": "code",
   "execution_count": 9,
   "metadata": {},
   "outputs": [
    {
     "data": {
      "text/plain": [
       "(34.2983953920436, 34.87450404519731)"
      ]
     },
     "execution_count": 9,
     "metadata": {},
     "output_type": "execute_result"
    }
   ],
   "source": [
    "conf_interval"
   ]
  },
  {
   "cell_type": "markdown",
   "metadata": {},
   "source": [
    "Now construct the 95% confidence interval for all salaried employeed in the police in the cell below."
   ]
  },
  {
   "cell_type": "code",
   "execution_count": 12,
   "metadata": {},
   "outputs": [
    {
     "data": {
      "text/plain": [
       "1     93354.0\n",
       "4     90024.0\n",
       "6    111444.0\n",
       "7    103932.0\n",
       "9     95736.0\n",
       "Name: Annual Salary, dtype: float64"
      ]
     },
     "execution_count": 12,
     "metadata": {},
     "output_type": "execute_result"
    }
   ],
   "source": [
    "police_salaries = salaries[salaries['Department'] == 'POLICE']['Annual Salary'].dropna()\n",
    "police_salaries.head()                                    "
   ]
  },
  {
   "cell_type": "code",
   "execution_count": 13,
   "metadata": {},
   "outputs": [
    {
     "name": "stdout",
     "output_type": "stream",
     "text": [
      "13823\n",
      "153.0509585263483\n",
      "88834.11892361111\n",
      "13824\n"
     ]
    }
   ],
   "source": [
    "#Even the given standard error scipy formula works in these notebook! Did not in the original. \n",
    "mu = np.mean(police_salaries)\n",
    "standard_error = stats.sem(police_salaries)\n",
    "n = police_salaries.shape[0]\n",
    "degrees_freedom = n - 1\n",
    "print(degrees_freedom)\n",
    "print(standard_error)\n",
    "print(mu)\n",
    "print(n)"
   ]
  },
  {
   "cell_type": "code",
   "execution_count": 14,
   "metadata": {},
   "outputs": [],
   "source": [
    "pol_conf_interval = stats.t.interval(0.95, df=degrees_freedom, loc=mu, scale=standard_error)"
   ]
  },
  {
   "cell_type": "code",
   "execution_count": 15,
   "metadata": {},
   "outputs": [
    {
     "data": {
      "text/plain": [
       "(88534.1182885883, 89134.11955863392)"
      ]
     },
     "execution_count": 15,
     "metadata": {},
     "output_type": "execute_result"
    }
   ],
   "source": [
    "pol_conf_interval"
   ]
  },
  {
   "cell_type": "code",
   "execution_count": null,
   "metadata": {},
   "outputs": [],
   "source": []
  }
 ],
 "metadata": {
  "kernelspec": {
   "display_name": "Python 3",
   "language": "python",
   "name": "python3"
  },
  "language_info": {
   "codemirror_mode": {
    "name": "ipython",
    "version": 3
   },
   "file_extension": ".py",
   "mimetype": "text/x-python",
   "name": "python",
   "nbconvert_exporter": "python",
   "pygments_lexer": "ipython3",
   "version": "3.7.4"
  }
 },
 "nbformat": 4,
 "nbformat_minor": 2
}
