{
 "cells": [
  {
   "cell_type": "markdown",
   "metadata": {},
   "source": [
    "# Explore Correlations"
   ]
  },
  {
   "cell_type": "markdown",
   "metadata": {},
   "source": [
    "#### Import necessary libraries"
   ]
  },
  {
   "cell_type": "code",
   "execution_count": 2,
   "metadata": {},
   "outputs": [],
   "source": [
    "import pandas as pd\n",
    "import numpy as np\n",
    "import matplotlib.pyplot as plt\n",
    "import plotly.express as px\n",
    "import seaborn as sns\n",
    "import plotly.express as xp\n",
    "%matplotlib inline"
   ]
  },
  {
   "cell_type": "markdown",
   "metadata": {},
   "source": [
    "#### In this challenge we will use the Temp_States dataset. "
   ]
  },
  {
   "cell_type": "markdown",
   "metadata": {},
   "source": [
    "#### Import the data into a dataframe: "
   ]
  },
  {
   "cell_type": "code",
   "execution_count": 8,
   "metadata": {},
   "outputs": [
    {
     "data": {
      "text/html": [
       "<div>\n",
       "<style scoped>\n",
       "    .dataframe tbody tr th:only-of-type {\n",
       "        vertical-align: middle;\n",
       "    }\n",
       "\n",
       "    .dataframe tbody tr th {\n",
       "        vertical-align: top;\n",
       "    }\n",
       "\n",
       "    .dataframe thead th {\n",
       "        text-align: right;\n",
       "    }\n",
       "</style>\n",
       "<table border=\"1\" class=\"dataframe\">\n",
       "  <thead>\n",
       "    <tr style=\"text-align: right;\">\n",
       "      <th></th>\n",
       "      <th>EVENT CATEGORY</th>\n",
       "      <th>EVENT GROUP</th>\n",
       "      <th>EVENT SUBGROUP</th>\n",
       "      <th>EVENT TYPE</th>\n",
       "      <th>PLACE</th>\n",
       "      <th>EVENT START DATE</th>\n",
       "      <th>COMMENTS</th>\n",
       "      <th>FATALITIES</th>\n",
       "      <th>INJURED / INFECTED</th>\n",
       "      <th>EVACUATED</th>\n",
       "      <th>...</th>\n",
       "      <th>EVENT END DATE</th>\n",
       "      <th>FEDERAL DFAA PAYMENTS</th>\n",
       "      <th>PROVINCIAL DFAA PAYMENTS</th>\n",
       "      <th>PROVINCIAL DEPARTMENT PAYMENTS</th>\n",
       "      <th>MUNICIPAL COSTS</th>\n",
       "      <th>OGD COSTS</th>\n",
       "      <th>INSURANCE PAYMENTS</th>\n",
       "      <th>NGO PAYMENTS</th>\n",
       "      <th>UTILITY - PEOPLE AFFECTED</th>\n",
       "      <th>MAGNITUDE</th>\n",
       "    </tr>\n",
       "  </thead>\n",
       "  <tbody>\n",
       "    <tr>\n",
       "      <td>0</td>\n",
       "      <td>Disaster</td>\n",
       "      <td>Natural</td>\n",
       "      <td>Meteorological - Hydrological</td>\n",
       "      <td>Storm - Unspecified / Other</td>\n",
       "      <td>Christmas Island NS</td>\n",
       "      <td>25/12/2016 12:00:00 AM</td>\n",
       "      <td>Christmas Island NS, December 25, 2016. Reside...</td>\n",
       "      <td>NaN</td>\n",
       "      <td>NaN</td>\n",
       "      <td>NaN</td>\n",
       "      <td>...</td>\n",
       "      <td>25/12/2016 12:00:00 AM</td>\n",
       "      <td>NaN</td>\n",
       "      <td>NaN</td>\n",
       "      <td>NaN</td>\n",
       "      <td>NaN</td>\n",
       "      <td>NaN</td>\n",
       "      <td>NaN</td>\n",
       "      <td>NaN</td>\n",
       "      <td>10038.0</td>\n",
       "      <td>NaN</td>\n",
       "    </tr>\n",
       "    <tr>\n",
       "      <td>1</td>\n",
       "      <td>Disaster</td>\n",
       "      <td>Natural</td>\n",
       "      <td>Meteorological - Hydrological</td>\n",
       "      <td>Winter Storm</td>\n",
       "      <td>Nova Scotia and Prince Edward Island</td>\n",
       "      <td>27/11/2016 12:00:00 AM</td>\n",
       "      <td>Nova Scotia and Prince Edward Island, November...</td>\n",
       "      <td>NaN</td>\n",
       "      <td>NaN</td>\n",
       "      <td>NaN</td>\n",
       "      <td>...</td>\n",
       "      <td>29/11/2016 12:00:00 AM</td>\n",
       "      <td>NaN</td>\n",
       "      <td>NaN</td>\n",
       "      <td>NaN</td>\n",
       "      <td>NaN</td>\n",
       "      <td>NaN</td>\n",
       "      <td>NaN</td>\n",
       "      <td>NaN</td>\n",
       "      <td>69000.0</td>\n",
       "      <td>NaN</td>\n",
       "    </tr>\n",
       "    <tr>\n",
       "      <td>2</td>\n",
       "      <td>Disaster</td>\n",
       "      <td>Natural</td>\n",
       "      <td>Meteorological - Hydrological</td>\n",
       "      <td>Flood</td>\n",
       "      <td>Red Earth First Nation SK</td>\n",
       "      <td>14/11/2016 12:00:00 AM</td>\n",
       "      <td>Red Earth First Nation SK, July 14-18, 2016. H...</td>\n",
       "      <td>NaN</td>\n",
       "      <td>NaN</td>\n",
       "      <td>576.0</td>\n",
       "      <td>...</td>\n",
       "      <td>18/11/2016 12:00:00 AM</td>\n",
       "      <td>NaN</td>\n",
       "      <td>NaN</td>\n",
       "      <td>NaN</td>\n",
       "      <td>NaN</td>\n",
       "      <td>NaN</td>\n",
       "      <td>NaN</td>\n",
       "      <td>NaN</td>\n",
       "      <td>NaN</td>\n",
       "      <td>NaN</td>\n",
       "    </tr>\n",
       "    <tr>\n",
       "      <td>3</td>\n",
       "      <td>Disaster</td>\n",
       "      <td>Natural</td>\n",
       "      <td>Biological</td>\n",
       "      <td>Epidemic</td>\n",
       "      <td>Alberta and Saskatchewan</td>\n",
       "      <td>26/10/2016 12:00:00 AM</td>\n",
       "      <td>Alberta and Saskatchewan, October 26 to Decemb...</td>\n",
       "      <td>NaN</td>\n",
       "      <td>NaN</td>\n",
       "      <td>NaN</td>\n",
       "      <td>...</td>\n",
       "      <td>21/12/2016 12:00:00 AM</td>\n",
       "      <td>16700000.0</td>\n",
       "      <td>NaN</td>\n",
       "      <td>NaN</td>\n",
       "      <td>NaN</td>\n",
       "      <td>NaN</td>\n",
       "      <td>NaN</td>\n",
       "      <td>NaN</td>\n",
       "      <td>NaN</td>\n",
       "      <td>NaN</td>\n",
       "    </tr>\n",
       "    <tr>\n",
       "      <td>4</td>\n",
       "      <td>Incident</td>\n",
       "      <td>Technology</td>\n",
       "      <td>Hazardous Chemicals</td>\n",
       "      <td>Leak / Spill Release</td>\n",
       "      <td>Seaforth Channel BC</td>\n",
       "      <td>13/10/2016 12:00:00 AM</td>\n",
       "      <td>Seaforth Channel BC, October 13, 2016. The art...</td>\n",
       "      <td>NaN</td>\n",
       "      <td>NaN</td>\n",
       "      <td>NaN</td>\n",
       "      <td>...</td>\n",
       "      <td>13/10/2016 12:00:00 AM</td>\n",
       "      <td>NaN</td>\n",
       "      <td>NaN</td>\n",
       "      <td>NaN</td>\n",
       "      <td>NaN</td>\n",
       "      <td>NaN</td>\n",
       "      <td>NaN</td>\n",
       "      <td>NaN</td>\n",
       "      <td>NaN</td>\n",
       "      <td>NaN</td>\n",
       "    </tr>\n",
       "  </tbody>\n",
       "</table>\n",
       "<p>5 rows × 22 columns</p>\n",
       "</div>"
      ],
      "text/plain": [
       "  EVENT CATEGORY EVENT GROUP                 EVENT SUBGROUP  \\\n",
       "0       Disaster     Natural  Meteorological - Hydrological   \n",
       "1       Disaster     Natural  Meteorological - Hydrological   \n",
       "2       Disaster     Natural  Meteorological - Hydrological   \n",
       "3       Disaster     Natural                     Biological   \n",
       "4       Incident  Technology            Hazardous Chemicals   \n",
       "\n",
       "                    EVENT TYPE                                 PLACE  \\\n",
       "0  Storm - Unspecified / Other                   Christmas Island NS   \n",
       "1                 Winter Storm  Nova Scotia and Prince Edward Island   \n",
       "2                        Flood             Red Earth First Nation SK   \n",
       "3                     Epidemic              Alberta and Saskatchewan   \n",
       "4         Leak / Spill Release                   Seaforth Channel BC   \n",
       "\n",
       "         EVENT START DATE                                           COMMENTS  \\\n",
       "0  25/12/2016 12:00:00 AM  Christmas Island NS, December 25, 2016. Reside...   \n",
       "1  27/11/2016 12:00:00 AM  Nova Scotia and Prince Edward Island, November...   \n",
       "2  14/11/2016 12:00:00 AM  Red Earth First Nation SK, July 14-18, 2016. H...   \n",
       "3  26/10/2016 12:00:00 AM  Alberta and Saskatchewan, October 26 to Decemb...   \n",
       "4  13/10/2016 12:00:00 AM  Seaforth Channel BC, October 13, 2016. The art...   \n",
       "\n",
       "   FATALITIES  INJURED / INFECTED  EVACUATED  ...          EVENT END DATE  \\\n",
       "0         NaN                 NaN        NaN  ...  25/12/2016 12:00:00 AM   \n",
       "1         NaN                 NaN        NaN  ...  29/11/2016 12:00:00 AM   \n",
       "2         NaN                 NaN      576.0  ...  18/11/2016 12:00:00 AM   \n",
       "3         NaN                 NaN        NaN  ...  21/12/2016 12:00:00 AM   \n",
       "4         NaN                 NaN        NaN  ...  13/10/2016 12:00:00 AM   \n",
       "\n",
       "   FEDERAL DFAA PAYMENTS PROVINCIAL DFAA PAYMENTS  \\\n",
       "0                    NaN                      NaN   \n",
       "1                    NaN                      NaN   \n",
       "2                    NaN                      NaN   \n",
       "3             16700000.0                      NaN   \n",
       "4                    NaN                      NaN   \n",
       "\n",
       "   PROVINCIAL DEPARTMENT PAYMENTS  MUNICIPAL COSTS  OGD COSTS  \\\n",
       "0                             NaN              NaN        NaN   \n",
       "1                             NaN              NaN        NaN   \n",
       "2                             NaN              NaN        NaN   \n",
       "3                             NaN              NaN        NaN   \n",
       "4                             NaN              NaN        NaN   \n",
       "\n",
       "   INSURANCE PAYMENTS  NGO PAYMENTS  UTILITY - PEOPLE AFFECTED  MAGNITUDE  \n",
       "0                 NaN           NaN                    10038.0        NaN  \n",
       "1                 NaN           NaN                    69000.0        NaN  \n",
       "2                 NaN           NaN                        NaN        NaN  \n",
       "3                 NaN           NaN                        NaN        NaN  \n",
       "4                 NaN           NaN                        NaN        NaN  \n",
       "\n",
       "[5 rows x 22 columns]"
      ]
     },
     "execution_count": 8,
     "metadata": {},
     "output_type": "execute_result"
    }
   ],
   "source": [
    "cdd_data = pd.read_csv('CDD.csv', sep='\\t')\n",
    "cdd_data.head(5)"
   ]
  },
  {
   "cell_type": "markdown",
   "metadata": {},
   "source": [
    "#### Explore the dataframe"
   ]
  },
  {
   "cell_type": "code",
   "execution_count": 10,
   "metadata": {},
   "outputs": [
    {
     "data": {
      "text/plain": [
       "EVENT CATEGORY                     object\n",
       "EVENT GROUP                        object\n",
       "EVENT SUBGROUP                     object\n",
       "EVENT TYPE                         object\n",
       "PLACE                              object\n",
       "EVENT START DATE                   object\n",
       "COMMENTS                           object\n",
       "FATALITIES                        float64\n",
       "INJURED / INFECTED                float64\n",
       "EVACUATED                         float64\n",
       "ESTIMATED TOTAL COST              float64\n",
       "NORMALIZED TOTAL COST             float64\n",
       "EVENT END DATE                     object\n",
       "FEDERAL DFAA PAYMENTS             float64\n",
       "PROVINCIAL DFAA PAYMENTS          float64\n",
       "PROVINCIAL DEPARTMENT PAYMENTS    float64\n",
       "MUNICIPAL COSTS                   float64\n",
       "OGD COSTS                         float64\n",
       "INSURANCE PAYMENTS                float64\n",
       "NGO PAYMENTS                      float64\n",
       "UTILITY - PEOPLE AFFECTED         float64\n",
       "MAGNITUDE                         float64\n",
       "dtype: object"
      ]
     },
     "execution_count": 10,
     "metadata": {},
     "output_type": "execute_result"
    }
   ],
   "source": [
    "cdd_data.dtypes"
   ]
  },
  {
   "cell_type": "code",
   "execution_count": 14,
   "metadata": {},
   "outputs": [
    {
     "name": "stdout",
     "output_type": "stream",
     "text": [
      "EVENT CATEGORY                       0\n",
      "EVENT GROUP                          0\n",
      "EVENT SUBGROUP                       0\n",
      "EVENT TYPE                           0\n",
      "PLACE                                0\n",
      "EVENT START DATE                     0\n",
      "COMMENTS                             0\n",
      "FATALITIES                          89\n",
      "INJURED / INFECTED                 115\n",
      "EVACUATED                           70\n",
      "ESTIMATED TOTAL COST               531\n",
      "NORMALIZED TOTAL COST              531\n",
      "EVENT END DATE                       0\n",
      "FEDERAL DFAA PAYMENTS              604\n",
      "PROVINCIAL DFAA PAYMENTS           678\n",
      "PROVINCIAL DEPARTMENT PAYMENTS     997\n",
      "MUNICIPAL COSTS                   1060\n",
      "OGD COSTS                         1075\n",
      "INSURANCE PAYMENTS                1017\n",
      "NGO PAYMENTS                      1081\n",
      "UTILITY - PEOPLE AFFECTED           83\n",
      "MAGNITUDE                          114\n",
      "dtype: int64\n",
      "(1089, 22)\n"
     ]
    }
   ],
   "source": [
    "null_cols = cdd_data.isnull().sum()\n",
    "print(null_cols)\n",
    "print(cdd_data.shape)"
   ]
  },
  {
   "cell_type": "markdown",
   "metadata": {},
   "source": [
    "#### Clean the data"
   ]
  },
  {
   "cell_type": "code",
   "execution_count": 17,
   "metadata": {},
   "outputs": [
    {
     "data": {
      "text/html": [
       "<div>\n",
       "<style scoped>\n",
       "    .dataframe tbody tr th:only-of-type {\n",
       "        vertical-align: middle;\n",
       "    }\n",
       "\n",
       "    .dataframe tbody tr th {\n",
       "        vertical-align: top;\n",
       "    }\n",
       "\n",
       "    .dataframe thead th {\n",
       "        text-align: right;\n",
       "    }\n",
       "</style>\n",
       "<table border=\"1\" class=\"dataframe\">\n",
       "  <thead>\n",
       "    <tr style=\"text-align: right;\">\n",
       "      <th></th>\n",
       "      <th>EVENT CATEGORY</th>\n",
       "      <th>EVENT GROUP</th>\n",
       "      <th>EVENT SUBGROUP</th>\n",
       "      <th>EVENT TYPE</th>\n",
       "      <th>PLACE</th>\n",
       "      <th>EVENT START DATE</th>\n",
       "      <th>COMMENTS</th>\n",
       "      <th>FATALITIES</th>\n",
       "      <th>INJURED / INFECTED</th>\n",
       "      <th>EVACUATED</th>\n",
       "      <th>ESTIMATED TOTAL COST</th>\n",
       "      <th>NORMALIZED TOTAL COST</th>\n",
       "      <th>EVENT END DATE</th>\n",
       "      <th>UTILITY - PEOPLE AFFECTED</th>\n",
       "      <th>MAGNITUDE</th>\n",
       "    </tr>\n",
       "  </thead>\n",
       "  <tbody>\n",
       "    <tr>\n",
       "      <td>0</td>\n",
       "      <td>Disaster</td>\n",
       "      <td>Natural</td>\n",
       "      <td>Meteorological - Hydrological</td>\n",
       "      <td>Storm - Unspecified / Other</td>\n",
       "      <td>Christmas Island NS</td>\n",
       "      <td>25/12/2016 12:00:00 AM</td>\n",
       "      <td>Christmas Island NS, December 25, 2016. Reside...</td>\n",
       "      <td>NaN</td>\n",
       "      <td>NaN</td>\n",
       "      <td>NaN</td>\n",
       "      <td>0.0</td>\n",
       "      <td>0.0</td>\n",
       "      <td>25/12/2016 12:00:00 AM</td>\n",
       "      <td>10038.0</td>\n",
       "      <td>NaN</td>\n",
       "    </tr>\n",
       "    <tr>\n",
       "      <td>1</td>\n",
       "      <td>Disaster</td>\n",
       "      <td>Natural</td>\n",
       "      <td>Meteorological - Hydrological</td>\n",
       "      <td>Winter Storm</td>\n",
       "      <td>Nova Scotia and Prince Edward Island</td>\n",
       "      <td>27/11/2016 12:00:00 AM</td>\n",
       "      <td>Nova Scotia and Prince Edward Island, November...</td>\n",
       "      <td>NaN</td>\n",
       "      <td>NaN</td>\n",
       "      <td>NaN</td>\n",
       "      <td>0.0</td>\n",
       "      <td>0.0</td>\n",
       "      <td>29/11/2016 12:00:00 AM</td>\n",
       "      <td>69000.0</td>\n",
       "      <td>NaN</td>\n",
       "    </tr>\n",
       "    <tr>\n",
       "      <td>2</td>\n",
       "      <td>Disaster</td>\n",
       "      <td>Natural</td>\n",
       "      <td>Meteorological - Hydrological</td>\n",
       "      <td>Flood</td>\n",
       "      <td>Red Earth First Nation SK</td>\n",
       "      <td>14/11/2016 12:00:00 AM</td>\n",
       "      <td>Red Earth First Nation SK, July 14-18, 2016. H...</td>\n",
       "      <td>NaN</td>\n",
       "      <td>NaN</td>\n",
       "      <td>576.0</td>\n",
       "      <td>0.0</td>\n",
       "      <td>0.0</td>\n",
       "      <td>18/11/2016 12:00:00 AM</td>\n",
       "      <td>NaN</td>\n",
       "      <td>NaN</td>\n",
       "    </tr>\n",
       "    <tr>\n",
       "      <td>3</td>\n",
       "      <td>Disaster</td>\n",
       "      <td>Natural</td>\n",
       "      <td>Biological</td>\n",
       "      <td>Epidemic</td>\n",
       "      <td>Alberta and Saskatchewan</td>\n",
       "      <td>26/10/2016 12:00:00 AM</td>\n",
       "      <td>Alberta and Saskatchewan, October 26 to Decemb...</td>\n",
       "      <td>NaN</td>\n",
       "      <td>NaN</td>\n",
       "      <td>NaN</td>\n",
       "      <td>16700000.0</td>\n",
       "      <td>780373.8</td>\n",
       "      <td>21/12/2016 12:00:00 AM</td>\n",
       "      <td>NaN</td>\n",
       "      <td>NaN</td>\n",
       "    </tr>\n",
       "    <tr>\n",
       "      <td>4</td>\n",
       "      <td>Incident</td>\n",
       "      <td>Technology</td>\n",
       "      <td>Hazardous Chemicals</td>\n",
       "      <td>Leak / Spill Release</td>\n",
       "      <td>Seaforth Channel BC</td>\n",
       "      <td>13/10/2016 12:00:00 AM</td>\n",
       "      <td>Seaforth Channel BC, October 13, 2016. The art...</td>\n",
       "      <td>NaN</td>\n",
       "      <td>NaN</td>\n",
       "      <td>NaN</td>\n",
       "      <td>0.0</td>\n",
       "      <td>0.0</td>\n",
       "      <td>13/10/2016 12:00:00 AM</td>\n",
       "      <td>NaN</td>\n",
       "      <td>NaN</td>\n",
       "    </tr>\n",
       "  </tbody>\n",
       "</table>\n",
       "</div>"
      ],
      "text/plain": [
       "  EVENT CATEGORY EVENT GROUP                 EVENT SUBGROUP  \\\n",
       "0       Disaster     Natural  Meteorological - Hydrological   \n",
       "1       Disaster     Natural  Meteorological - Hydrological   \n",
       "2       Disaster     Natural  Meteorological - Hydrological   \n",
       "3       Disaster     Natural                     Biological   \n",
       "4       Incident  Technology            Hazardous Chemicals   \n",
       "\n",
       "                    EVENT TYPE                                 PLACE  \\\n",
       "0  Storm - Unspecified / Other                   Christmas Island NS   \n",
       "1                 Winter Storm  Nova Scotia and Prince Edward Island   \n",
       "2                        Flood             Red Earth First Nation SK   \n",
       "3                     Epidemic              Alberta and Saskatchewan   \n",
       "4         Leak / Spill Release                   Seaforth Channel BC   \n",
       "\n",
       "         EVENT START DATE                                           COMMENTS  \\\n",
       "0  25/12/2016 12:00:00 AM  Christmas Island NS, December 25, 2016. Reside...   \n",
       "1  27/11/2016 12:00:00 AM  Nova Scotia and Prince Edward Island, November...   \n",
       "2  14/11/2016 12:00:00 AM  Red Earth First Nation SK, July 14-18, 2016. H...   \n",
       "3  26/10/2016 12:00:00 AM  Alberta and Saskatchewan, October 26 to Decemb...   \n",
       "4  13/10/2016 12:00:00 AM  Seaforth Channel BC, October 13, 2016. The art...   \n",
       "\n",
       "   FATALITIES  INJURED / INFECTED  EVACUATED  ESTIMATED TOTAL COST  \\\n",
       "0         NaN                 NaN        NaN                   0.0   \n",
       "1         NaN                 NaN        NaN                   0.0   \n",
       "2         NaN                 NaN      576.0                   0.0   \n",
       "3         NaN                 NaN        NaN            16700000.0   \n",
       "4         NaN                 NaN        NaN                   0.0   \n",
       "\n",
       "   NORMALIZED TOTAL COST          EVENT END DATE  UTILITY - PEOPLE AFFECTED  \\\n",
       "0                    0.0  25/12/2016 12:00:00 AM                    10038.0   \n",
       "1                    0.0  29/11/2016 12:00:00 AM                    69000.0   \n",
       "2                    0.0  18/11/2016 12:00:00 AM                        NaN   \n",
       "3               780373.8  21/12/2016 12:00:00 AM                        NaN   \n",
       "4                    0.0  13/10/2016 12:00:00 AM                        NaN   \n",
       "\n",
       "   MAGNITUDE  \n",
       "0        NaN  \n",
       "1        NaN  \n",
       "2        NaN  \n",
       "3        NaN  \n",
       "4        NaN  "
      ]
     },
     "execution_count": 17,
     "metadata": {},
     "output_type": "execute_result"
    }
   ],
   "source": [
    "drop_cols = list(null_cols[null_cols > 600].index)\n",
    "cleaned_cdd = cdd_data.drop(drop_cols, axis=1)\n",
    "cleaned_cdd.head(5)"
   ]
  },
  {
   "cell_type": "code",
   "execution_count": 19,
   "metadata": {},
   "outputs": [
    {
     "name": "stdout",
     "output_type": "stream",
     "text": [
      "EVENT CATEGORY                 0\n",
      "EVENT GROUP                    0\n",
      "EVENT SUBGROUP                 0\n",
      "EVENT TYPE                     0\n",
      "PLACE                          0\n",
      "EVENT START DATE               0\n",
      "COMMENTS                       0\n",
      "FATALITIES                    89\n",
      "INJURED / INFECTED           115\n",
      "EVACUATED                     70\n",
      "ESTIMATED TOTAL COST         531\n",
      "NORMALIZED TOTAL COST        531\n",
      "EVENT END DATE                 0\n",
      "UTILITY - PEOPLE AFFECTED     83\n",
      "MAGNITUDE                    114\n",
      "dtype: int64\n",
      "(1089, 15)\n"
     ]
    }
   ],
   "source": [
    "null_cols2 = cleaned_cdd.isnull().sum()\n",
    "print(null_cols2)\n",
    "print(cleaned_cdd.shape)"
   ]
  },
  {
   "cell_type": "markdown",
   "metadata": {},
   "source": [
    "#### Print the correlation matrix"
   ]
  },
  {
   "cell_type": "code",
   "execution_count": 24,
   "metadata": {},
   "outputs": [
    {
     "data": {
      "text/html": [
       "<div>\n",
       "<style scoped>\n",
       "    .dataframe tbody tr th:only-of-type {\n",
       "        vertical-align: middle;\n",
       "    }\n",
       "\n",
       "    .dataframe tbody tr th {\n",
       "        vertical-align: top;\n",
       "    }\n",
       "\n",
       "    .dataframe thead th {\n",
       "        text-align: right;\n",
       "    }\n",
       "</style>\n",
       "<table border=\"1\" class=\"dataframe\">\n",
       "  <thead>\n",
       "    <tr style=\"text-align: right;\">\n",
       "      <th></th>\n",
       "      <th>FATALITIES</th>\n",
       "      <th>INJURED / INFECTED</th>\n",
       "      <th>EVACUATED</th>\n",
       "      <th>ESTIMATED TOTAL COST</th>\n",
       "      <th>NORMALIZED TOTAL COST</th>\n",
       "      <th>UTILITY - PEOPLE AFFECTED</th>\n",
       "      <th>MAGNITUDE</th>\n",
       "    </tr>\n",
       "  </thead>\n",
       "  <tbody>\n",
       "    <tr>\n",
       "      <td>FATALITIES</td>\n",
       "      <td>1.000000</td>\n",
       "      <td>0.998728</td>\n",
       "      <td>-0.003530</td>\n",
       "      <td>0.027839</td>\n",
       "      <td>0.031352</td>\n",
       "      <td>-0.001548</td>\n",
       "      <td>-0.003988</td>\n",
       "    </tr>\n",
       "    <tr>\n",
       "      <td>INJURED / INFECTED</td>\n",
       "      <td>0.998728</td>\n",
       "      <td>1.000000</td>\n",
       "      <td>-0.003554</td>\n",
       "      <td>0.073538</td>\n",
       "      <td>0.080907</td>\n",
       "      <td>-0.001498</td>\n",
       "      <td>-0.003356</td>\n",
       "    </tr>\n",
       "    <tr>\n",
       "      <td>EVACUATED</td>\n",
       "      <td>-0.003530</td>\n",
       "      <td>-0.003554</td>\n",
       "      <td>1.000000</td>\n",
       "      <td>0.660335</td>\n",
       "      <td>0.580352</td>\n",
       "      <td>-0.002430</td>\n",
       "      <td>-0.005672</td>\n",
       "    </tr>\n",
       "    <tr>\n",
       "      <td>ESTIMATED TOTAL COST</td>\n",
       "      <td>0.027839</td>\n",
       "      <td>0.073538</td>\n",
       "      <td>0.660335</td>\n",
       "      <td>1.000000</td>\n",
       "      <td>0.985690</td>\n",
       "      <td>0.412833</td>\n",
       "      <td>0.064788</td>\n",
       "    </tr>\n",
       "    <tr>\n",
       "      <td>NORMALIZED TOTAL COST</td>\n",
       "      <td>0.031352</td>\n",
       "      <td>0.080907</td>\n",
       "      <td>0.580352</td>\n",
       "      <td>0.985690</td>\n",
       "      <td>1.000000</td>\n",
       "      <td>0.415388</td>\n",
       "      <td>0.049626</td>\n",
       "    </tr>\n",
       "    <tr>\n",
       "      <td>UTILITY - PEOPLE AFFECTED</td>\n",
       "      <td>-0.001548</td>\n",
       "      <td>-0.001498</td>\n",
       "      <td>-0.002430</td>\n",
       "      <td>0.412833</td>\n",
       "      <td>0.415388</td>\n",
       "      <td>1.000000</td>\n",
       "      <td>-0.002231</td>\n",
       "    </tr>\n",
       "    <tr>\n",
       "      <td>MAGNITUDE</td>\n",
       "      <td>-0.003988</td>\n",
       "      <td>-0.003356</td>\n",
       "      <td>-0.005672</td>\n",
       "      <td>0.064788</td>\n",
       "      <td>0.049626</td>\n",
       "      <td>-0.002231</td>\n",
       "      <td>1.000000</td>\n",
       "    </tr>\n",
       "  </tbody>\n",
       "</table>\n",
       "</div>"
      ],
      "text/plain": [
       "                           FATALITIES  INJURED / INFECTED  EVACUATED  \\\n",
       "FATALITIES                   1.000000            0.998728  -0.003530   \n",
       "INJURED / INFECTED           0.998728            1.000000  -0.003554   \n",
       "EVACUATED                   -0.003530           -0.003554   1.000000   \n",
       "ESTIMATED TOTAL COST         0.027839            0.073538   0.660335   \n",
       "NORMALIZED TOTAL COST        0.031352            0.080907   0.580352   \n",
       "UTILITY - PEOPLE AFFECTED   -0.001548           -0.001498  -0.002430   \n",
       "MAGNITUDE                   -0.003988           -0.003356  -0.005672   \n",
       "\n",
       "                           ESTIMATED TOTAL COST  NORMALIZED TOTAL COST  \\\n",
       "FATALITIES                             0.027839               0.031352   \n",
       "INJURED / INFECTED                     0.073538               0.080907   \n",
       "EVACUATED                              0.660335               0.580352   \n",
       "ESTIMATED TOTAL COST                   1.000000               0.985690   \n",
       "NORMALIZED TOTAL COST                  0.985690               1.000000   \n",
       "UTILITY - PEOPLE AFFECTED              0.412833               0.415388   \n",
       "MAGNITUDE                              0.064788               0.049626   \n",
       "\n",
       "                           UTILITY - PEOPLE AFFECTED  MAGNITUDE  \n",
       "FATALITIES                                 -0.001548  -0.003988  \n",
       "INJURED / INFECTED                         -0.001498  -0.003356  \n",
       "EVACUATED                                  -0.002430  -0.005672  \n",
       "ESTIMATED TOTAL COST                        0.412833   0.064788  \n",
       "NORMALIZED TOTAL COST                       0.415388   0.049626  \n",
       "UTILITY - PEOPLE AFFECTED                   1.000000  -0.002231  \n",
       "MAGNITUDE                                  -0.002231   1.000000  "
      ]
     },
     "execution_count": 24,
     "metadata": {},
     "output_type": "execute_result"
    }
   ],
   "source": [
    "cdd_corr2 = cleaned_cdd.corr()\n",
    "cdd_corr2"
   ]
  },
  {
   "cell_type": "code",
   "execution_count": 30,
   "metadata": {},
   "outputs": [
    {
     "data": {
      "text/plain": [
       "<matplotlib.axes._subplots.AxesSubplot at 0x11ca61dd0>"
      ]
     },
     "execution_count": 30,
     "metadata": {},
     "output_type": "execute_result"
    },
    {
     "data": {
      "image/png": "[encoded data removed]",
      "text/plain": [
       "<Figure size 432x288 with 2 Axes>"
      ]
     },
     "metadata": {
      "needs_background": "light"
     },
     "output_type": "display_data"
    }
   ],
   "source": [
    "cdd_heat2 = sns.heatmap(cdd_corr2)\n",
    "cdd_heat2"
   ]
  },
  {
   "cell_type": "code",
   "execution_count": 29,
   "metadata": {},
   "outputs": [
    {
     "data": {
      "text/html": [
       "<div>\n",
       "<style scoped>\n",
       "    .dataframe tbody tr th:only-of-type {\n",
       "        vertical-align: middle;\n",
       "    }\n",
       "\n",
       "    .dataframe tbody tr th {\n",
       "        vertical-align: top;\n",
       "    }\n",
       "\n",
       "    .dataframe thead th {\n",
       "        text-align: right;\n",
       "    }\n",
       "</style>\n",
       "<table border=\"1\" class=\"dataframe\">\n",
       "  <thead>\n",
       "    <tr style=\"text-align: right;\">\n",
       "      <th></th>\n",
       "      <th>FATALITIES</th>\n",
       "      <th>INJURED / INFECTED</th>\n",
       "      <th>EVACUATED</th>\n",
       "      <th>ESTIMATED TOTAL COST</th>\n",
       "      <th>NORMALIZED TOTAL COST</th>\n",
       "      <th>FEDERAL DFAA PAYMENTS</th>\n",
       "      <th>PROVINCIAL DFAA PAYMENTS</th>\n",
       "      <th>PROVINCIAL DEPARTMENT PAYMENTS</th>\n",
       "      <th>MUNICIPAL COSTS</th>\n",
       "      <th>OGD COSTS</th>\n",
       "      <th>INSURANCE PAYMENTS</th>\n",
       "      <th>NGO PAYMENTS</th>\n",
       "      <th>UTILITY - PEOPLE AFFECTED</th>\n",
       "      <th>MAGNITUDE</th>\n",
       "    </tr>\n",
       "  </thead>\n",
       "  <tbody>\n",
       "    <tr>\n",
       "      <td>FATALITIES</td>\n",
       "      <td>1.000000</td>\n",
       "      <td>0.998728</td>\n",
       "      <td>-0.003530</td>\n",
       "      <td>0.027839</td>\n",
       "      <td>0.031352</td>\n",
       "      <td>0.014838</td>\n",
       "      <td>-0.020317</td>\n",
       "      <td>-0.023630</td>\n",
       "      <td>0.965880</td>\n",
       "      <td>0.417442</td>\n",
       "      <td>0.241347</td>\n",
       "      <td>0.966678</td>\n",
       "      <td>-0.001548</td>\n",
       "      <td>-0.003988</td>\n",
       "    </tr>\n",
       "    <tr>\n",
       "      <td>INJURED / INFECTED</td>\n",
       "      <td>0.998728</td>\n",
       "      <td>1.000000</td>\n",
       "      <td>-0.003554</td>\n",
       "      <td>0.073538</td>\n",
       "      <td>0.080907</td>\n",
       "      <td>0.311491</td>\n",
       "      <td>0.404215</td>\n",
       "      <td>-0.002056</td>\n",
       "      <td>0.965286</td>\n",
       "      <td>-0.036915</td>\n",
       "      <td>0.456924</td>\n",
       "      <td>0.999639</td>\n",
       "      <td>-0.001498</td>\n",
       "      <td>-0.003356</td>\n",
       "    </tr>\n",
       "    <tr>\n",
       "      <td>EVACUATED</td>\n",
       "      <td>-0.003530</td>\n",
       "      <td>-0.003554</td>\n",
       "      <td>1.000000</td>\n",
       "      <td>0.660335</td>\n",
       "      <td>0.580352</td>\n",
       "      <td>0.406679</td>\n",
       "      <td>0.083692</td>\n",
       "      <td>0.212975</td>\n",
       "      <td>0.514186</td>\n",
       "      <td>0.154761</td>\n",
       "      <td>0.825937</td>\n",
       "      <td>0.838898</td>\n",
       "      <td>-0.002430</td>\n",
       "      <td>-0.005672</td>\n",
       "    </tr>\n",
       "    <tr>\n",
       "      <td>ESTIMATED TOTAL COST</td>\n",
       "      <td>0.027839</td>\n",
       "      <td>0.073538</td>\n",
       "      <td>0.660335</td>\n",
       "      <td>1.000000</td>\n",
       "      <td>0.985690</td>\n",
       "      <td>0.796016</td>\n",
       "      <td>0.571493</td>\n",
       "      <td>0.184582</td>\n",
       "      <td>0.992845</td>\n",
       "      <td>0.238737</td>\n",
       "      <td>0.923990</td>\n",
       "      <td>0.999996</td>\n",
       "      <td>0.412833</td>\n",
       "      <td>0.064788</td>\n",
       "    </tr>\n",
       "    <tr>\n",
       "      <td>NORMALIZED TOTAL COST</td>\n",
       "      <td>0.031352</td>\n",
       "      <td>0.080907</td>\n",
       "      <td>0.580352</td>\n",
       "      <td>0.985690</td>\n",
       "      <td>1.000000</td>\n",
       "      <td>0.770445</td>\n",
       "      <td>0.577570</td>\n",
       "      <td>0.158622</td>\n",
       "      <td>0.992722</td>\n",
       "      <td>0.201398</td>\n",
       "      <td>0.849023</td>\n",
       "      <td>0.999995</td>\n",
       "      <td>0.415388</td>\n",
       "      <td>0.049626</td>\n",
       "    </tr>\n",
       "    <tr>\n",
       "      <td>FEDERAL DFAA PAYMENTS</td>\n",
       "      <td>0.014838</td>\n",
       "      <td>0.311491</td>\n",
       "      <td>0.406679</td>\n",
       "      <td>0.796016</td>\n",
       "      <td>0.770445</td>\n",
       "      <td>1.000000</td>\n",
       "      <td>0.626224</td>\n",
       "      <td>0.070189</td>\n",
       "      <td>0.956807</td>\n",
       "      <td>-0.021965</td>\n",
       "      <td>0.779394</td>\n",
       "      <td>0.999958</td>\n",
       "      <td>0.022835</td>\n",
       "      <td>0.003859</td>\n",
       "    </tr>\n",
       "    <tr>\n",
       "      <td>PROVINCIAL DFAA PAYMENTS</td>\n",
       "      <td>-0.020317</td>\n",
       "      <td>0.404215</td>\n",
       "      <td>0.083692</td>\n",
       "      <td>0.571493</td>\n",
       "      <td>0.577570</td>\n",
       "      <td>0.626224</td>\n",
       "      <td>1.000000</td>\n",
       "      <td>0.115947</td>\n",
       "      <td>0.717184</td>\n",
       "      <td>1.000000</td>\n",
       "      <td>0.850335</td>\n",
       "      <td>0.998123</td>\n",
       "      <td>-0.003366</td>\n",
       "      <td>0.119110</td>\n",
       "    </tr>\n",
       "    <tr>\n",
       "      <td>PROVINCIAL DEPARTMENT PAYMENTS</td>\n",
       "      <td>-0.023630</td>\n",
       "      <td>-0.002056</td>\n",
       "      <td>0.212975</td>\n",
       "      <td>0.184582</td>\n",
       "      <td>0.158622</td>\n",
       "      <td>0.070189</td>\n",
       "      <td>0.115947</td>\n",
       "      <td>1.000000</td>\n",
       "      <td>0.078196</td>\n",
       "      <td>0.641075</td>\n",
       "      <td>0.299118</td>\n",
       "      <td>0.994163</td>\n",
       "      <td>-0.026786</td>\n",
       "      <td>NaN</td>\n",
       "    </tr>\n",
       "    <tr>\n",
       "      <td>MUNICIPAL COSTS</td>\n",
       "      <td>0.965880</td>\n",
       "      <td>0.965286</td>\n",
       "      <td>0.514186</td>\n",
       "      <td>0.992845</td>\n",
       "      <td>0.992722</td>\n",
       "      <td>0.956807</td>\n",
       "      <td>0.717184</td>\n",
       "      <td>0.078196</td>\n",
       "      <td>1.000000</td>\n",
       "      <td>NaN</td>\n",
       "      <td>0.991906</td>\n",
       "      <td>0.999999</td>\n",
       "      <td>0.765488</td>\n",
       "      <td>NaN</td>\n",
       "    </tr>\n",
       "    <tr>\n",
       "      <td>OGD COSTS</td>\n",
       "      <td>0.417442</td>\n",
       "      <td>-0.036915</td>\n",
       "      <td>0.154761</td>\n",
       "      <td>0.238737</td>\n",
       "      <td>0.201398</td>\n",
       "      <td>-0.021965</td>\n",
       "      <td>1.000000</td>\n",
       "      <td>0.641075</td>\n",
       "      <td>NaN</td>\n",
       "      <td>1.000000</td>\n",
       "      <td>NaN</td>\n",
       "      <td>NaN</td>\n",
       "      <td>-0.092983</td>\n",
       "      <td>0.208801</td>\n",
       "    </tr>\n",
       "    <tr>\n",
       "      <td>INSURANCE PAYMENTS</td>\n",
       "      <td>0.241347</td>\n",
       "      <td>0.456924</td>\n",
       "      <td>0.825937</td>\n",
       "      <td>0.923990</td>\n",
       "      <td>0.849023</td>\n",
       "      <td>0.779394</td>\n",
       "      <td>0.850335</td>\n",
       "      <td>0.299118</td>\n",
       "      <td>0.991906</td>\n",
       "      <td>NaN</td>\n",
       "      <td>1.000000</td>\n",
       "      <td>NaN</td>\n",
       "      <td>0.604148</td>\n",
       "      <td>0.241767</td>\n",
       "    </tr>\n",
       "    <tr>\n",
       "      <td>NGO PAYMENTS</td>\n",
       "      <td>0.966678</td>\n",
       "      <td>0.999639</td>\n",
       "      <td>0.838898</td>\n",
       "      <td>0.999996</td>\n",
       "      <td>0.999995</td>\n",
       "      <td>0.999958</td>\n",
       "      <td>0.998123</td>\n",
       "      <td>0.994163</td>\n",
       "      <td>0.999999</td>\n",
       "      <td>NaN</td>\n",
       "      <td>NaN</td>\n",
       "      <td>1.000000</td>\n",
       "      <td>0.999999</td>\n",
       "      <td>NaN</td>\n",
       "    </tr>\n",
       "    <tr>\n",
       "      <td>UTILITY - PEOPLE AFFECTED</td>\n",
       "      <td>-0.001548</td>\n",
       "      <td>-0.001498</td>\n",
       "      <td>-0.002430</td>\n",
       "      <td>0.412833</td>\n",
       "      <td>0.415388</td>\n",
       "      <td>0.022835</td>\n",
       "      <td>-0.003366</td>\n",
       "      <td>-0.026786</td>\n",
       "      <td>0.765488</td>\n",
       "      <td>-0.092983</td>\n",
       "      <td>0.604148</td>\n",
       "      <td>0.999999</td>\n",
       "      <td>1.000000</td>\n",
       "      <td>-0.002231</td>\n",
       "    </tr>\n",
       "    <tr>\n",
       "      <td>MAGNITUDE</td>\n",
       "      <td>-0.003988</td>\n",
       "      <td>-0.003356</td>\n",
       "      <td>-0.005672</td>\n",
       "      <td>0.064788</td>\n",
       "      <td>0.049626</td>\n",
       "      <td>0.003859</td>\n",
       "      <td>0.119110</td>\n",
       "      <td>NaN</td>\n",
       "      <td>NaN</td>\n",
       "      <td>0.208801</td>\n",
       "      <td>0.241767</td>\n",
       "      <td>NaN</td>\n",
       "      <td>-0.002231</td>\n",
       "      <td>1.000000</td>\n",
       "    </tr>\n",
       "  </tbody>\n",
       "</table>\n",
       "</div>"
      ],
      "text/plain": [
       "                                FATALITIES  INJURED / INFECTED  EVACUATED  \\\n",
       "FATALITIES                        1.000000            0.998728  -0.003530   \n",
       "INJURED / INFECTED                0.998728            1.000000  -0.003554   \n",
       "EVACUATED                        -0.003530           -0.003554   1.000000   \n",
       "ESTIMATED TOTAL COST              0.027839            0.073538   0.660335   \n",
       "NORMALIZED TOTAL COST             0.031352            0.080907   0.580352   \n",
       "FEDERAL DFAA PAYMENTS             0.014838            0.311491   0.406679   \n",
       "PROVINCIAL DFAA PAYMENTS         -0.020317            0.404215   0.083692   \n",
       "PROVINCIAL DEPARTMENT PAYMENTS   -0.023630           -0.002056   0.212975   \n",
       "MUNICIPAL COSTS                   0.965880            0.965286   0.514186   \n",
       "OGD COSTS                         0.417442           -0.036915   0.154761   \n",
       "INSURANCE PAYMENTS                0.241347            0.456924   0.825937   \n",
       "NGO PAYMENTS                      0.966678            0.999639   0.838898   \n",
       "UTILITY - PEOPLE AFFECTED        -0.001548           -0.001498  -0.002430   \n",
       "MAGNITUDE                        -0.003988           -0.003356  -0.005672   \n",
       "\n",
       "                                ESTIMATED TOTAL COST  NORMALIZED TOTAL COST  \\\n",
       "FATALITIES                                  0.027839               0.031352   \n",
       "INJURED / INFECTED                          0.073538               0.080907   \n",
       "EVACUATED                                   0.660335               0.580352   \n",
       "ESTIMATED TOTAL COST                        1.000000               0.985690   \n",
       "NORMALIZED TOTAL COST                       0.985690               1.000000   \n",
       "FEDERAL DFAA PAYMENTS                       0.796016               0.770445   \n",
       "PROVINCIAL DFAA PAYMENTS                    0.571493               0.577570   \n",
       "PROVINCIAL DEPARTMENT PAYMENTS              0.184582               0.158622   \n",
       "MUNICIPAL COSTS                             0.992845               0.992722   \n",
       "OGD COSTS                                   0.238737               0.201398   \n",
       "INSURANCE PAYMENTS                          0.923990               0.849023   \n",
       "NGO PAYMENTS                                0.999996               0.999995   \n",
       "UTILITY - PEOPLE AFFECTED                   0.412833               0.415388   \n",
       "MAGNITUDE                                   0.064788               0.049626   \n",
       "\n",
       "                                FEDERAL DFAA PAYMENTS  \\\n",
       "FATALITIES                                   0.014838   \n",
       "INJURED / INFECTED                           0.311491   \n",
       "EVACUATED                                    0.406679   \n",
       "ESTIMATED TOTAL COST                         0.796016   \n",
       "NORMALIZED TOTAL COST                        0.770445   \n",
       "FEDERAL DFAA PAYMENTS                        1.000000   \n",
       "PROVINCIAL DFAA PAYMENTS                     0.626224   \n",
       "PROVINCIAL DEPARTMENT PAYMENTS               0.070189   \n",
       "MUNICIPAL COSTS                              0.956807   \n",
       "OGD COSTS                                   -0.021965   \n",
       "INSURANCE PAYMENTS                           0.779394   \n",
       "NGO PAYMENTS                                 0.999958   \n",
       "UTILITY - PEOPLE AFFECTED                    0.022835   \n",
       "MAGNITUDE                                    0.003859   \n",
       "\n",
       "                                PROVINCIAL DFAA PAYMENTS  \\\n",
       "FATALITIES                                     -0.020317   \n",
       "INJURED / INFECTED                              0.404215   \n",
       "EVACUATED                                       0.083692   \n",
       "ESTIMATED TOTAL COST                            0.571493   \n",
       "NORMALIZED TOTAL COST                           0.577570   \n",
       "FEDERAL DFAA PAYMENTS                           0.626224   \n",
       "PROVINCIAL DFAA PAYMENTS                        1.000000   \n",
       "PROVINCIAL DEPARTMENT PAYMENTS                  0.115947   \n",
       "MUNICIPAL COSTS                                 0.717184   \n",
       "OGD COSTS                                       1.000000   \n",
       "INSURANCE PAYMENTS                              0.850335   \n",
       "NGO PAYMENTS                                    0.998123   \n",
       "UTILITY - PEOPLE AFFECTED                      -0.003366   \n",
       "MAGNITUDE                                       0.119110   \n",
       "\n",
       "                                PROVINCIAL DEPARTMENT PAYMENTS  \\\n",
       "FATALITIES                                           -0.023630   \n",
       "INJURED / INFECTED                                   -0.002056   \n",
       "EVACUATED                                             0.212975   \n",
       "ESTIMATED TOTAL COST                                  0.184582   \n",
       "NORMALIZED TOTAL COST                                 0.158622   \n",
       "FEDERAL DFAA PAYMENTS                                 0.070189   \n",
       "PROVINCIAL DFAA PAYMENTS                              0.115947   \n",
       "PROVINCIAL DEPARTMENT PAYMENTS                        1.000000   \n",
       "MUNICIPAL COSTS                                       0.078196   \n",
       "OGD COSTS                                             0.641075   \n",
       "INSURANCE PAYMENTS                                    0.299118   \n",
       "NGO PAYMENTS                                          0.994163   \n",
       "UTILITY - PEOPLE AFFECTED                            -0.026786   \n",
       "MAGNITUDE                                                  NaN   \n",
       "\n",
       "                                MUNICIPAL COSTS  OGD COSTS  \\\n",
       "FATALITIES                             0.965880   0.417442   \n",
       "INJURED / INFECTED                     0.965286  -0.036915   \n",
       "EVACUATED                              0.514186   0.154761   \n",
       "ESTIMATED TOTAL COST                   0.992845   0.238737   \n",
       "NORMALIZED TOTAL COST                  0.992722   0.201398   \n",
       "FEDERAL DFAA PAYMENTS                  0.956807  -0.021965   \n",
       "PROVINCIAL DFAA PAYMENTS               0.717184   1.000000   \n",
       "PROVINCIAL DEPARTMENT PAYMENTS         0.078196   0.641075   \n",
       "MUNICIPAL COSTS                        1.000000        NaN   \n",
       "OGD COSTS                                   NaN   1.000000   \n",
       "INSURANCE PAYMENTS                     0.991906        NaN   \n",
       "NGO PAYMENTS                           0.999999        NaN   \n",
       "UTILITY - PEOPLE AFFECTED              0.765488  -0.092983   \n",
       "MAGNITUDE                                   NaN   0.208801   \n",
       "\n",
       "                                INSURANCE PAYMENTS  NGO PAYMENTS  \\\n",
       "FATALITIES                                0.241347      0.966678   \n",
       "INJURED / INFECTED                        0.456924      0.999639   \n",
       "EVACUATED                                 0.825937      0.838898   \n",
       "ESTIMATED TOTAL COST                      0.923990      0.999996   \n",
       "NORMALIZED TOTAL COST                     0.849023      0.999995   \n",
       "FEDERAL DFAA PAYMENTS                     0.779394      0.999958   \n",
       "PROVINCIAL DFAA PAYMENTS                  0.850335      0.998123   \n",
       "PROVINCIAL DEPARTMENT PAYMENTS            0.299118      0.994163   \n",
       "MUNICIPAL COSTS                           0.991906      0.999999   \n",
       "OGD COSTS                                      NaN           NaN   \n",
       "INSURANCE PAYMENTS                        1.000000           NaN   \n",
       "NGO PAYMENTS                                   NaN      1.000000   \n",
       "UTILITY - PEOPLE AFFECTED                 0.604148      0.999999   \n",
       "MAGNITUDE                                 0.241767           NaN   \n",
       "\n",
       "                                UTILITY - PEOPLE AFFECTED  MAGNITUDE  \n",
       "FATALITIES                                      -0.001548  -0.003988  \n",
       "INJURED / INFECTED                              -0.001498  -0.003356  \n",
       "EVACUATED                                       -0.002430  -0.005672  \n",
       "ESTIMATED TOTAL COST                             0.412833   0.064788  \n",
       "NORMALIZED TOTAL COST                            0.415388   0.049626  \n",
       "FEDERAL DFAA PAYMENTS                            0.022835   0.003859  \n",
       "PROVINCIAL DFAA PAYMENTS                        -0.003366   0.119110  \n",
       "PROVINCIAL DEPARTMENT PAYMENTS                  -0.026786        NaN  \n",
       "MUNICIPAL COSTS                                  0.765488        NaN  \n",
       "OGD COSTS                                       -0.092983   0.208801  \n",
       "INSURANCE PAYMENTS                               0.604148   0.241767  \n",
       "NGO PAYMENTS                                     0.999999        NaN  \n",
       "UTILITY - PEOPLE AFFECTED                        1.000000  -0.002231  \n",
       "MAGNITUDE                                       -0.002231   1.000000  "
      ]
     },
     "execution_count": 29,
     "metadata": {},
     "output_type": "execute_result"
    }
   ],
   "source": [
    "#Ended up printing uncleaned correlation for the exercise below (find 3 pairs)\n",
    "cdd_corr = cdd_data.corr()\n",
    "cdd_corr"
   ]
  },
  {
   "cell_type": "markdown",
   "metadata": {},
   "source": [
    "#### Print a heat map of this correlation matrix \n",
    "\n",
    "(hint: use seaborn.heatmap())"
   ]
  },
  {
   "cell_type": "code",
   "execution_count": 31,
   "metadata": {},
   "outputs": [
    {
     "data": {
      "text/plain": [
       "<matplotlib.axes._subplots.AxesSubplot at 0x1a209c4990>"
      ]
     },
     "execution_count": 31,
     "metadata": {},
     "output_type": "execute_result"
    },
    {
     "data": {
      "image/png": "[encoded data removed]",
      "text/plain": [
       "<Figure size 432x288 with 2 Axes>"
      ]
     },
     "metadata": {
      "needs_background": "light"
     },
     "output_type": "display_data"
    }
   ],
   "source": [
    "cdd_heat = sns.heatmap(cdd_corr)\n",
    "cdd_heat"
   ]
  },
  {
   "cell_type": "markdown",
   "metadata": {},
   "source": [
    "#### Find 3 pairs of columns, one pair that is highly positively correlated, one for which the correlation is almost zero and one pair that is negatively correlated."
   ]
  },
  {
   "cell_type": "markdown",
   "metadata": {},
   "source": [
    "Choices:\n",
    "Column selection: Fatalities & Injured/Infected (high positive), Fatalities & Evacuated (zero), \n",
    "Utility - People Affected & OGD Costs (negative)\n"
   ]
  },
  {
   "cell_type": "markdown",
   "metadata": {},
   "source": [
    "#### In each case write down an explanation why we see this correlation"
   ]
  },
  {
   "cell_type": "markdown",
   "metadata": {},
   "source": [
    "###### Fatalities & Injured/Infected:"
   ]
  },
  {
   "cell_type": "markdown",
   "metadata": {},
   "source": [
    " positive because people who are injured or infected have a higher chance to also belong to the group of fatalities in a given disaster event."
   ]
  },
  {
   "cell_type": "markdown",
   "metadata": {},
   "source": [
    "###### Fatalities & Evacuated: "
   ]
  },
  {
   "cell_type": "markdown",
   "metadata": {},
   "source": [
    "Dead people don't evacuate."
   ]
  },
  {
   "cell_type": "markdown",
   "metadata": {},
   "source": [
    "###### Utility - People Affected & OGD Costs: "
   ]
  },
  {
   "cell_type": "markdown",
   "metadata": {},
   "source": [
    "OGD stands for \"Other Government Departments and Agencies\";  these include things like Canada Post, Canadian Food Inspection Agency, Environment and Climate Change Canada,  National Energy Board, Health Canada, Public Health Agency of Canada. The latter might be relevant in disaster situations but the OGD column had many NaN values, so it's hard to say how it plays a part.  The correlation here is negative, which is also confusing."
   ]
  },
  {
   "cell_type": "markdown",
   "metadata": {},
   "source": [
    "#### Look up the pairplot function in Seaborn. Use it to plot the pairwise relations between the six columns you selected. "
   ]
  },
  {
   "cell_type": "markdown",
   "metadata": {},
   "source": [
    "###### Fatalities & Injured/Infected"
   ]
  },
  {
   "cell_type": "code",
   "execution_count": 38,
   "metadata": {},
   "outputs": [
    {
     "name": "stderr",
     "output_type": "stream",
     "text": [
      "/Users/pmoquette/opt/anaconda3/lib/python3.7/site-packages/numpy/lib/histograms.py:829: RuntimeWarning:\n",
      "\n",
      "invalid value encountered in greater_equal\n",
      "\n",
      "/Users/pmoquette/opt/anaconda3/lib/python3.7/site-packages/numpy/lib/histograms.py:830: RuntimeWarning:\n",
      "\n",
      "invalid value encountered in less_equal\n",
      "\n"
     ]
    },
    {
     "data": {
      "text/plain": [
       "<seaborn.axisgrid.PairGrid at 0x1a20b76ed0>"
      ]
     },
     "execution_count": 38,
     "metadata": {},
     "output_type": "execute_result"
    },
    {
     "data": {
      "image/png": "[encoded data removed]",
      "text/plain": [
       "<Figure size 360x360 with 6 Axes>"
      ]
     },
     "metadata": {
      "needs_background": "light"
     },
     "output_type": "display_data"
    }
   ],
   "source": [
    "high_pos = cdd_data.filter(['FATALITIES','INJURED / INFECTED'], axis=1)\n",
    "sns.pairplot(high_pos)"
   ]
  },
  {
   "cell_type": "markdown",
   "metadata": {},
   "source": [
    "###### Fatalities & Evacuated "
   ]
  },
  {
   "cell_type": "code",
   "execution_count": 39,
   "metadata": {},
   "outputs": [
    {
     "data": {
      "text/plain": [
       "<seaborn.axisgrid.PairGrid at 0x1a20e56850>"
      ]
     },
     "execution_count": 39,
     "metadata": {},
     "output_type": "execute_result"
    },
    {
     "data": {
      "image/png": "[encoded data removed]",
      "text/plain": [
       "<Figure size 360x360 with 6 Axes>"
      ]
     },
     "metadata": {
      "needs_background": "light"
     },
     "output_type": "display_data"
    }
   ],
   "source": [
    "no_corr = cdd_data.filter(['FATALITIES','EVACUATED'], axis=1)\n",
    "sns.pairplot(no_corr)"
   ]
  },
  {
   "cell_type": "markdown",
   "metadata": {},
   "source": [
    "###### Utility - People Affected & OGD Costs"
   ]
  },
  {
   "cell_type": "code",
   "execution_count": 40,
   "metadata": {},
   "outputs": [
    {
     "data": {
      "text/plain": [
       "<seaborn.axisgrid.PairGrid at 0x1a21038b50>"
      ]
     },
     "execution_count": 40,
     "metadata": {},
     "output_type": "execute_result"
    },
    {
     "data": {
      "image/png": "[encoded data removed]",
      "text/plain": [
       "<Figure size 360x360 with 6 Axes>"
      ]
     },
     "metadata": {
      "needs_background": "light"
     },
     "output_type": "display_data"
    }
   ],
   "source": [
    "neg_corr = cdd_data.filter(['UTILITY - PEOPLE AFFECTED','OGD COSTS'], axis=1)\n",
    "sns.pairplot(neg_corr)"
   ]
  },
  {
   "cell_type": "markdown",
   "metadata": {},
   "source": [
    "#### Does the outcome above confirm your ideas? Describe in a comment."
   ]
  },
  {
   "cell_type": "markdown",
   "metadata": {},
   "source": [
    "I am unsure what I'm looking at, to be honest. Researching..."
   ]
  }
 ],
 "metadata": {
  "kernelspec": {
   "display_name": "Python 3",
   "language": "python",
   "name": "python3"
  },
  "language_info": {
   "codemirror_mode": {
    "name": "ipython",
    "version": 3
   },
   "file_extension": ".py",
   "mimetype": "text/x-python",
   "name": "python",
   "nbconvert_exporter": "python",
   "pygments_lexer": "ipython3",
   "version": "3.7.4"
  }
 },
 "nbformat": 4,
 "nbformat_minor": 2
}
