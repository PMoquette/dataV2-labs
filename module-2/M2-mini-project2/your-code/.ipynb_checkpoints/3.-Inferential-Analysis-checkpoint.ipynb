{
 "cells": [
  {
   "cell_type": "markdown",
   "metadata": {},
   "source": [
    "# Inferential statistics\n",
    "## Part III - Inferential Analysis\n",
    "\n",
    "We're now going to look for answers to the ongoing basketball discussions between you and your family. The main ones we want to reasearch are the following:\n",
    "\n",
    "- Your grandmother says that your sister couldn't play in a professional basketball league (not only the WNBA, but ANY professional basketball league) because she's too skinny and lacks muscle.\n",
    "- Your sister says that most female professional players fail their free throws.\n",
    "- Your brother-in-law heard on the TV that the average assists among NBA (male) and WNBA (female) players is 52 for the 2016-2017 season. He is convinced this average would be higher if we only considered the players from the WNBA.\n",
    "\n",
    "Let's investigate these claims and see if we can find proof to refute or support them.\n",
    "\n",
    "### Libraries\n",
    "Import the necessary libraries first."
   ]
  },
  {
   "cell_type": "code",
   "execution_count": 23,
   "metadata": {},
   "outputs": [],
   "source": [
    "# Libraries\n",
    "import math\n",
    "import pandas as pd\n",
    "import numpy as np\n",
    "from scipy import stats\n",
    "import matplotlib.pyplot as plt\n",
    "from scipy.stats import ttest_1samp\n",
    "import statsmodels.stats.proportion as smp\n",
    "pd.set_option('max_columns', 50)"
   ]
  },
  {
   "cell_type": "markdown",
   "metadata": {},
   "source": [
    "### Load the dataset\n",
    "\n",
    "Load the cleaned dataset."
   ]
  },
  {
   "cell_type": "code",
   "execution_count": 2,
   "metadata": {},
   "outputs": [],
   "source": [
    "#your code here\n",
    "wnba = pd.read_csv('../data/wnba_clean.csv')"
   ]
  },
  {
   "cell_type": "markdown",
   "metadata": {},
   "source": [
    "# Question 1: Can my sister play in a professional female basketball league?\n",
    "\n",
    "As we said, you grandmother is convinced that your sister couldn't play in a professional league because of her physique and weight (her weight is 67kg). \n",
    "\n",
    "To find an actual answer to the question we first need to know what's the average weight of a professional female basketball player. The data we have only refers to the WNBA league and not to every female professional basketball league in the world, therefore we have no way of actually calculating it.\n",
    "\n",
    "Still, given that we do have *some* data we can **infer** it using a sample of players like the one we have. \n",
    "\n",
    "**How would you do it? Try and think about the requirements that your sample must satisfy in order to be used to infer the average weight. Do you feel it actually fulfills those requirements? Do you need to make any assumptions? We could calculate a confidence interval to do the inference, but do you know any other ways?**"
   ]
  },
  {
   "cell_type": "code",
   "execution_count": 3,
   "metadata": {},
   "outputs": [
    {
     "data": {
      "text/plain": [
       "(142, 32)"
      ]
     },
     "execution_count": 3,
     "metadata": {},
     "output_type": "execute_result"
    }
   ],
   "source": [
    "# your answer here\n",
    "wnba.shape"
   ]
  },
  {
   "cell_type": "markdown",
   "metadata": {},
   "source": [
    "So we have stats here for 142 WNBA players. If we take the whole team as a sample to represent all professional female basketball teams, it would satisfy the n > 30 requirement. However, USA is top ranked internationally. Additionally, if we were to take all professional teams across the globe, there are different ethnicities to take into account; women from one country might typically be leaner or bigger, taller or shorter, etc. In other words, even if my sister didn't fit in with the ladies from the USA, she might find her physique to be perfectly standard for another country's team. FOLLOW YOUR DREAMS, SIS!"
   ]
  },
  {
   "cell_type": "markdown",
   "metadata": {},
   "source": [
    "**Now that all the requirements have been taken into account, compute the confidence interval of the average weight with a confidence level of 95%.**"
   ]
  },
  {
   "cell_type": "code",
   "execution_count": 5,
   "metadata": {},
   "outputs": [
    {
     "data": {
      "text/plain": [
       "(77.17665079176093, 80.78109568711231)"
      ]
     },
     "execution_count": 5,
     "metadata": {},
     "output_type": "execute_result"
    }
   ],
   "source": [
    "# your code here\n",
    "sigma = np.std(wnba['Weight'])\n",
    "n = len(wnba['Weight']) \n",
    "mu = np.mean(wnba['Weight'])\n",
    "conf_int = stats.norm.interval(0.95, loc=mu, scale=sigma/np.sqrt(n))\n",
    "conf_int"
   ]
  },
  {
   "cell_type": "markdown",
   "metadata": {},
   "source": [
    "**What can you say about these results?**"
   ]
  },
  {
   "cell_type": "markdown",
   "metadata": {},
   "source": [
    "There is a 95% chance that the population mean is between 77.17 and 80.78 Kg. "
   ]
  },
  {
   "cell_type": "markdown",
   "metadata": {},
   "source": [
    "**If your sister weighs 67kg what would you tell your grandmother in regards to her assumption?**"
   ]
  },
  {
   "cell_type": "code",
   "execution_count": 6,
   "metadata": {},
   "outputs": [
    {
     "data": {
      "text/plain": [
       "55"
      ]
     },
     "execution_count": 6,
     "metadata": {},
     "output_type": "execute_result"
    }
   ],
   "source": [
    "#your answer-here\n",
    "wnba['Weight'].min()"
   ]
  },
  {
   "cell_type": "markdown",
   "metadata": {},
   "source": [
    "While my sister's weight isn't close to the mean, the min Weight for the WNBA team is 55 Kg, so if she really wanted to, she could still play. There are more parameters at work here. Lay off, grandma!"
   ]
  },
  {
   "cell_type": "markdown",
   "metadata": {},
   "source": [
    "## Bonus: Can you plot the probability distribution of the average weight, indicating where the critical region is?"
   ]
  },
  {
   "cell_type": "code",
   "execution_count": null,
   "metadata": {},
   "outputs": [],
   "source": [
    "# your code here"
   ]
  },
  {
   "cell_type": "markdown",
   "metadata": {},
   "source": [
    "# Question 2: Do female professional basketball players fail the majority of their free throws?\n",
    "\n",
    "You do not agree with your sister when she says that most female players fail their free throws. You decide to try and estimate the percentage of players that fail more than 40% of their free throws using, you guessed it, the WNBA sample.\n",
    "\n",
    "**How would you do it? Try and think about the requirements that your sample must satisfy in order to be used to infer the proportion of players that miss more than 40% of their free throws. Do you feel it actually fulfills those requirements? Do you need to make any assumptions?**"
   ]
  },
  {
   "cell_type": "code",
   "execution_count": 15,
   "metadata": {},
   "outputs": [
    {
     "data": {
      "text/html": [
       "<div>\n",
       "<style scoped>\n",
       "    .dataframe tbody tr th:only-of-type {\n",
       "        vertical-align: middle;\n",
       "    }\n",
       "\n",
       "    .dataframe tbody tr th {\n",
       "        vertical-align: top;\n",
       "    }\n",
       "\n",
       "    .dataframe thead th {\n",
       "        text-align: right;\n",
       "    }\n",
       "</style>\n",
       "<table border=\"1\" class=\"dataframe\">\n",
       "  <thead>\n",
       "    <tr style=\"text-align: right;\">\n",
       "      <th></th>\n",
       "      <th>Name</th>\n",
       "      <th>Team</th>\n",
       "      <th>Pos</th>\n",
       "      <th>Height</th>\n",
       "      <th>Weight</th>\n",
       "      <th>BMI</th>\n",
       "      <th>Birth_Place</th>\n",
       "      <th>Birthdate</th>\n",
       "      <th>Age</th>\n",
       "      <th>College</th>\n",
       "      <th>Experience</th>\n",
       "      <th>Games Played</th>\n",
       "      <th>MIN</th>\n",
       "      <th>FGM</th>\n",
       "      <th>FGA</th>\n",
       "      <th>FG%</th>\n",
       "      <th>3PM</th>\n",
       "      <th>3PA</th>\n",
       "      <th>3P%</th>\n",
       "      <th>FTM</th>\n",
       "      <th>FTA</th>\n",
       "      <th>FT%</th>\n",
       "      <th>OREB</th>\n",
       "      <th>DREB</th>\n",
       "      <th>REB</th>\n",
       "      <th>AST</th>\n",
       "      <th>STL</th>\n",
       "      <th>BLK</th>\n",
       "      <th>TO</th>\n",
       "      <th>PTS</th>\n",
       "      <th>DD2</th>\n",
       "      <th>TD3</th>\n",
       "    </tr>\n",
       "  </thead>\n",
       "  <tbody>\n",
       "    <tr>\n",
       "      <td>11</td>\n",
       "      <td>Alyssa Thomas</td>\n",
       "      <td>CON</td>\n",
       "      <td>F</td>\n",
       "      <td>188</td>\n",
       "      <td>84</td>\n",
       "      <td>23.766410</td>\n",
       "      <td>US</td>\n",
       "      <td>December 4, 1992</td>\n",
       "      <td>24</td>\n",
       "      <td>Maryland</td>\n",
       "      <td>3</td>\n",
       "      <td>28</td>\n",
       "      <td>833</td>\n",
       "      <td>154</td>\n",
       "      <td>303</td>\n",
       "      <td>50.8</td>\n",
       "      <td>0</td>\n",
       "      <td>3</td>\n",
       "      <td>0.0</td>\n",
       "      <td>91</td>\n",
       "      <td>158</td>\n",
       "      <td>57.6</td>\n",
       "      <td>34</td>\n",
       "      <td>158</td>\n",
       "      <td>192</td>\n",
       "      <td>136</td>\n",
       "      <td>48</td>\n",
       "      <td>11</td>\n",
       "      <td>87</td>\n",
       "      <td>399</td>\n",
       "      <td>4</td>\n",
       "      <td>0</td>\n",
       "    </tr>\n",
       "    <tr>\n",
       "      <td>14</td>\n",
       "      <td>Aneika Henry</td>\n",
       "      <td>ATL</td>\n",
       "      <td>F/C</td>\n",
       "      <td>193</td>\n",
       "      <td>87</td>\n",
       "      <td>23.356332</td>\n",
       "      <td>JM</td>\n",
       "      <td>February 13, 1986</td>\n",
       "      <td>31</td>\n",
       "      <td>Florida</td>\n",
       "      <td>6</td>\n",
       "      <td>4</td>\n",
       "      <td>22</td>\n",
       "      <td>4</td>\n",
       "      <td>4</td>\n",
       "      <td>100.0</td>\n",
       "      <td>0</td>\n",
       "      <td>0</td>\n",
       "      <td>0.0</td>\n",
       "      <td>0</td>\n",
       "      <td>0</td>\n",
       "      <td>0.0</td>\n",
       "      <td>0</td>\n",
       "      <td>4</td>\n",
       "      <td>4</td>\n",
       "      <td>1</td>\n",
       "      <td>2</td>\n",
       "      <td>0</td>\n",
       "      <td>3</td>\n",
       "      <td>8</td>\n",
       "      <td>0</td>\n",
       "      <td>0</td>\n",
       "    </tr>\n",
       "    <tr>\n",
       "      <td>32</td>\n",
       "      <td>Cayla George</td>\n",
       "      <td>PHO</td>\n",
       "      <td>C</td>\n",
       "      <td>193</td>\n",
       "      <td>87</td>\n",
       "      <td>23.356332</td>\n",
       "      <td>AU</td>\n",
       "      <td>April 20, 1987</td>\n",
       "      <td>30</td>\n",
       "      <td>Georgia</td>\n",
       "      <td>1</td>\n",
       "      <td>28</td>\n",
       "      <td>365</td>\n",
       "      <td>40</td>\n",
       "      <td>105</td>\n",
       "      <td>38.1</td>\n",
       "      <td>13</td>\n",
       "      <td>45</td>\n",
       "      <td>28.9</td>\n",
       "      <td>7</td>\n",
       "      <td>12</td>\n",
       "      <td>58.3</td>\n",
       "      <td>10</td>\n",
       "      <td>71</td>\n",
       "      <td>81</td>\n",
       "      <td>15</td>\n",
       "      <td>9</td>\n",
       "      <td>11</td>\n",
       "      <td>13</td>\n",
       "      <td>100</td>\n",
       "      <td>1</td>\n",
       "      <td>0</td>\n",
       "    </tr>\n",
       "    <tr>\n",
       "      <td>35</td>\n",
       "      <td>Clarissa dos Santos</td>\n",
       "      <td>SAN</td>\n",
       "      <td>C</td>\n",
       "      <td>185</td>\n",
       "      <td>89</td>\n",
       "      <td>26.004383</td>\n",
       "      <td>BR</td>\n",
       "      <td>October 3, 1988</td>\n",
       "      <td>28</td>\n",
       "      <td>Brazil</td>\n",
       "      <td>4</td>\n",
       "      <td>7</td>\n",
       "      <td>52</td>\n",
       "      <td>8</td>\n",
       "      <td>14</td>\n",
       "      <td>57.1</td>\n",
       "      <td>1</td>\n",
       "      <td>1</td>\n",
       "      <td>100.0</td>\n",
       "      <td>0</td>\n",
       "      <td>0</td>\n",
       "      <td>0.0</td>\n",
       "      <td>3</td>\n",
       "      <td>7</td>\n",
       "      <td>10</td>\n",
       "      <td>7</td>\n",
       "      <td>1</td>\n",
       "      <td>1</td>\n",
       "      <td>5</td>\n",
       "      <td>17</td>\n",
       "      <td>0</td>\n",
       "      <td>0</td>\n",
       "    </tr>\n",
       "    <tr>\n",
       "      <td>36</td>\n",
       "      <td>Courtney Paris</td>\n",
       "      <td>DAL</td>\n",
       "      <td>C</td>\n",
       "      <td>193</td>\n",
       "      <td>113</td>\n",
       "      <td>30.336385</td>\n",
       "      <td>US</td>\n",
       "      <td>September 21, 1987</td>\n",
       "      <td>29</td>\n",
       "      <td>Oklahoma</td>\n",
       "      <td>7</td>\n",
       "      <td>16</td>\n",
       "      <td>217</td>\n",
       "      <td>32</td>\n",
       "      <td>57</td>\n",
       "      <td>56.1</td>\n",
       "      <td>0</td>\n",
       "      <td>0</td>\n",
       "      <td>0.0</td>\n",
       "      <td>6</td>\n",
       "      <td>12</td>\n",
       "      <td>50.0</td>\n",
       "      <td>28</td>\n",
       "      <td>34</td>\n",
       "      <td>62</td>\n",
       "      <td>5</td>\n",
       "      <td>6</td>\n",
       "      <td>8</td>\n",
       "      <td>18</td>\n",
       "      <td>70</td>\n",
       "      <td>0</td>\n",
       "      <td>0</td>\n",
       "    </tr>\n",
       "    <tr>\n",
       "      <td>47</td>\n",
       "      <td>Elizabeth Williams</td>\n",
       "      <td>ATL</td>\n",
       "      <td>F/C</td>\n",
       "      <td>191</td>\n",
       "      <td>87</td>\n",
       "      <td>23.848030</td>\n",
       "      <td>US</td>\n",
       "      <td>June 23, 1993</td>\n",
       "      <td>24</td>\n",
       "      <td>Duke</td>\n",
       "      <td>3</td>\n",
       "      <td>30</td>\n",
       "      <td>377</td>\n",
       "      <td>48</td>\n",
       "      <td>96</td>\n",
       "      <td>50.0</td>\n",
       "      <td>0</td>\n",
       "      <td>1</td>\n",
       "      <td>0.0</td>\n",
       "      <td>32</td>\n",
       "      <td>55</td>\n",
       "      <td>58.2</td>\n",
       "      <td>35</td>\n",
       "      <td>61</td>\n",
       "      <td>96</td>\n",
       "      <td>5</td>\n",
       "      <td>5</td>\n",
       "      <td>4</td>\n",
       "      <td>21</td>\n",
       "      <td>128</td>\n",
       "      <td>0</td>\n",
       "      <td>0</td>\n",
       "    </tr>\n",
       "    <tr>\n",
       "      <td>56</td>\n",
       "      <td>Glory Johnson</td>\n",
       "      <td>DAL</td>\n",
       "      <td>F</td>\n",
       "      <td>191</td>\n",
       "      <td>77</td>\n",
       "      <td>21.106878</td>\n",
       "      <td>US</td>\n",
       "      <td>July 27, 1990</td>\n",
       "      <td>27</td>\n",
       "      <td>Tennessee</td>\n",
       "      <td>4</td>\n",
       "      <td>4</td>\n",
       "      <td>42</td>\n",
       "      <td>3</td>\n",
       "      <td>9</td>\n",
       "      <td>33.3</td>\n",
       "      <td>3</td>\n",
       "      <td>6</td>\n",
       "      <td>50.0</td>\n",
       "      <td>0</td>\n",
       "      <td>0</td>\n",
       "      <td>0.0</td>\n",
       "      <td>0</td>\n",
       "      <td>3</td>\n",
       "      <td>3</td>\n",
       "      <td>1</td>\n",
       "      <td>0</td>\n",
       "      <td>0</td>\n",
       "      <td>4</td>\n",
       "      <td>9</td>\n",
       "      <td>0</td>\n",
       "      <td>0</td>\n",
       "    </tr>\n",
       "    <tr>\n",
       "      <td>80</td>\n",
       "      <td>Kia Vaughn</td>\n",
       "      <td>NY</td>\n",
       "      <td>C</td>\n",
       "      <td>193</td>\n",
       "      <td>90</td>\n",
       "      <td>24.161722</td>\n",
       "      <td>US</td>\n",
       "      <td>January 24, 1987</td>\n",
       "      <td>30</td>\n",
       "      <td>Rutgers</td>\n",
       "      <td>9</td>\n",
       "      <td>23</td>\n",
       "      <td>455</td>\n",
       "      <td>62</td>\n",
       "      <td>116</td>\n",
       "      <td>53.4</td>\n",
       "      <td>0</td>\n",
       "      <td>0</td>\n",
       "      <td>0.0</td>\n",
       "      <td>10</td>\n",
       "      <td>19</td>\n",
       "      <td>52.6</td>\n",
       "      <td>39</td>\n",
       "      <td>71</td>\n",
       "      <td>110</td>\n",
       "      <td>16</td>\n",
       "      <td>8</td>\n",
       "      <td>9</td>\n",
       "      <td>21</td>\n",
       "      <td>134</td>\n",
       "      <td>1</td>\n",
       "      <td>0</td>\n",
       "    </tr>\n",
       "    <tr>\n",
       "      <td>84</td>\n",
       "      <td>Lanay Montgomery</td>\n",
       "      <td>SEA</td>\n",
       "      <td>C</td>\n",
       "      <td>196</td>\n",
       "      <td>96</td>\n",
       "      <td>24.989588</td>\n",
       "      <td>US</td>\n",
       "      <td>September 17, 1993</td>\n",
       "      <td>23</td>\n",
       "      <td>West Virginia</td>\n",
       "      <td>R</td>\n",
       "      <td>7</td>\n",
       "      <td>28</td>\n",
       "      <td>3</td>\n",
       "      <td>7</td>\n",
       "      <td>42.9</td>\n",
       "      <td>0</td>\n",
       "      <td>0</td>\n",
       "      <td>0.0</td>\n",
       "      <td>0</td>\n",
       "      <td>0</td>\n",
       "      <td>0.0</td>\n",
       "      <td>0</td>\n",
       "      <td>5</td>\n",
       "      <td>5</td>\n",
       "      <td>0</td>\n",
       "      <td>1</td>\n",
       "      <td>4</td>\n",
       "      <td>2</td>\n",
       "      <td>6</td>\n",
       "      <td>0</td>\n",
       "      <td>0</td>\n",
       "    </tr>\n",
       "    <tr>\n",
       "      <td>90</td>\n",
       "      <td>Maimouna Diarra</td>\n",
       "      <td>LA</td>\n",
       "      <td>C</td>\n",
       "      <td>198</td>\n",
       "      <td>90</td>\n",
       "      <td>22.956841</td>\n",
       "      <td>SN</td>\n",
       "      <td>January 30, 1991</td>\n",
       "      <td>26</td>\n",
       "      <td>Sengal</td>\n",
       "      <td>R</td>\n",
       "      <td>9</td>\n",
       "      <td>16</td>\n",
       "      <td>1</td>\n",
       "      <td>3</td>\n",
       "      <td>33.3</td>\n",
       "      <td>0</td>\n",
       "      <td>0</td>\n",
       "      <td>0.0</td>\n",
       "      <td>1</td>\n",
       "      <td>2</td>\n",
       "      <td>50.0</td>\n",
       "      <td>3</td>\n",
       "      <td>4</td>\n",
       "      <td>7</td>\n",
       "      <td>1</td>\n",
       "      <td>1</td>\n",
       "      <td>0</td>\n",
       "      <td>3</td>\n",
       "      <td>3</td>\n",
       "      <td>0</td>\n",
       "      <td>0</td>\n",
       "    </tr>\n",
       "    <tr>\n",
       "      <td>108</td>\n",
       "      <td>Rebecca Allen</td>\n",
       "      <td>NY</td>\n",
       "      <td>G/F</td>\n",
       "      <td>188</td>\n",
       "      <td>74</td>\n",
       "      <td>20.937076</td>\n",
       "      <td>AU</td>\n",
       "      <td>June 11, 1992</td>\n",
       "      <td>25</td>\n",
       "      <td>Australia</td>\n",
       "      <td>3</td>\n",
       "      <td>28</td>\n",
       "      <td>254</td>\n",
       "      <td>31</td>\n",
       "      <td>86</td>\n",
       "      <td>36.0</td>\n",
       "      <td>14</td>\n",
       "      <td>40</td>\n",
       "      <td>35.0</td>\n",
       "      <td>2</td>\n",
       "      <td>6</td>\n",
       "      <td>33.3</td>\n",
       "      <td>13</td>\n",
       "      <td>51</td>\n",
       "      <td>64</td>\n",
       "      <td>15</td>\n",
       "      <td>9</td>\n",
       "      <td>12</td>\n",
       "      <td>17</td>\n",
       "      <td>78</td>\n",
       "      <td>0</td>\n",
       "      <td>0</td>\n",
       "    </tr>\n",
       "    <tr>\n",
       "      <td>114</td>\n",
       "      <td>Sandrine Gruda</td>\n",
       "      <td>LA</td>\n",
       "      <td>F/C</td>\n",
       "      <td>193</td>\n",
       "      <td>84</td>\n",
       "      <td>22.550941</td>\n",
       "      <td>FR</td>\n",
       "      <td>June 25, 1987</td>\n",
       "      <td>30</td>\n",
       "      <td>France</td>\n",
       "      <td>5</td>\n",
       "      <td>4</td>\n",
       "      <td>12</td>\n",
       "      <td>1</td>\n",
       "      <td>3</td>\n",
       "      <td>33.3</td>\n",
       "      <td>0</td>\n",
       "      <td>0</td>\n",
       "      <td>0.0</td>\n",
       "      <td>0</td>\n",
       "      <td>0</td>\n",
       "      <td>0.0</td>\n",
       "      <td>0</td>\n",
       "      <td>2</td>\n",
       "      <td>2</td>\n",
       "      <td>0</td>\n",
       "      <td>0</td>\n",
       "      <td>0</td>\n",
       "      <td>2</td>\n",
       "      <td>2</td>\n",
       "      <td>0</td>\n",
       "      <td>0</td>\n",
       "    </tr>\n",
       "    <tr>\n",
       "      <td>117</td>\n",
       "      <td>Sequoia Holmes</td>\n",
       "      <td>SAN</td>\n",
       "      <td>G</td>\n",
       "      <td>185</td>\n",
       "      <td>70</td>\n",
       "      <td>20.452885</td>\n",
       "      <td>US</td>\n",
       "      <td>June 13, 1986</td>\n",
       "      <td>31</td>\n",
       "      <td>UNLV</td>\n",
       "      <td>2</td>\n",
       "      <td>24</td>\n",
       "      <td>280</td>\n",
       "      <td>31</td>\n",
       "      <td>89</td>\n",
       "      <td>34.8</td>\n",
       "      <td>13</td>\n",
       "      <td>46</td>\n",
       "      <td>28.3</td>\n",
       "      <td>6</td>\n",
       "      <td>11</td>\n",
       "      <td>54.5</td>\n",
       "      <td>12</td>\n",
       "      <td>12</td>\n",
       "      <td>24</td>\n",
       "      <td>23</td>\n",
       "      <td>13</td>\n",
       "      <td>5</td>\n",
       "      <td>11</td>\n",
       "      <td>81</td>\n",
       "      <td>0</td>\n",
       "      <td>0</td>\n",
       "    </tr>\n",
       "    <tr>\n",
       "      <td>129</td>\n",
       "      <td>Sydney Wiese</td>\n",
       "      <td>LA</td>\n",
       "      <td>G</td>\n",
       "      <td>183</td>\n",
       "      <td>68</td>\n",
       "      <td>20.305175</td>\n",
       "      <td>US</td>\n",
       "      <td>July 13, 1992</td>\n",
       "      <td>25</td>\n",
       "      <td>Oregon State</td>\n",
       "      <td>R</td>\n",
       "      <td>25</td>\n",
       "      <td>189</td>\n",
       "      <td>19</td>\n",
       "      <td>50</td>\n",
       "      <td>38.0</td>\n",
       "      <td>13</td>\n",
       "      <td>32</td>\n",
       "      <td>40.6</td>\n",
       "      <td>4</td>\n",
       "      <td>8</td>\n",
       "      <td>50.0</td>\n",
       "      <td>3</td>\n",
       "      <td>18</td>\n",
       "      <td>21</td>\n",
       "      <td>6</td>\n",
       "      <td>4</td>\n",
       "      <td>3</td>\n",
       "      <td>2</td>\n",
       "      <td>55</td>\n",
       "      <td>0</td>\n",
       "      <td>0</td>\n",
       "    </tr>\n",
       "  </tbody>\n",
       "</table>\n",
       "</div>"
      ],
      "text/plain": [
       "                    Name Team  Pos  Height  Weight        BMI Birth_Place  \\\n",
       "11         Alyssa Thomas  CON    F     188      84  23.766410          US   \n",
       "14          Aneika Henry  ATL  F/C     193      87  23.356332          JM   \n",
       "32          Cayla George  PHO    C     193      87  23.356332          AU   \n",
       "35   Clarissa dos Santos  SAN    C     185      89  26.004383          BR   \n",
       "36        Courtney Paris  DAL    C     193     113  30.336385          US   \n",
       "47    Elizabeth Williams  ATL  F/C     191      87  23.848030          US   \n",
       "56         Glory Johnson  DAL    F     191      77  21.106878          US   \n",
       "80            Kia Vaughn   NY    C     193      90  24.161722          US   \n",
       "84      Lanay Montgomery  SEA    C     196      96  24.989588          US   \n",
       "90       Maimouna Diarra   LA    C     198      90  22.956841          SN   \n",
       "108        Rebecca Allen   NY  G/F     188      74  20.937076          AU   \n",
       "114       Sandrine Gruda   LA  F/C     193      84  22.550941          FR   \n",
       "117       Sequoia Holmes  SAN    G     185      70  20.452885          US   \n",
       "129         Sydney Wiese   LA    G     183      68  20.305175          US   \n",
       "\n",
       "              Birthdate  Age        College Experience  Games Played  MIN  \\\n",
       "11     December 4, 1992   24       Maryland          3            28  833   \n",
       "14    February 13, 1986   31        Florida          6             4   22   \n",
       "32       April 20, 1987   30        Georgia          1            28  365   \n",
       "35      October 3, 1988   28         Brazil          4             7   52   \n",
       "36   September 21, 1987   29       Oklahoma          7            16  217   \n",
       "47        June 23, 1993   24           Duke          3            30  377   \n",
       "56        July 27, 1990   27      Tennessee          4             4   42   \n",
       "80     January 24, 1987   30        Rutgers          9            23  455   \n",
       "84   September 17, 1993   23  West Virginia          R             7   28   \n",
       "90     January 30, 1991   26         Sengal          R             9   16   \n",
       "108       June 11, 1992   25      Australia          3            28  254   \n",
       "114       June 25, 1987   30         France          5             4   12   \n",
       "117       June 13, 1986   31           UNLV          2            24  280   \n",
       "129       July 13, 1992   25   Oregon State          R            25  189   \n",
       "\n",
       "     FGM  FGA    FG%  3PM  3PA    3P%  FTM  FTA   FT%  OREB  DREB  REB  AST  \\\n",
       "11   154  303   50.8    0    3    0.0   91  158  57.6    34   158  192  136   \n",
       "14     4    4  100.0    0    0    0.0    0    0   0.0     0     4    4    1   \n",
       "32    40  105   38.1   13   45   28.9    7   12  58.3    10    71   81   15   \n",
       "35     8   14   57.1    1    1  100.0    0    0   0.0     3     7   10    7   \n",
       "36    32   57   56.1    0    0    0.0    6   12  50.0    28    34   62    5   \n",
       "47    48   96   50.0    0    1    0.0   32   55  58.2    35    61   96    5   \n",
       "56     3    9   33.3    3    6   50.0    0    0   0.0     0     3    3    1   \n",
       "80    62  116   53.4    0    0    0.0   10   19  52.6    39    71  110   16   \n",
       "84     3    7   42.9    0    0    0.0    0    0   0.0     0     5    5    0   \n",
       "90     1    3   33.3    0    0    0.0    1    2  50.0     3     4    7    1   \n",
       "108   31   86   36.0   14   40   35.0    2    6  33.3    13    51   64   15   \n",
       "114    1    3   33.3    0    0    0.0    0    0   0.0     0     2    2    0   \n",
       "117   31   89   34.8   13   46   28.3    6   11  54.5    12    12   24   23   \n",
       "129   19   50   38.0   13   32   40.6    4    8  50.0     3    18   21    6   \n",
       "\n",
       "     STL  BLK  TO  PTS  DD2  TD3  \n",
       "11    48   11  87  399    4    0  \n",
       "14     2    0   3    8    0    0  \n",
       "32     9   11  13  100    1    0  \n",
       "35     1    1   5   17    0    0  \n",
       "36     6    8  18   70    0    0  \n",
       "47     5    4  21  128    0    0  \n",
       "56     0    0   4    9    0    0  \n",
       "80     8    9  21  134    1    0  \n",
       "84     1    4   2    6    0    0  \n",
       "90     1    0   3    3    0    0  \n",
       "108    9   12  17   78    0    0  \n",
       "114    0    0   2    2    0    0  \n",
       "117   13    5  11   81    0    0  \n",
       "129    4    3   2   55    0    0  "
      ]
     },
     "execution_count": 15,
     "metadata": {},
     "output_type": "execute_result"
    }
   ],
   "source": [
    "# your answer here:\n",
    "#The percentage of players who fail more than 40% of free throws\n",
    "failthrows40 = wnba[(wnba['FT%'] < 60)]\n",
    "failthrows40\n",
    "#Problematic because these also contain values for players with value 0 for attempts."
   ]
  },
  {
   "cell_type": "markdown",
   "metadata": {},
   "source": [
    "**Now that all the requirements have been taken into account, compute the confidence interval of the proportion with a confidence level of 95%:**"
   ]
  },
  {
   "cell_type": "code",
   "execution_count": 20,
   "metadata": {},
   "outputs": [
    {
     "data": {
      "text/plain": [
       "137"
      ]
     },
     "execution_count": 20,
     "metadata": {},
     "output_type": "execute_result"
    }
   ],
   "source": [
    "true_failthrows40 = wnba[(wnba['FT%'] < 60)  & (wnba['FT%']!=0)]\n",
    "len(true_failthrows40)\n",
    "# So from the sample of 142 players, we need to extract a new sample of players who have made attempts to get the true fail percentage. \n",
    "# Sample of players who miss more than 40% of their free throws is 9\n",
    "# Now we need the total number of players who do make attempts.\n",
    "\n",
    "total_failthrows = wnba[(wnba['FT%'] != 0)]\n",
    "len(total_failthrows) # 137 make attempts. 9 of these have fail rates of higher than 40%. "
   ]
  },
  {
   "cell_type": "code",
   "execution_count": 28,
   "metadata": {},
   "outputs": [
    {
     "name": "stdout",
     "output_type": "stream",
     "text": [
      "2.42\n",
      "10.72\n"
     ]
    }
   ],
   "source": [
    "# your code here\n",
    "\n",
    "sample = len(total_failthrows)\n",
    "sample_fail = len(true_failthrows40)\n",
    "\n",
    "lower, upper = smp.proportion_confint(sample_fail, sample, alpha=0.05, method='normal')\n",
    "\n",
    "print(round(lower*100,2))\n",
    "print(round(upper*100,2))"
   ]
  },
  {
   "cell_type": "markdown",
   "metadata": {},
   "source": [
    "**What can you comment about our result? What would you tell your sister?**"
   ]
  },
  {
   "cell_type": "code",
   "execution_count": null,
   "metadata": {},
   "outputs": [],
   "source": [
    "#your answer here\n",
    "# Only between 2.42% and 10.72% of those who attempt free throws fail them more than 40% of the time with the WNBA. \n",
    "# This team is exceptional, however, and we're talking about professional basketball. I imagine pro teams around the world would have great stats in this regard.\n",
    "# In other words, maybe you should just practice a bit more. Love ya, sis, byeeeeeee!"
   ]
  },
  {
   "cell_type": "markdown",
   "metadata": {},
   "source": [
    "# Bonus: Can you plot the probability distribution of the proportion of missed free throws, indicating where the critical region is?"
   ]
  },
  {
   "cell_type": "code",
   "execution_count": null,
   "metadata": {},
   "outputs": [],
   "source": [
    "#your code here"
   ]
  },
  {
   "cell_type": "markdown",
   "metadata": {},
   "source": [
    "# Question 3: Is the average number of assists for WNBA players only higher than the average for WNBA and NBA players together?"
   ]
  },
  {
   "cell_type": "markdown",
   "metadata": {},
   "source": [
    "Your brother-in-law is convinced that the average assists for female professional players is higher than the average of both female and male players combined (which is 52 for the 2016-2017 season). You would like to actually prove if this is true or not but you remember your stats teacher saying \"you can't *prove* anything, you just can say that *you are not* saying foolishness\".\n",
    "\n",
    "**How would you do it? Try and think about the requirements that your sample must satisfy in order to do that. Do you feel it actually fulfills those requirements? Do you need to make any assumptions?**"
   ]
  },
  {
   "cell_type": "markdown",
   "metadata": {},
   "source": [
    "H0: avg assists for female players is lower or equal to or lower than avg assist of male and female players combined.<br>\n",
    "H1: avg assist for female players is higher than the avg assist of male and female players combined. \n",
    "\n",
    "In other words:\n",
    "\n",
    "H0: avg assist wnba =< 52<br>\n",
    "H1: avg assist wnba > 52"
   ]
  },
  {
   "cell_type": "markdown",
   "metadata": {},
   "source": [
    "**Use a two-tailed one-sample t-test to see if we can reject (or not) the null hypothesis with a 95% confidence level.**"
   ]
  },
  {
   "cell_type": "code",
   "execution_count": 29,
   "metadata": {},
   "outputs": [
    {
     "name": "stdout",
     "output_type": "stream",
     "text": [
      "-2.1499947192482898 0.033261541354107166\n"
     ]
    }
   ],
   "source": [
    "#your code here\n",
    "statistics, p_value = ttest_1samp(wnba['AST'], 52)\n",
    "print(statistics, p_value)"
   ]
  },
  {
   "cell_type": "markdown",
   "metadata": {},
   "source": [
    "The p_value is lower than 0.5, which means H0 must be rejected. "
   ]
  },
  {
   "cell_type": "markdown",
   "metadata": {},
   "source": [
    "**Now use a one-tailed one-sample t-test to see if we can reject (or not) the null hypothesis with a 95% confidence level.**"
   ]
  },
  {
   "cell_type": "code",
   "execution_count": 30,
   "metadata": {},
   "outputs": [
    {
     "data": {
      "text/plain": [
       "0.016630770677053583"
      ]
     },
     "execution_count": 30,
     "metadata": {},
     "output_type": "execute_result"
    }
   ],
   "source": [
    "p_value/2"
   ]
  },
  {
   "cell_type": "markdown",
   "metadata": {},
   "source": [
    "# Bonus: Can you plot the resulting t-distribution of both tests? Indicate where the is the critical region and where does your statistic fall.**"
   ]
  },
  {
   "cell_type": "code",
   "execution_count": null,
   "metadata": {},
   "outputs": [],
   "source": [
    "#your code here"
   ]
  },
  {
   "cell_type": "markdown",
   "metadata": {},
   "source": [
    "# Bonus: Satisfying your curiosity\n",
    "\n",
    "You finally managed to solve your family's debates over basketball! While you were doing that you started to take an interest in the normal distribution.\n",
    "\n",
    "You read that the normal distribution is present in a lot of natural phenomenons, like blood pressure, IQ, weight and height. If, for example, we could plot the distribution of the weights of every human on the planet right now it would have the shape of a normal distribution.\n",
    "\n",
    "In light of this you would like to see if it's possible to check if the distribution of the weights of the WNBA players is a sample distribution that comes from a population that has a normal distribution, because theoretically this should be the case.\n",
    "\n",
    "**How would you try to demonstrate that our sample fits a normal distribution? What kind of test would you use? Would you have to make any assumptions?**"
   ]
  },
  {
   "cell_type": "code",
   "execution_count": null,
   "metadata": {},
   "outputs": [],
   "source": [
    "#your-answer-here"
   ]
  },
  {
   "cell_type": "code",
   "execution_count": null,
   "metadata": {},
   "outputs": [],
   "source": [
    "# your code here"
   ]
  },
  {
   "cell_type": "markdown",
   "metadata": {},
   "source": [
    "**What are your comments in regards to the results of the test?**"
   ]
  },
  {
   "cell_type": "code",
   "execution_count": null,
   "metadata": {},
   "outputs": [],
   "source": [
    "#your-answer-here"
   ]
  }
 ],
 "metadata": {
  "kernelspec": {
   "display_name": "Python 3",
   "language": "python",
   "name": "python3"
  },
  "language_info": {
   "codemirror_mode": {
    "name": "ipython",
    "version": 3
   },
   "file_extension": ".py",
   "mimetype": "text/x-python",
   "name": "python",
   "nbconvert_exporter": "python",
   "pygments_lexer": "ipython3",
   "version": "3.7.4"
  }
 },
 "nbformat": 4,
 "nbformat_minor": 2
}
