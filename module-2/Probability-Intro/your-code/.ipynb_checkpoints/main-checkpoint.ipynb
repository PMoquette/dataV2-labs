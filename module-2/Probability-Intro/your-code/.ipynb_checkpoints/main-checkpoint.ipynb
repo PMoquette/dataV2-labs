{
 "cells": [
  {
   "cell_type": "markdown",
   "metadata": {},
   "source": [
    "# Introduction To Probability\n",
    "## Challenge 1\n",
    "\n",
    "A and B are events of a probability space with $(\\omega, \\sigma, P)$ such that $P(A) = 0.3$, $P(B) = 0.6$ and $P(A \\cap B) = 0.1$\n",
    "\n",
    "Which of the following statements are false?\n",
    "* $P(A \\cup B) = 0.6$\n",
    "* $P(A \\cap B^{C}) = 0.2$\n",
    "* $P(A \\cap (B \\cup B^{C})) = 0.4$\n",
    "* $P(A^{C} \\cap B^{C}) = 0.3$\n",
    "* $P((A \\cap B)^{C}) = 0.9$"
   ]
  },
  {
   "cell_type": "markdown",
   "metadata": {},
   "source": [
    "#### Answer:"
   ]
  },
  {
   "cell_type": "markdown",
   "metadata": {},
   "source": [
    "𝑃(𝐴∪𝐵)=0.6:\n",
    "False. \n",
    "𝑃(𝐴∪𝐵) says \"Belonging to either A or B\"\n",
    "𝑃(𝐴∪𝐵)= 0.8\n",
    "\n",
    "𝑃(𝐴∩𝐵𝐶)=0.2:\n",
    "True\n",
    "𝑃(𝐴∩𝐵𝐶) says \"Belonging to both A and complement B\" \n",
    "\n",
    "𝑃(𝐴∩(𝐵∪𝐵𝐶))= 0.4:\n",
    "False.\n",
    "𝑃(𝐴∩(𝐵∪𝐵𝐶)) means:\n",
    "(𝐵∪𝐵𝐶) says \"Belonging to B OR complement B\" This is all possible outcomes.  \n",
    "𝐴∩ says \" belonging to both A AND (...). all possible outcomes. \n",
    "𝑃(𝐴∩(𝐵∪𝐵𝐶))= 0.3\n",
    "\n",
    "𝑃(𝐴𝐶∩𝐵𝐶)= 0.3:\n",
    "False.\n",
    "𝑃(𝐴𝐶∩𝐵𝐶) says \"Belonging to not A and not B\" \n",
    "𝑃(𝐴𝐶∩𝐵𝐶) = 0.2\n",
    "\n",
    "𝑃((𝐴∩𝐵)𝐶)= 0.9:\n",
    "False.\n",
    "𝑃((𝐴∩𝐵)𝐶) says \"Belong to complement A AND B\" \n",
    "𝑃((𝐴∩𝐵)𝐶) = 0.2"
   ]
  },
  {
   "cell_type": "markdown",
   "metadata": {},
   "source": [
    "## Challenge 2\n",
    "There is a box with 10 white balls, 12 red balls and 8 black balls. Calculate the probability of:\n",
    "* Taking a white ball out.\n",
    "* Taking a white ball out after taking a black ball out.\n",
    "* Taking a red ball out after taking a black and a red ball out.\n",
    "* Taking a red ball out after taking a black and a red ball out with reposition.\n",
    "\n",
    "**Hint**: Reposition means putting back the ball into the box after taking it out."
   ]
  },
  {
   "cell_type": "markdown",
   "metadata": {},
   "source": [
    "#### Answer"
   ]
  },
  {
   "cell_type": "markdown",
   "metadata": {},
   "source": [
    "Taking a white ball out:\n",
    "10 over 30 is 1 over 3 = 1/3\n",
    "\n",
    "Taking a white ball out after taking a black ball out:\n",
    "1st event: 12/30 is 2/5.\n",
    "2nd event: 10/29 is 0.3448275862\n",
    "2/5*0.3448275862 = 0.13793103448\n",
    "\n",
    "Taking a red ball out after taking a black and a red ball out:\n",
    "1st: 12/30\n",
    "2nd: 8/29\n",
    "3d: 11/28\n",
    "12/30 * 8/29 * 11/28 = 0.04334975369\n",
    "\n",
    "Taking a red ball out after taking a black and a red ball out with reposition:\n",
    "1st: 12/30 = 0.4"
   ]
  },
  {
   "cell_type": "markdown",
   "metadata": {},
   "source": [
    "## Challenge 3\n",
    "\n",
    "You are planning to go on a picnic today but the morning is cloudy. You hate rain so you don't know whether to go out or stay home! To help you make a decision, you gather the following data about rainy days:\n",
    "\n",
    "* 50% of all rainy days start off cloudy!\n",
    "* Cloudy mornings are common. About 40% of days start cloudy. \n",
    "* This month is usually dry so only 3 of 30 days (10%) tend to be rainy. \n",
    "\n",
    "What is the chance of rain during the day?"
   ]
  },
  {
   "cell_type": "markdown",
   "metadata": {},
   "source": [
    "#### Answer"
   ]
  },
  {
   "cell_type": "markdown",
   "metadata": {},
   "source": [
    "P(rain) = 0.1\n",
    "P(cloudy morning) = 0.4 \n",
    "\n",
    "P(rain|cloudy morning) = 0.5<br>\n",
    "This means that:<br> \n",
    "P(rain AND (∩) coudy morning)/P(cloudy morning6) = 0.5<br>\n",
    "P(rain AND cloudy morning)/0.4 = 0.5<br>\n",
    "0.5 * 0.4 = 0.2 <br>\n",
    "<br>\n",
    "P(rain ∩ coudy morning)=0.4"
   ]
  },
  {
   "cell_type": "markdown",
   "metadata": {},
   "source": [
    "## Challenge 4\n",
    "\n",
    "One thousand people were asked through a telephone survey whether they thought more street lighting is needed at night or not.\n",
    "\n",
    "Out of the 480 men that answered the survey, 324 said yes and 156 said no. On the other hand, out of the 520 women that answered, 351 said yes and 169 said no. \n",
    "\n",
    "We wonder if men and women have a different opinions about the street lighting matter. Is gender relevant or irrelevant to the question?\n",
    "\n",
    "Consider the following events:\n",
    "- The answer is yes, so the person that answered thinks that more street lighting is needed.\n",
    "- The person who answered is a man.\n",
    "\n",
    "We want to know if these events are independent, that is, if the fact of wanting more light depends on whether one is male or female. Are these events independent or not?\n",
    "\n",
    "**Hint**: To clearly compare the answers by gender, it is best to place the data in a table."
   ]
  },
  {
   "cell_type": "markdown",
   "metadata": {},
   "source": [
    "#### Answer"
   ]
  },
  {
   "cell_type": "markdown",
   "metadata": {},
   "source": [
    " |         | Men   | Women |Total \n",
    " | ---------| ----- | ----- |----- |\n",
    " | **Yes**  | 324   |  351  | 675  |\n",
    " | **No**   | 156   |  169  | 325  |\n",
    " |**Total** | 480   |  520  | 1000 |"
   ]
  },
  {
   "cell_type": "markdown",
   "metadata": {},
   "source": [
    "P(answer yes) = 675/1000 = 0.675<br>\n",
    "P(male) = 480 / 1000 = 0.48<br>\n",
    "P(answer yes | male) = 0.48<br>\n",
    "The events are independent.<br>"
   ]
  },
  {
   "cell_type": "code",
   "execution_count": 7,
   "metadata": {},
   "outputs": [
    {
     "data": {
      "text/plain": [
       "0.48"
      ]
     },
     "execution_count": 7,
     "metadata": {},
     "output_type": "execute_result"
    }
   ],
   "source": [
    "324/675"
   ]
  },
  {
   "cell_type": "code",
   "execution_count": null,
   "metadata": {},
   "outputs": [],
   "source": []
  }
 ],
 "metadata": {
  "kernelspec": {
   "display_name": "Python 3",
   "language": "python",
   "name": "python3"
  },
  "language_info": {
   "codemirror_mode": {
    "name": "ipython",
    "version": 3
   },
   "file_extension": ".py",
   "mimetype": "text/x-python",
   "name": "python",
   "nbconvert_exporter": "python",
   "pygments_lexer": "ipython3",
   "version": "3.7.4"
  }
 },
 "nbformat": 4,
 "nbformat_minor": 2
}
