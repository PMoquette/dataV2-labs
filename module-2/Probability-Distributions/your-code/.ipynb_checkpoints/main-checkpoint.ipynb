{
 "cells": [
  {
   "cell_type": "markdown",
   "metadata": {},
   "source": [
    "# Before your start:\n",
    "- Read the README.md file.\n",
    "- Comment as much as you can and use the resources (README.md file).\n",
    "- Happy learning!"
   ]
  },
  {
   "cell_type": "code",
   "execution_count": 1,
   "metadata": {},
   "outputs": [],
   "source": [
    "# Libraries\n",
    "import matplotlib.pyplot as plt\n",
    "from scipy.stats import norm, stats\n",
    "import scipy.stats\n",
    "import numpy as np\n",
    "import pandas as pd\n",
    "%matplotlib inline"
   ]
  },
  {
   "cell_type": "markdown",
   "metadata": {},
   "source": [
    "# Challenge 1 - Generate and Plot Normal Distributions\n",
    "#### Step 1: Generate samples and test normal distribution.\n",
    "\n",
    "Use mean=50, standard_deviation=5, and sample_size=[10, 50, 500, 5000] to generate 4 random samples that are normally distributed.\n",
    "\n",
    "**Hint**: Read the documentation for `scipy.stats.norm.rvs`. The function will help you create the normal random samples."
   ]
  },
  {
   "cell_type": "code",
   "execution_count": 2,
   "metadata": {},
   "outputs": [],
   "source": [
    "# your code here\n",
    "mu, sigma = 50, 5 # mean and standard deviation\n",
    "s1 = pd.DataFrame(np.random.normal(mu, sigma, 10))\n",
    "\n",
    "s2 = pd.DataFrame(np.random.normal(mu, sigma, 50))\n",
    "\n",
    "s3 = pd.DataFrame(np.random.normal(mu, sigma, 500))\n",
    "\n",
    "s4 = pd.DataFrame(np.random.normal(mu, sigma, 5000))"
   ]
  },
  {
   "cell_type": "code",
   "execution_count": 3,
   "metadata": {},
   "outputs": [
    {
     "name": "stderr",
     "output_type": "stream",
     "text": [
      "/Users/pmoquette/opt/anaconda3/lib/python3.7/site-packages/scipy/stats/stats.py:1450: UserWarning: kurtosistest only valid for n>=20 ... continuing anyway, n=10\n",
      "  \"anyway, n=%i\" % int(n))\n"
     ]
    },
    {
     "data": {
      "text/plain": [
       "NormaltestResult(statistic=array([0.87551023]), pvalue=array([0.64548383]))"
      ]
     },
     "execution_count": 3,
     "metadata": {},
     "output_type": "execute_result"
    }
   ],
   "source": [
    "stats.normaltest(s1)"
   ]
  },
  {
   "cell_type": "markdown",
   "metadata": {},
   "source": [
    "#### Step 2: Plot normal distributions.\n",
    "\n",
    "To check the shape of the samples you have just created, you can use matplotlib. For example, you can use it to plot a histogram of each sample. \n",
    "\n",
    "If you did, your outputs would be really similar to the ones below:\n",
    "\n",
    "![normal distributions with different sample sizes](../images/ch-1.png)"
   ]
  },
  {
   "cell_type": "markdown",
   "metadata": {},
   "source": [
    "#### Compare the distributions above. What do you observe? Explain with the Central Limit Theorem."
   ]
  },
  {
   "cell_type": "code",
   "execution_count": 4,
   "metadata": {},
   "outputs": [
    {
     "data": {
      "text/plain": [
       "array([[<matplotlib.axes._subplots.AxesSubplot object at 0x1a18285b50>]],\n",
       "      dtype=object)"
      ]
     },
     "execution_count": 4,
     "metadata": {},
     "output_type": "execute_result"
    },
    {
     "data": {
      "image/png": "[encoded data removed]",
      "text/plain": [
       "<Figure size 432x288 with 1 Axes>"
      ]
     },
     "metadata": {
      "needs_background": "light"
     },
     "output_type": "display_data"
    },
    {
     "data": {
      "image/png": "[encoded data removed]",
      "text/plain": [
       "<Figure size 432x288 with 1 Axes>"
      ]
     },
     "metadata": {
      "needs_background": "light"
     },
     "output_type": "display_data"
    },
    {
     "data": {
      "image/png": "[encoded data removed]",
      "text/plain": [
       "<Figure size 432x288 with 1 Axes>"
      ]
     },
     "metadata": {
      "needs_background": "light"
     },
     "output_type": "display_data"
    },
    {
     "data": {
      "image/png": "[encoded data removed]",
      "text/plain": [
       "<Figure size 432x288 with 1 Axes>"
      ]
     },
     "metadata": {
      "needs_background": "light"
     },
     "output_type": "display_data"
    }
   ],
   "source": [
    "s1.hist(bins=20)\n",
    "s2.hist(bins=20)\n",
    "s3.hist(bins=20)\n",
    "s4.hist(bins=20)"
   ]
  },
  {
   "cell_type": "markdown",
   "metadata": {},
   "source": [
    "My plots' y-axis is not correct (should be 0-1), but I've been stuck on fixing that for too long, so I'm moving on. Basically, as the experiment gets repeated more often, the distribution is more normal and the sample begins to reflect the population better."
   ]
  },
  {
   "cell_type": "markdown",
   "metadata": {},
   "source": [
    "#### Bonus: Plot normal distributions.\n",
    "\n",
    "Even though you still don't know how to use matplotlib, as a bonus challenge, you can try to reproduce the plot above using the samples you have created. This plotting library will be introduced later this week, so don't worry if you don't manage to get the results you want now: you can always come back to solve this challenge later."
   ]
  },
  {
   "cell_type": "code",
   "execution_count": 5,
   "metadata": {},
   "outputs": [],
   "source": [
    "# your code here"
   ]
  },
  {
   "cell_type": "markdown",
   "metadata": {},
   "source": [
    "# Challenge 2 - Plot Probability Mass Function (PMF)"
   ]
  },
  {
   "cell_type": "markdown",
   "metadata": {},
   "source": [
    "### Background knowledge\n",
    "\n",
    "[PMF](https://en.wikipedia.org/wiki/Probability_mass_function) shows the probability distribution of a **discrete random variable**. A [discrete random variable](https://en.wikipedia.org/wiki/Random_variable#Discrete_random_variable) has random numeric values that are not continuous. For example, the number of people in a household can only be integers but not floats. Therefore the number of people in a household is a discrete variable.\n",
    "\n",
    "### Challenge\n",
    "\n",
    "We assume that the probability of clicking an advertisement in a Youtube video is 0.15. We have a sample of 5 people who watched the video and we want to plot the PMF for a binomial distribution.\n",
    "\n",
    "#### Step 1: Create the binomial distribution mentioned above. Store the result in a variable called `dist`. \n",
    "**Hint**: use binom from `scipy.stats.binom`. This object takes *n* and *p* as shape parameters, where *n* is the number of independent experiments and *p* the probability of success of the experiment."
   ]
  },
  {
   "cell_type": "code",
   "execution_count": 6,
   "metadata": {},
   "outputs": [],
   "source": [
    "from scipy.stats import binom"
   ]
  },
  {
   "cell_type": "code",
   "execution_count": 7,
   "metadata": {},
   "outputs": [
    {
     "data": {
      "text/plain": [
       "<scipy.stats._distn_infrastructure.rv_frozen at 0x105aee690>"
      ]
     },
     "execution_count": 7,
     "metadata": {},
     "output_type": "execute_result"
    }
   ],
   "source": [
    "# your code here\n",
    "n, p = 5, 0.15\n",
    "dist = binom(n, p)\n",
    "dist"
   ]
  },
  {
   "cell_type": "code",
   "execution_count": 8,
   "metadata": {},
   "outputs": [],
   "source": [
    "x = range(n)"
   ]
  },
  {
   "cell_type": "code",
   "execution_count": 9,
   "metadata": {},
   "outputs": [
    {
     "data": {
      "text/plain": [
       "[<matplotlib.lines.Line2D at 0x1a18629bd0>]"
      ]
     },
     "execution_count": 9,
     "metadata": {},
     "output_type": "execute_result"
    },
    {
     "data": {
      "image/png": "[encoded data removed]",
      "text/plain": [
       "<Figure size 432x288 with 1 Axes>"
      ]
     },
     "metadata": {
      "needs_background": "light"
     },
     "output_type": "display_data"
    }
   ],
   "source": [
    "fig, ax = plt.subplots(1, 1)\n",
    "ax.plot(x, binom.pmf(x, n, p))"
   ]
  },
  {
   "cell_type": "markdown",
   "metadata": {},
   "source": [
    "#### Step 2: Plot the PMF of the distribution. \n",
    "To do it, run the code in the cell below. \n",
    "\n",
    "**Hint**: Your output should look like the one below:\n",
    "\n",
    "![binom 10](../images/ch-2.png)"
   ]
  },
  {
   "cell_type": "code",
   "execution_count": 10,
   "metadata": {},
   "outputs": [
    {
     "data": {
      "image/png": "[encoded data removed]",
      "text/plain": [
       "<Figure size 432x288 with 1 Axes>"
      ]
     },
     "metadata": {
      "needs_background": "light"
     },
     "output_type": "display_data"
    }
   ],
   "source": [
    "# run this code\n",
    "x = range(n)\n",
    "\n",
    "fig, ax = plt.subplots(1, 1)\n",
    "\n",
    "plt.plot(x, dist.pmf(x))\n",
    "\n",
    "plt.show()"
   ]
  },
  {
   "cell_type": "markdown",
   "metadata": {},
   "source": [
    "#### Step 3: Explain what you observe from the plot above."
   ]
  },
  {
   "cell_type": "markdown",
   "metadata": {},
   "source": [
    "For every experiment (every individual watching the YT video), the chance of that individual being the first to click on the ad decreases."
   ]
  },
  {
   "cell_type": "markdown",
   "metadata": {},
   "source": [
    "#### Step 4: Now plot PMF with 50, 500, and 5000 visitors.\n",
    "To plot the PMF, you can copy the code given above and replace variable `dist` for the name of the variables where you have stored the new binomial objects for 50, 500 and 5000 visitors."
   ]
  },
  {
   "cell_type": "code",
   "execution_count": 11,
   "metadata": {},
   "outputs": [
    {
     "data": {
      "text/plain": [
       "[<matplotlib.lines.Line2D at 0x1a1876dd90>]"
      ]
     },
     "execution_count": 11,
     "metadata": {},
     "output_type": "execute_result"
    },
    {
     "data": {
      "image/png": "[encoded data removed]",
      "text/plain": [
       "<Figure size 432x288 with 1 Axes>"
      ]
     },
     "metadata": {
      "needs_background": "light"
     },
     "output_type": "display_data"
    }
   ],
   "source": [
    "n, p = 50, 0.15\n",
    "dist = binom(n, p)\n",
    "dist\n",
    "\n",
    "x = range(n)\n",
    "\n",
    "fig, ax = plt.subplots(1, 1)\n",
    "\n",
    "ax.plot(x, binom.pmf(x,n, p))"
   ]
  },
  {
   "cell_type": "code",
   "execution_count": 12,
   "metadata": {},
   "outputs": [
    {
     "data": {
      "text/plain": [
       "[<matplotlib.lines.Line2D at 0x1a189cf110>]"
      ]
     },
     "execution_count": 12,
     "metadata": {},
     "output_type": "execute_result"
    },
    {
     "data": {
      "image/png": "[encoded data removed]",
      "text/plain": [
       "<Figure size 432x288 with 1 Axes>"
      ]
     },
     "metadata": {
      "needs_background": "light"
     },
     "output_type": "display_data"
    }
   ],
   "source": [
    "n, p = 500, 0.15\n",
    "dist = binom(n, p)\n",
    "dist\n",
    "\n",
    "x = range(n)\n",
    "\n",
    "fig, ax = plt.subplots(1, 1)\n",
    "\n",
    "ax.plot(x, binom.pmf(x,n, p))"
   ]
  },
  {
   "cell_type": "code",
   "execution_count": 13,
   "metadata": {},
   "outputs": [
    {
     "data": {
      "text/plain": [
       "[<matplotlib.lines.Line2D at 0x1a18867290>]"
      ]
     },
     "execution_count": 13,
     "metadata": {},
     "output_type": "execute_result"
    },
    {
     "data": {
      "image/png": "[encoded data removed]",
      "text/plain": [
       "<Figure size 432x288 with 1 Axes>"
      ]
     },
     "metadata": {
      "needs_background": "light"
     },
     "output_type": "display_data"
    }
   ],
   "source": [
    "n, p = 5000, 0.15\n",
    "dist = binom(n, p)\n",
    "dist\n",
    "\n",
    "x = range(n)\n",
    "\n",
    "fig, ax = plt.subplots(1, 1)\n",
    "\n",
    "ax.plot(x, binom.pmf(x,n, p))"
   ]
  },
  {
   "cell_type": "markdown",
   "metadata": {},
   "source": [
    "#### Step 5: What did you notice from the distribution plots? Comment your findings."
   ]
  },
  {
   "cell_type": "markdown",
   "metadata": {},
   "source": [
    "The distribution doesn't change no matter how often you repeat the experiment. "
   ]
  },
  {
   "cell_type": "markdown",
   "metadata": {},
   "source": [
    "# Challenge 3\n",
    "#### Step 1: Research the Poisson distribution. Write about your own understanding of the Poisson distribution."
   ]
  },
  {
   "cell_type": "markdown",
   "metadata": {},
   "source": [
    "The Poisson distribution expresses the probability of independently occurriging events happening an n amount of time within a given time and space (if these events occur with a constant mean rate).\n",
    "\n",
    "\"A Poisson Process meets the following criteria (in reality many phenomena modeled as Poisson processes don’t meet these exactly):\n",
    "Events are independent of each other. The occurrence of one event does not affect the probability another event will occur.\n",
    "The average rate (events per time period) is constant.\n",
    "Two events cannot occur at the same time.\"\n",
    "https://towardsdatascience.com/the-poisson-distribution-and-poisson-process-explained-4e2cb17d459\n",
    "\n",
    "https://towardsdatascience.com/the-poisson-distribution-and-poisson-process-explained-4e2cb17d459"
   ]
  },
  {
   "cell_type": "markdown",
   "metadata": {},
   "source": [
    "#### Step 2: A website has an average of 300 visits per day. What is the probability of getting 320 visitors in a day?\n",
    "\n",
    "**Hint**: use `scipy.stats.poisson.pmf`."
   ]
  },
  {
   "cell_type": "markdown",
   "metadata": {},
   "source": [
    "The actual function:\n",
    "P(Y) = ((lambda^Y)* (e^(-lambda)))/y! \n",
    "So P(320) = (300^320) * (e(-300))/(320!)"
   ]
  },
  {
   "cell_type": "code",
   "execution_count": 14,
   "metadata": {},
   "outputs": [
    {
     "name": "stdout",
     "output_type": "stream",
     "text": [
      "0.01216063471394124\n",
      "0.8809955143948803\n",
      "<scipy.stats._distn_infrastructure.rv_frozen object at 0x105195210>\n"
     ]
    }
   ],
   "source": [
    "#your code here\n",
    "\n",
    "from scipy.stats import poisson\n",
    "\n",
    "#Stuff that did not work: \n",
    "#data_poisson = poisson.rvs(mu=300, size=320)\n",
    "\n",
    "\n",
    "\n",
    "mu = 300 \n",
    "#Probability mass function:\n",
    "print(poisson.pmf(300, 320))\n",
    "\n",
    "prob = poisson.cdf(320, mu)\n",
    "\n",
    "print(prob)\n",
    "\n",
    "rv = poisson(mu, loc=0)\n",
    "print(rv)"
   ]
  },
  {
   "cell_type": "markdown",
   "metadata": {},
   "source": [
    "#### Step 3: What is the probability of getting 60 visits?"
   ]
  },
  {
   "cell_type": "code",
   "execution_count": 15,
   "metadata": {},
   "outputs": [
    {
     "data": {
      "text/plain": [
       "3.275053111798523e-64"
      ]
     },
     "execution_count": 15,
     "metadata": {},
     "output_type": "execute_result"
    }
   ],
   "source": [
    "# your code here\n",
    "prob1 = poisson.cdf(60, mu)\n",
    "prob1"
   ]
  },
  {
   "cell_type": "markdown",
   "metadata": {},
   "source": [
    "#### Step 4: Create a list to store the Poisson distribution probabilities for 0 to 1000 visitors. Store your list in a variable called `arr`."
   ]
  },
  {
   "cell_type": "code",
   "execution_count": 16,
   "metadata": {},
   "outputs": [
    {
     "name": "stdout",
     "output_type": "stream",
     "text": [
      "[5.148200222412013e-131, 1.5444600667235709e-128, 2.3166901000854342e-126, 2.31669010008539e-124, 1.7375175750640974e-122, 1.042510545038448e-120, 5.212552725192131e-119, 2.23395116793948e-117, 8.377316879773299e-116, 2.7924389599243865e-114, 8.377316879773059e-113, 2.2847227853926804e-111, 5.71180696348157e-110, 1.318109299264997e-108, 2.824519926996411e-107, 5.649039853992778e-106, 1.0591949726236754e-104, 1.8691675987476173e-103, 3.1152793312460596e-102, 4.918862101967454e-101, 7.378293152951289e-100, 1.0540418789930416e-98, 1.4373298349904852e-97, 1.874778045639763e-96, 2.3434725570497126e-95, 2.812167068459659e-94, 3.2448081559150323e-93, 3.605342395461095e-92, 3.8628668522797225e-91, 3.996069157530829e-90, 3.9960691575307916e-89, 3.8671637008362115e-88, 3.6254659695339394e-87, 3.295878154121811e-86, 2.908127783048746e-85, 2.492680956898807e-84, 2.0772341307490223e-83, 1.684243889796562e-82, 1.3296662287866792e-81, 1.0228201759897706e-80, 7.671151319923377e-80, 5.61303755116352e-79, 4.009312536545479e-78, 2.7971947929385084e-77, 1.9071782679126897e-76, 1.2714521786084167e-75, 8.292079425707285e-75, 5.292816654706792e-74, 3.308010409191751e-73, 2.0253124954234986e-72, 1.2151874972541331e-71, 7.1481617485533646e-71, 4.123939470319411e-70, 2.334305360558085e-69, 1.2968363114211372e-68, 7.073652607751824e-68, 3.789456754152734e-67, 1.9944509232382822e-66, 1.0316125465025791e-65, 5.245487524589388e-65, 2.622743762294515e-64, 1.2898739814563793e-63, 6.241325716724519e-63, 2.9720598651070062e-62, 1.3931530617688636e-61, 6.42993720816397e-61, 2.92269873098366e-60, 1.3086710735747233e-59, 5.773548854006299e-59, 2.510238632176586e-58, 1.075816556647147e-57, 4.545703760480971e-57, 1.8940432335336415e-56, 7.783739315891554e-56, 3.1555699929292893e-55, 1.2622279971716488e-54, 4.982478936203708e-54, 1.9412255595599473e-53, 7.466252152153756e-53, 2.835285627400389e-52, 1.0632321102750065e-51, 3.937896704722199e-51, 1.440693916361796e-50, 5.2073274085368045e-50, 1.859759788763244e-49, 6.563858077987835e-49, 2.2897179341817668e-48, 7.89557908338536e-48, 2.691674687517754e-47, 9.07306074444211e-47, 3.0243535814806817e-46, 9.970396422463556e-46, 3.251216224716087e-45, 1.0487794273278516e-44, 3.347168385089081e-44, 1.05700054265966e-43, 3.3031266958113436e-43, 1.0215855760241558e-42, 3.127302783747286e-42, 9.476675102264663e-42, 2.843002530679554e-41, 8.44456197231521e-41, 2.483694697739709e-40, 7.234062226426875e-40, 2.0867487191617357e-39, 5.962139197604352e-39, 1.6873978861145275e-38, 4.731022110601493e-38, 1.3141728085003162e-37, 3.6169893811934735e-37, 9.864516494164793e-37, 2.6660855389633276e-36, 7.141300550794154e-36, 1.895920500210951e-35, 4.989264474239055e-35, 1.3015472541494444e-34, 3.366070484869214e-34, 8.630949961202297e-34, 2.194309312170135e-33, 5.53187221555525e-33, 1.382968053888637e-32, 3.428846414600278e-32, 8.431589544099903e-32, 2.056485254658311e-31, 4.975367551592195e-31, 1.1940882123822778e-30, 2.8430671723389206e-30, 6.715906706312278e-30, 1.574040634291886e-29, 3.6605596146324593e-29, 8.447445264535687e-29, 1.9345294498937965e-28, 4.396657840667017e-28, 9.91727332481243e-28, 2.2202850727192386e-27, 4.933966828265241e-27, 1.0883750356468974e-26, 2.383302997766532e-26, 5.181093473406243e-26, 1.118221612965434e-25, 2.396189170639684e-25, 5.09827483114858e-25, 1.0771003164400079e-24, 2.2596510135102295e-24, 4.707606278146465e-24, 9.7398750582341e-24, 2.0013441900480105e-23, 4.0843758980572444e-23, 8.279140333899837e-23, 1.6669410068254064e-22, 3.3338820136506294e-22, 6.623606649636982e-22, 1.3072907861125527e-21, 2.5633152668873083e-21, 4.9934712991312684e-21, 9.664783159610294e-21, 1.858612146078927e-20, 3.5514881772204894e-20, 6.743331982064752e-20, 1.2723267890687486e-19, 2.3856127295039933e-19, 4.445241110877218e-19, 8.231927983104908e-19, 1.5150787698966558e-18, 2.7714855546891878e-18, 5.0390646448887035e-18, 9.106743334136013e-18, 1.635941916312054e-17, 2.9213248505573894e-17, 5.185783758385276e-17, 9.151383103032706e-17, 1.6055058075498762e-16, 2.80030082712135e-16, 4.856012995008322e-16, 8.372436198290625e-16, 1.435274776849933e-15, 2.446491096903445e-15, 4.146595079497259e-15, 6.9886433924100924e-15, 1.1712810154877248e-14, 1.952135025812857e-14, 3.235582915712523e-14, 5.333378432492127e-14, 8.743243331953246e-14, 1.4255288041230874e-13, 2.3116683310100575e-13, 3.7284973080810205e-13, 5.981546483553175e-13, 9.545020984393356e-13, 1.5150826959351161e-12, 2.3922358356871803e-12, 3.757438485372861e-12, 5.870997633395585e-12, 9.125903057090625e-12, 1.411222122230466e-11, 2.1711109572780717e-11, 3.323129016241047e-11, 5.0606025628040964e-11, 7.667579640613254e-11, 1.1559165287355822e-10, 1.733874793103563e-10, 2.587872825527467e-10, 3.843375483456274e-10, 5.679865246486847e-10, 8.352743009539742e-10, 1.2223526355424312e-09, 1.7801251973922216e-09, 2.5798915904235948e-09, 3.7209974861881144e-09, 5.341144717015085e-09, 7.630206738592185e-09, 1.0848635173354153e-08, 1.535184222644446e-08, 2.1622312994995644e-08, 3.031165373130406e-08, 4.22953307878516e-08, 5.874351498312939e-08, 8.121223269557828e-08, 1.1175995325080651e-07, 1.5309582637094398e-07, 2.0876703596042977e-07, 2.8339416646209297e-07, 3.8296508981359804e-07, 5.151996723950763e-07, 6.899995612433979e-07, 9.19999414991046e-07, 1.22123816149261e-06, 1.6139711385366073e-06, 2.1236462349160993e-06, 2.782069303384115e-06, 3.6287860478924616e-06, 4.712709153106182e-06, 6.09402045660551e-06, 7.8463782703049e-06, 1.005945932090389e-05, 1.2841862962852562e-05, 1.632440207142316e-05, 2.066380009041078e-05, 2.604680683665651e-05, 3.269473661505563e-05, 4.086842076881195e-05, 5.0873552824243176e-05, 6.306638779864417e-05, 7.785973802303444e-05, 9.572918609386627e-05, 0.00011721941154355308, 0.00014295050188239185, 0.00017362409135508841, 0.00021002914276823094, 0.00025304715996174833, 0.00030365659195411856, 0.00036293616568221676, 0.0004320668639074741, 0.0005123322496925141, 0.0006051168303455792, 0.0007119021533477328, 0.0008342603359542018, 0.0009738447501413619, 0.0011323776164434932, 0.0013116343047606868, 0.0015134241978001378, 0.0017395680434491212, 0.001991871805475994, 0.002272097116512881, 0.002581928541491493, 0.002922937971500328, 0.003296546584397794, 0.0037039849262903955, 0.004146251783160718, 0.0046240726206252, 0.005137858467362476, 0.005687666200031199, 0.006273161250034211, 0.006893583791245853, 0.007547719479464563, 0.008233875795782152, 0.008949864995416132, 0.009692994579873505, 0.01046006609338979, 0.011247382896116397, 0.012050767388695498, 0.012865587959459584, 0.013686795701554347, 0.014508970708361161, 0.01532637750883369, 0.01613302895666632, 0.016922757646845872, 0.017689293707507985, 0.018426347611991193, 0.019127696483034237, 0.01978727222383193, 0.020399249715290117, 0.020958133269126718, 0.02145883952470885, 0.02189677502520977, 0.022267906805302762, 0.022568824464832604, 0.02279679238872024, 0.022949790995353717, 0.02302654614918581, 0.023026546149191047, 0.02295004599586508, 0.022798058936293556, 0.022572335580489215, 0.022275331164944862, 0.021910161801592613, 0.021480550785878315, 0.02099076624027115, 0.0204455515327264, 0.019850050031776985, 0.01920972583720953, 0.018530282158069417, 0.017817578998150962, 0.017077551755416063, 0.016316132250396614, 0.015539173571804753, 0.01475237997323601, 0.013961242876872414, 0.013170983846110517, 0.01238650518442957, 0.011612348610402475, 0.0108526622527108, 0.010111176011844547, 0.009391185150321038, 0.008695541805850205, 0.008026653974630801, 0.007386491387696852, 0.0067765976033930565, 0.006198107564079061, 0.005651769815269786, 0.005137972559335124, 0.0046567727123890245, 0.0042079271497492575, 0.003790925360133213, 0.0034050227785641343, 0.0030492741300571793, 0.002722566187551343, 0.002423649425119507, 0.002151168128804156, 0.0019036886095613185, 0.001679725243730452, 0.0014777641440445468, 0.0012962843368813303, 0.0011337763879425739, 0.0009887584778566518, 0.0008597899807451462, 0.0007454826422645647, 0.0006445094889896269, 0.0005556116284393916, 0.0004776031190022915, 0.0004093741020019253, 0.0003498923948734082, 0.0002982037456308143, 0.0002534309452953501, 0.00021477198753836537, 0.0001814974542577835, 0.0001529472929138834, 0.0001285271369024008, 0.00010770430466685895, 9.000359721460612e-05, 7.500299767885041e-05, 6.232936095192957e-05, 5.1654166534778376e-05, 4.26893938303974e-05, 3.518356634372919e-05, 2.8917999734567694e-05, 2.3703278470952857e-05, 1.937597695172918e-05, 1.5795633384562162e-05, 1.284197836143799e-05, 1.04124148876514e-05, 8.419742496751381e-06, 6.790114916736645e-06, 5.461218431690898e-06, 4.380656496010518e-06, 3.504525196807471e-06, 2.796163720857811e-06, 2.225063968851547e-06, 1.7659237848025194e-06, 1.3978288534055627e-06, 1.1035490947942483e-06, 8.689362951134181e-07, 6.824107029686722e-07, 5.345253548058231e-07, 4.175979334420121e-07, 3.2540098709772274e-07, 2.5290232157852837e-07, 1.960483113012164e-07, 1.5158374585147695e-07, 1.1690263176201519e-07, 8.992510135542935e-08, 6.8996241449145e-08, 5.280324600698733e-08, 4.0307821379400726e-08, 3.069123455283029e-08, 2.330979839456475e-08, 1.7658938177699796e-08, 1.3344285776599643e-08, 1.0058506866781184e-08, 7.56278711788418e-09, 5.672090338412778e-09, 4.24345910604328e-09, 3.166760526899652e-09, 2.3573899703962215e-09, 1.7505371067294015e-09, 1.296694153132447e-09, 9.581483890143505e-10, 7.06251883794309e-10, 5.193028557309183e-10, 3.809067401450531e-10, 2.787122488868048e-10, 2.0343959772748042e-10, 1.4813562941323278e-10, 1.0760457342366098e-10, 7.797432856788599e-11, 5.6366984506905054e-11, 4.064926767325367e-11, 2.924407746275904e-11, 2.098857234169611e-11, 1.5027617428415244e-11, 1.0734012448871167e-11, 7.648939987318132e-12, 5.437635062076204e-12, 3.85647876742996e-12, 2.728640637331411e-12, 1.9260992734115002e-12, 1.3564079390218571e-12, 9.529798166431624e-13, 6.679765069928702e-13, 4.671164384564169e-13, 3.2589518962081016e-13, 2.2684119927195818e-13, 1.575286106055768e-13, 1.0914222443801742e-13, 7.544393394332415e-14, 5.203029927127313e-14, 3.5800664636194374e-14, 2.457711531088697e-14, 1.683364062390306e-14, 1.1503626850046991e-14, 7.84338194321177e-15, 5.33563397497502e-15, 3.6214710237364735e-15, 2.4524634472267e-15, 1.6570698967745218e-15, 1.1171257731060174e-15, 7.514298922240532e-16, 5.043153639090004e-16, 3.3771118118877035e-16, 2.256422146028061e-16, 1.5042814306852094e-16, 1.0006306634274134e-16, 6.641353960798392e-17, 4.3982476561591164e-17, 2.9063310503261105e-17, 1.9162622309825926e-17, 1.260698836173397e-17, 8.275922338116753e-18, 5.4209098284609496e-18, 3.5430783192572746e-18, 2.3107032516894784e-18, 1.503711443615599e-18, 9.764360023478783e-19, 6.326799151283226e-19, 4.090602899536739e-19, 2.6390986448623475e-19, 1.6989905439019374e-19, 1.0914286149266177e-19, 6.996337275167951e-20, 4.4752690459495656e-20, 2.856554710179959e-20, 1.819461598842094e-20, 1.1564374568909911e-20, 7.33469845807879e-21, 4.642214213975613e-21, 2.9319247667216686e-21, 1.8478517437317082e-21, 1.162170908007366e-21, 7.293959673689711e-22, 4.568241966817893e-22, 2.855151229261459e-22, 1.7807596024500488e-22, 1.1083565990352725e-22, 6.884202478475994e-23, 4.267067651949807e-23, 2.639423289865515e-23, 1.6292736357198978e-23, 1.0036593238520004e-23, 6.1700368269589226e-24, 3.785298666848028e-24, 2.317529796029335e-24, 1.4160059853538809e-24, 8.634182837522782e-25, 5.254066635408151e-25, 3.1907287259557448e-25, 1.9337749854279988e-25, 1.1696219669929536e-25, 7.060092356093526e-26, 4.2530676843943326e-26, 2.5569545196756987e-26, 1.5341727118056076e-26, 9.186662944944355e-27, 5.490037616499714e-27, 3.2743763120285195e-27, 1.949033519064589e-27, 1.1578416944937222e-27, 6.864674078021361e-28, 4.061937324274133e-28, 2.3987818844143475e-28, 1.4138203640952947e-28, 8.316590377029624e-29, 4.882538381816274e-29, 2.860862333096339e-29, 1.6730189082434822e-29, 9.764701799085279e-30, 5.688175805294177e-30, 3.307078956565955e-30, 1.919001328761746e-30, 1.1113907309430589e-30, 6.42422387827984e-31, 3.7062830067010364e-31, 2.1341360883116604e-31, 1.2265149932819995e-31, 7.03545885248466e-32, 4.0279344575284917e-32, 2.3016768328724304e-32, 1.3127434408020351e-32, 7.472922812914078e-33, 4.2459788709753865e-33, 2.407927526073049e-33, 1.3629778449467087e-33, 7.700439801960816e-34, 4.342353271781241e-34, 2.444101278675268e-34, 1.373090605997691e-34, 7.699573491577261e-35, 4.3094627751336447e-35, 2.407521103427307e-35, 1.342483886669231e-35, 7.472081001871215e-36, 4.151156112152771e-36, 2.3019349974966933e-36, 1.2741337624518763e-36, 7.039413052223644e-37, 3.88202925674107e-37, 2.1368968385723282e-37, 1.1741191420724145e-37, 6.439410285586096e-38, 3.525224608898501e-38, 1.9263522453004836e-38, 1.0507375883456337e-38, 5.720894310412842e-39, 3.1091816904407795e-39, 1.6867170110898705e-39, 9.133846630447324e-40, 4.9372143948364875e-40, 2.6639646015303034e-40, 1.434810377843895e-40, 7.714034289484349e-41, 4.1399110677002414e-41, 2.2178095005542092e-41, 1.1859943853231878e-41, 6.330930882504703e-42, 3.373497805952741e-42, 1.7944137265713232e-42, 9.527860495070737e-43, 5.050102735905674e-43, 2.6720120295783743e-43, 1.4112739592845662e-43, 7.440811736119777e-44, 3.916216703220085e-44, 2.0575569368936576e-44, 1.0791382536151732e-44, 5.649938500605112e-45, 2.952929529933075e-45, 1.5406588851820272e-45, 8.024265026991782e-46, 4.172061539163507e-46, 2.1654298646171823e-46, 1.121984385812853e-46, 5.803367512826421e-47, 2.9965753078258806e-47, 1.544626447333675e-47, 7.948335063463227e-48, 4.083048833970632e-48, 2.0938711969085567e-48, 1.0719477117277875e-48, 5.478438049714278e-49, 2.795121453936219e-49, 1.4236611819720158e-49, 7.238955162566558e-50, 3.674596529222163e-50, 1.8621266195378317e-50, 9.420539390576903e-51, 4.7578481770604763e-51, 2.3989150472572627e-51, 1.2075075741221832e-51, 6.0678772568987596e-52, 3.044085580383664e-52, 1.524583763130105e-52, 7.622918815652677e-53, 3.8051175452495814e-53, 1.8962379793602635e-53, 9.434019797814088e-54, 4.6857714227542373e-54, 2.3235230195490092e-54, 1.1502589205683845e-54, 5.684969953384355e-55, 2.8050838585777758e-55, 1.3818147086591792e-55, 6.795810042584193e-56, 3.336731608470652e-56, 1.6356527492502816e-56, 8.004825852775824e-57, 3.911152696796957e-57, 1.9078793642913582e-57, 9.291620280635747e-58, 4.517805646988034e-58, 2.1931095373728714e-58, 1.0628963832178385e-58, 5.143047015569736e-59, 2.4845637756377826e-59, 1.198342657060227e-59, 5.770510387124885e-60, 2.774283839965175e-60, 1.331656243183089e-60, 6.381739184582321e-61, 3.0534637246820294e-61, 1.4586610149744969e-61, 6.957047766173696e-62, 3.3128798886577592e-62, 1.5750617537185454e-62, 7.476558957530402e-63, 3.5433928708665995e-63, 1.6766843237535333e-63, 7.921343261827201e-64, 3.736482670671282e-64, 1.7597249626401302e-64, 8.274568789844071e-65, 3.884774079739408e-65, 1.8209878498779089e-65, 8.522564039991159e-66, 3.9825065607430933e-66, 1.8580901527576782e-66, 8.655699469370415e-67, 4.025906729939956e-67, 1.8696161284536946e-67, 8.669008323588922e-68, 4.0134297794383325e-68, 1.855206369539755e-68, 8.562490936345424e-69, 3.945848357758541e-69, 1.8155743977433606e-69, 8.341076865589415e-70, 3.8261820484348e-70, 1.7524497931761806e-70, 8.014252102942173e-71, 3.659475846091963e-71, 1.6684540331719975e-71, 7.595390135838747e-72, 3.452450061745158e-72, 1.56692135933902e-72, 7.100852081598217e-73, 3.213055240542773e-73, 1.451681584582046e-73, 6.548939479316946e-74, 2.9499727384329267e-74, 1.326824320135107e-74, 5.958791856888785e-75, 2.6721039717009065e-75, 1.1964644649395823e-75, 5.349319515380417e-76, 2.388089069367186e-76, 1.0645270740116145e-76, 4.73825107126567e-77, 2.105889365007461e-77, 9.345662862465428e-78, 4.1413572507220586e-78, 1.8324589604971177e-78, 8.096284066998881e-79, 3.5718900295558275e-79, 1.5735198368082276e-79, 6.921641510887767e-80, 3.0402524938025085e-80, 1.3334440762290937e-80, 5.839901063779799e-81, 2.553892593488055e-81, 1.115236940387715e-81, 4.8629517749477093e-82, 2.117395547874007e-82, 9.206067599442633e-83, 3.996845556924891e-83, 1.73273651311661e-83, 7.501023866308928e-84, 3.2425175214598206e-84, 1.3996478509900185e-84, 6.032964874953823e-85, 2.596685025087755e-85, 1.1160537357107583e-85, 4.789930196187094e-86, 2.052827226935377e-86, 8.785280571767532e-87, 3.7543934067398297e-87, 1.6021593485374816e-87, 6.82738358751652e-88, 2.9052696117082143e-88, 1.2345338293383141e-88, 5.238474523360292e-89, 2.2196925946426124e-89, 9.392211260828015e-90, 3.968539969368897e-90, 1.6744894385511827e-90, 7.055433027598234e-91, 2.968625397307625e-91, 1.2473215955075418e-91, 5.2335171839492294e-92, 2.19281446254905e-92, 9.174955910246062e-93, 3.833547037704064e-93, 1.599532839097308e-93, 6.664720162908395e-94, 2.7731151856778485e-94, 1.1522639275665988e-94, 4.7811781226823405e-95, 1.9811511558084128e-95, 8.197866851620676e-96, 3.3875482857947875e-96, 1.3978878758429073e-96, 5.760526960891919e-97, 2.37058722670488e-97, 9.742139287820737e-98, 3.998141978589372e-98, 1.6385827781094483e-98, 6.706341520231941e-99, 2.741011520528566e-99, 1.1187802124615007e-99, 4.560245431229289e-100, 1.856273581232659e-100, 7.545827565981391e-101, 3.0632588224600387e-101, 1.2418616847810427e-101, 5.027780100326577e-102, 2.0327951888105063e-102, 8.207786765045622e-103, 3.309591437520139e-103, 1.332721384236489e-103, 5.359469373601063e-104, 2.1523973387937394e-104, 8.632609647584225e-105, 3.457654064453038e-105, 1.3830616257812336e-105, 5.524879996457601e-106, 2.2040744666716543e-106, 8.781173173992253e-107, 3.4938354803703486e-107, 1.3882789988206918e-107, 5.509043646120752e-108, 2.1832405466791898e-108, 8.640793720354097e-109, 3.415333486309487e-109, 1.3481579551211753e-109, 5.314683134516645e-110, 2.0923949348492707e-110, 8.226978773984707e-111, 3.230489047374259e-111, 1.2668584499514718e-111, 4.961586618608735e-112, 1.9406466565622224e-112, 7.580651002183858e-113, 2.9573410931831215e-113, 1.1522108155256114e-113, 4.483310566242399e-114, 1.7422191319606785e-114, 6.761523151208959e-115, 2.6207454074459e-115, 1.0144820932035801e-115, 3.92196685517548e-116, 1.5142729170552646e-116, 5.8390986518872234e-117, 2.248690109837914e-117, 8.64880811476683e-118, 3.3222054218058844e-118, 1.2745033587488009e-118, 4.8831546312209004e-119, 1.8685540680693468e-119, 7.140970960777524e-120, 2.7255614354103652e-120, 1.0389687809695144e-120, 3.955464902168556e-121, 1.503979050254347e-121, 5.711312849064734e-122, 2.166111067913349e-122, 8.204966166347862e-123, 3.104022509334583e-123, 1.1728044745592236e-123, 4.4256772624881895e-124, 1.6679688175199777e-124, 6.278427167578757e-125, 2.3603109652564222e-125, 8.862243924621888e-126, 3.3233414717339376e-126, 1.2446971804231781e-126, 4.655974490364198e-127, 1.7394674310193397e-127, 6.490550115747608e-128, 2.4188385524536303e-128, 9.003121162973105e-129, 3.3468851906952795e-129, 1.2426553925843361e-129, 4.608116412555517e-130, 1.7067097824263156e-130, 6.313353079258625e-131, 2.332519610564743e-131, 8.607083433823991e-132, 3.1721437716773784e-132, 1.1676602840538023e-132, 4.292868691369999e-133, 1.5763287728429511e-133, 5.781156868612827e-134, 2.1176398786148855e-134, 7.747462970538902e-135, 2.8309852511079756e-135, 1.0332062960254594e-135, 3.7662440924343775e-136, 1.3712053734603036e-136, 4.986201358034252e-137, 1.8109690162357996e-137, 6.569416020204168e-138, 2.380223195726217e-138, 8.613594194428766e-139, 3.1133472991891405e-139, 1.1239520935695652e-139, 4.0527118758515808e-140, 1.459560099345997e-140, 5.250216184699298e-141, 1.8863052160599822e-141, 6.769037856671305e-142, 2.426178443252529e-142, 8.685603018798381e-143, 3.105698338072256e-143, 1.109177977882577e-143, 3.956639635732421e-144, 1.4097290863631218e-144, 5.016829488838038e-145, 1.7832332306306963e-145, 6.331005552531809e-146, 2.2450374299754484e-146, 7.951726434387723e-147, 2.8131107668833804e-147, 9.940320731031387e-148, 3.508348493304985e-148, 1.236785602811341e-148, 4.354878883138707e-149, 1.531610392661604e-149, 5.380364377036329e-150, 1.8878471498358333e-150, 6.616286740083726e-151, 2.3160863734230744e-151, 8.098204102877816e-152, 2.8282435749281224e-152, 9.865965959056015e-153, 3.4376188010645423e-153, 1.1963870537352858e-153, 4.158935296879917e-154, 1.4440747558599809e-154, 5.008351754427659e-155, 1.7349948340981981e-155, 6.003442332517521e-156, 2.0749224651543629e-156, 7.163138544841993e-157, 2.470047774083737e-157, 8.507627235645217e-158, 2.9269359755692796e-158, 1.0058199228750451e-158, 3.4524711311507886e-159, 1.183704387822762e-159, 4.053782150079149e-160, 1.3866985690124079e-160, 4.7381500080182825e-161, 1.617116043690384e-161, 5.512895603492541e-162, 1.8772629750817127e-162, 6.385248214569584e-163, 2.1693935043829105e-163, 7.362195150618285e-164, 2.4956593730930367e-164, 8.450313904365182e-165, 2.8580543081303567e-165, 9.655588878819894e-166, 3.258353952356928e-166, 1.0983215569741604e-166, 3.6980523803850885e-167, 1.2437395898164188e-167, 4.1782964943441655e-168, 1.402112917564306e-168, 4.699819835413005e-169, 1.573600391321116e-169, 5.262877562940944e-170, 1.758199631275426e-170, 5.867184531501837e-171, 1.955728177167617e-171, 6.51185852552477e-172, 2.165806604943294e-172, 7.195370780548287e-173, 2.3878442855819427e-173, 7.915505919042885e-174, 2.62102845001568e-174, 8.669333351753457e-175, 2.864317186704186e-175, 9.453192035331358e-176, 3.1164369347228104e-176, 1.026269023510292e-176, 3.3758849457525274e-177, 1.1092721618031655e-177, 3.6409370737524087e-178, 1.1937498602473066e-178, 3.909661114344762e-179, 1.2790603427521578e-179, 4.179935760627412e-180, 1.3645056889960252e-180, 4.449475072818336e-181, 1.4493404145983415e-181, 4.7158581819890956e-182, 1.5327816409495545e-182, 4.9765637693163194e-183, 1.6140206819391896e-183, 5.229008688794994e-184, 1.6922358216148092e-184, 5.470589940571864e-185, 1.7666060087959666e-185, 5.698729060631028e-186, 1.8363251538003312e-186, 5.910917877043741e-187, 1.9006166807215745e-187, 6.104764499106435e-188, 1.958747967628108e-188, 6.278038357776059e-189, 2.0100442981142353e-189, 6.428713106976861e-190, 2.05390195111115e-190, 6.555006226950919e-191, 2.0898000723537457e-191, 6.655414243162554e-192, 2.1173109999486907e-192, 6.728742584571373e-193, 2.1361087570098559e-193, 6.774129250552216e-194, 2.1459754753623626e-194, 6.791061630885598e-195, 2.146805573513093e-195, 6.779386021628902e-196, 2.1386075778001991e-196, 6.739309593911568e-197, 2.1215035447758773e-197, 6.6713947948945944e-198, 2.0957261135804937e-198, 6.5765463815305985e-199, 2.0616132857470304e-199, 6.455991500250114e-200, 2.0196010949675376e-200, 6.311253421770207e-201, 1.9702143876500633e-201, 6.144119712005631e-202, 1.9140559850498035e-202, 5.956605762599239e-203, 1.8517945375972347e-203, 5.750914713033206e-204, 1.7841514104561454e-204, 5.529394867110089e-205, 1.7118869557632881e-205, 5.294495739465258e-206, 1.6357865312476055e-206, 5.04872386187124e-207, 1.5566466172278365e-207, 4.794599437041094e-208, 1.4752613652446461e-208, 4.5346148521896844e-209, 1.3924098829628782e-209, 4.271195960012362e-210, 1.3088445229866512e-210, 4.006666907099361e-211, 1.2252803997258848e-211, 3.743219143764545e-212, 1.1423863104059594e-212, 3.482885092703308e-213, 1.0607771855942432e-213, 3.227516791866102e-214, 9.810081434247613e-215, 2.978769666267069e-215, 9.035701717708513e-216, 2.738091429604822e-216, 8.288874156232917e-217, 2.5067159746649558e-217, 7.573160044309163e-218, 2.2856619852033324e-218, 6.891443171472003e-219, 2.0757358950206992e-219, 6.245945521631916e-220, 1.8775387339544193e-220, 5.638254456325097e-221]\n"
     ]
    }
   ],
   "source": [
    "# your code here\n",
    "#arr = [poisson.cdf([i for i in x], mu)]\n",
    "x = range(1000)\n",
    "arr = [poisson.pmf(i, mu) for i in x]\n",
    "#arr = [scipy.stats.poisson.pmf(i, 300) for i in range(1000)]\n",
    "print(arr)"
   ]
  },
  {
   "cell_type": "markdown",
   "metadata": {},
   "source": [
    "#### Step 5: Plot the probabilities.\n",
    "To do it, run the code in the cell below. Your plot should look like the one below:\n",
    "\n",
    "![poisson distribution](../images/ch-3.png)"
   ]
  },
  {
   "cell_type": "code",
   "execution_count": 17,
   "metadata": {},
   "outputs": [
    {
     "data": {
      "image/png": "[encoded data removed]",
      "text/plain": [
       "<Figure size 432x288 with 1 Axes>"
      ]
     },
     "metadata": {
      "needs_background": "light"
     },
     "output_type": "display_data"
    }
   ],
   "source": [
    "# run this code\n",
    "plt.plot(arr)\n",
    "plt.show()"
   ]
  },
  {
   "cell_type": "markdown",
   "metadata": {},
   "source": [
    "# Challenge 4 - Central Limit Theorem\n",
    "\n",
    "A delivery company needs 35 minutes to deliver a package, with a standard deviation of 8 minutes. Suppose that in one day, they deliver 200 packages.\n",
    "\n",
    "**Hint**: `stats.norm.cdf` can help you find the answers.\n",
    "\n",
    "#### Step 1: What is the probability that the mean delivery time today is between 30 and 35 minutes?"
   ]
  },
  {
   "cell_type": "code",
   "execution_count": 55,
   "metadata": {},
   "outputs": [
    {
     "name": "stdout",
     "output_type": "stream",
     "text": [
      "0.5\n",
      "4.836102065938057e-19\n"
     ]
    }
   ],
   "source": [
    "# your code here. \n",
    "# So what's the probability of the mean being 30 mins and what's the prob. of the mean being 35 mins. \n",
    "#https://www.statisticshowto.datasciencecentral.com/probability-and-statistics/normal-distributions/central-limit-theorem-definition-examples/#between\n",
    "'''\n",
    "Example from website working with greater than/less than values:\n",
    "\n",
    "a) Subtract the mean (μ in Step 1) from the greater than value (Xbar in Step 1): 25 – 12 = 13.\n",
    "b) Divide the standard deviation (σ in Step 1) by the square root of your sample (n in Step 1): 8 / √ 4 = 4\n",
    "c) Divide your result from a by your result from b: 13 / 4 = 3.25\n",
    "\n",
    "Step 4 Use the formula from Step 3 to find the z-values. This time, use Xbar2 from Step 1 (8).\n",
    "\n",
    "a) Subtract the mean (μ in Step 1) from the greater than value (Xbar in Step 1): 8 – 12 = -4.\n",
    "b) Divide the standard deviation (σ in Step 1) by the square root of your sample (n in Step 1): 8 / √ 4 = 4\n",
    "c) Divide your result from a by your result from b: -4 / 4= -1\n",
    "\n",
    "Step 5: Look up the value you calculated in Step 3 in the z-table.\n",
    "\n",
    "Z value of 3.25 corresponds to .4994\n",
    "\n",
    "Step 6: Look up the value you calculated in Step 4 in the z-table.\n",
    "\n",
    "Z value of 1 corresponds to .3413\n",
    "\n",
    "Note that the bell curve is symmetrical, so if you want to look up a negative value like -1, then just look up the positive counterpart. The area will be the same.\n",
    "\n",
    "Step 7: Add Step 5 and 6 together:\n",
    "\n",
    ".4994 + .3413 = .8407\n",
    "\n",
    "Step 8: Convert the decimal in Step 7 to a percentage:\n",
    "\n",
    ".8407 = 84.07%\n",
    "\n",
    "Use cumulative density function.\n",
    "'''\n",
    "\n",
    "mu = 35\n",
    "std = 8\n",
    "n = 200\n",
    "\n",
    "x = std/(np.sqrt(n))\n",
    "\n",
    "\n",
    "z = (scipy.stats.norm.cdf(35, mu, x) - (scipy.stats.norm.cdf(30, mu, x)))\n",
    "print(z)\n",
    "print(scipy.stats.norm.cdf(30, mu, x))\n",
    "#This probability mean of 30 is negligible. Probably why it doesn't show up, which makes sense as it's very close to the mean. \n",
    "# Does it make sense?"
   ]
  },
  {
   "cell_type": "markdown",
   "metadata": {},
   "source": [
    "#### Step 2: What is the probability that in total, it takes more than 115 hours to deliver all 200 packages?"
   ]
  },
  {
   "cell_type": "code",
   "execution_count": 56,
   "metadata": {},
   "outputs": [
    {
     "data": {
      "text/plain": [
       "0.0"
      ]
     },
     "execution_count": 56,
     "metadata": {},
     "output_type": "execute_result"
    }
   ],
   "source": [
    "# your code here\n",
    "# So more cumulative density functions. 115 hrs = 6900 mins. Only now we're not calculating the probability of the mean, but the probability of an event.\n",
    "\n",
    "n = 6900\n",
    "\n",
    "z1 = 1 - (scipy.stats.norm.cdf(6900, mu, x))\n",
    "z1\n",
    "\n",
    "#Is this right? Would like to discuss this one. \n"
   ]
  },
  {
   "cell_type": "markdown",
   "metadata": {},
   "source": [
    "# Challenge 5 - Normal Variables\n",
    "The value (in thousands) of the monthly sales of a publishing company follows a normal distribution with a mean equal to 200 and a standard deviation equal to 40.\n",
    "\n",
    "<div align=\"center\">$X → N(200,40)$</div>\n",
    "\n",
    "**Hint**: `stats.norm.cdf` can help you find the answers.\n",
    "\n",
    "#### Step 1: Find the probability that the monthly sales are more than 300."
   ]
  },
  {
   "cell_type": "code",
   "execution_count": 59,
   "metadata": {},
   "outputs": [
    {
     "data": {
      "text/plain": [
       "0.006209665325776159"
      ]
     },
     "execution_count": 59,
     "metadata": {},
     "output_type": "execute_result"
    }
   ],
   "source": [
    "# your code here\n",
    "mu = 200\n",
    "std = 40\n",
    "\n",
    "prob = (1 - scipy.stats.norm.cdf(300, mu ,std))\n",
    "prob"
   ]
  },
  {
   "cell_type": "markdown",
   "metadata": {},
   "source": [
    "#### Step 2: Find the probability that the monthly sales fall between 160 and 240."
   ]
  },
  {
   "cell_type": "code",
   "execution_count": 60,
   "metadata": {},
   "outputs": [
    {
     "data": {
      "text/plain": [
       "0.6826894921370859"
      ]
     },
     "execution_count": 60,
     "metadata": {},
     "output_type": "execute_result"
    }
   ],
   "source": [
    "# your code here\n",
    "# So not the mean, but the probability that the actual sales fall between these values.\n",
    "prob1 = (scipy.stats.norm.cdf(240,200,40) - scipy.stats.norm.cdf(160,200,40))\n",
    "prob1"
   ]
  },
  {
   "cell_type": "markdown",
   "metadata": {},
   "source": [
    "#### Step 3: Find the probability that the monthly sales do not exceed 150."
   ]
  },
  {
   "cell_type": "code",
   "execution_count": 61,
   "metadata": {},
   "outputs": [
    {
     "data": {
      "text/plain": [
       "0.8943502263331446"
      ]
     },
     "execution_count": 61,
     "metadata": {},
     "output_type": "execute_result"
    }
   ],
   "source": [
    "# your code here.\n",
    "#This is a less than problem. \n",
    "prob2 = 1 - (scipy.stats.norm.cdf(150, 200, 40))\n",
    "prob2"
   ]
  },
  {
   "cell_type": "markdown",
   "metadata": {},
   "source": [
    "#### Step 4: Find the probability that the monthly sales exceed 3000."
   ]
  },
  {
   "cell_type": "code",
   "execution_count": 66,
   "metadata": {},
   "outputs": [
    {
     "name": "stdout",
     "output_type": "stream",
     "text": [
      "1.0\n",
      "0.0\n"
     ]
    }
   ],
   "source": [
    "# your code here\n",
    "# Greater than. \n",
    "\n",
    "prob3 = scipy.stats.norm.cdf(3000, 200, 40)\n",
    "\n",
    "#Seems odd. \n",
    "\n",
    "prob4 = (1 - scipy.stats.norm.cdf(3000, 200, 40))\n",
    "print(prob3)\n",
    "print(prob4)\n",
    "# Okay so it cannot be 1, because then the probability of less than 3000 is zero, which makes no sense as the mean is around 200. "
   ]
  },
  {
   "cell_type": "markdown",
   "metadata": {},
   "source": [
    "# Challenge 6 - Poisson distribution\n",
    "The mean number of violent robberies per month that are registered in a particular barrio is 4.\n",
    "\n",
    "**Hint**: `stats.poisson.cdf` can help you find the answers.\n",
    "\n",
    "#### Step 1: Find the probability that in a particular month there is no violent robbery."
   ]
  },
  {
   "cell_type": "code",
   "execution_count": 79,
   "metadata": {},
   "outputs": [
    {
     "data": {
      "text/plain": [
       "0.018315638888734182"
      ]
     },
     "execution_count": 79,
     "metadata": {},
     "output_type": "execute_result"
    }
   ],
   "source": [
    "# your code here\n",
    "mu = 4 \n",
    "\n",
    "prob5 = poisson.cdf(0, mu)\n",
    "prob5"
   ]
  },
  {
   "cell_type": "markdown",
   "metadata": {},
   "source": [
    "#### Step 2: Find the probability that there are at least 1 robbery in a given month."
   ]
  },
  {
   "cell_type": "code",
   "execution_count": 80,
   "metadata": {},
   "outputs": [
    {
     "data": {
      "text/plain": [
       "0.9084218055563291"
      ]
     },
     "execution_count": 80,
     "metadata": {},
     "output_type": "execute_result"
    }
   ],
   "source": [
    "# your code here\n",
    "prob6 = 1 - scipy.stats.poisson.cdf(1, mu)\n",
    "prob6"
   ]
  },
  {
   "cell_type": "markdown",
   "metadata": {},
   "source": [
    "#### Step 3: Find the probability that there are between 2 and 6 (inclusive) robberies in a given month."
   ]
  },
  {
   "cell_type": "code",
   "execution_count": 81,
   "metadata": {},
   "outputs": [
    {
     "data": {
      "text/plain": [
       "0.6512227160438819"
      ]
     },
     "execution_count": 81,
     "metadata": {},
     "output_type": "execute_result"
    }
   ],
   "source": [
    "# your code here\n",
    "p_rob_ability = (scipy.stats.poisson.cdf(6, mu)) - (scipy.stats.poisson.cdf(2, mu))\n",
    "p_rob_ability"
   ]
  },
  {
   "cell_type": "markdown",
   "metadata": {},
   "source": [
    "#### Step 4: Find the probability that there are more than 2 robberies in 15 days."
   ]
  },
  {
   "cell_type": "code",
   "execution_count": 85,
   "metadata": {},
   "outputs": [
    {
     "data": {
      "text/plain": [
       "0.3233235838169366"
      ]
     },
     "execution_count": 85,
     "metadata": {},
     "output_type": "execute_result"
    }
   ],
   "source": [
    "#X is the number of events in a given interval. Mean is 4 for 30 days (a month). \n",
    "# We need to reevalute the \"events/time * time period\" or lambda or rate variable. \n",
    "# Given rate for this problem is: (4/30)*30 = 0.00444444444\n",
    "# So let's say we want to make it events per day: (1/x)30 = 4 so x = 7.5 So on avg about 1 robbery per 7.5 days.\n",
    "# (1/7.5) * 15 = 2\n",
    "\n",
    "p_rob_ability2 = 1 - (scipy.stats.poisson.cdf(2, 2))\n",
    "p_rob_ability2"
   ]
  },
  {
   "cell_type": "markdown",
   "metadata": {},
   "source": [
    "I'm not entirely sure of the outcome above and would very much like a review of this particular topic, but working it out by hand has helped me understand better. "
   ]
  },
  {
   "cell_type": "code",
   "execution_count": null,
   "metadata": {},
   "outputs": [],
   "source": []
  }
 ],
 "metadata": {
  "anaconda-cloud": {},
  "kernelspec": {
   "display_name": "Python 3",
   "language": "python",
   "name": "python3"
  },
  "language_info": {
   "codemirror_mode": {
    "name": "ipython",
    "version": 3
   },
   "file_extension": ".py",
   "mimetype": "text/x-python",
   "name": "python",
   "nbconvert_exporter": "python",
   "pygments_lexer": "ipython3",
   "version": "3.7.4"
  }
 },
 "nbformat": 4,
 "nbformat_minor": 1
}
